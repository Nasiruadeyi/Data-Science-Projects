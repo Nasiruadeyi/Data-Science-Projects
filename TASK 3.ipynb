{
 "cells": [
  {
   "cell_type": "code",
   "execution_count": 84,
   "id": "c7f066ad",
   "metadata": {},
   "outputs": [],
   "source": [
    "import numpy as np # linear algebra\n",
    "import pandas as pd # data processing, CSV file I/O (e.g. pd.read_csv)\n",
    "import matplotlib.pyplot as plt # MATLAB-like way of plotting\n",
    "%matplotlib inline\n",
    "import seaborn as sns"
   ]
  },
  {
   "cell_type": "code",
   "execution_count": 85,
   "id": "282d15b5",
   "metadata": {},
   "outputs": [],
   "source": [
    "# sklearn package for machine learning in python:\n",
    "from sklearn.model_selection import train_test_split\n",
    "from sklearn.linear_model import LogisticRegression\n",
    "from sklearn.neural_network import MLPClassifier\n",
    "from sklearn.datasets import make_classification\n",
    "from sklearn.metrics import confusion_matrix\n",
    "from sklearn.preprocessing import LabelEncoder, MinMaxScaler, StandardScaler"
   ]
  },
  {
   "cell_type": "code",
   "execution_count": 86,
   "id": "d85e333d",
   "metadata": {},
   "outputs": [],
   "source": [
    "#read data (make sure .csv in folder)\n",
    "df = pd.read_csv('/Users/Admin/Desktop/nba_rookie_data.csv')"
   ]
  },
  {
   "cell_type": "code",
   "execution_count": 87,
   "id": "37fad92c",
   "metadata": {},
   "outputs": [
    {
     "data": {
      "text/plain": [
       "1340"
      ]
     },
     "execution_count": 87,
     "metadata": {},
     "output_type": "execute_result"
    }
   ],
   "source": [
    "len(df)"
   ]
  },
  {
   "cell_type": "code",
   "execution_count": 88,
   "id": "7f57bf38",
   "metadata": {},
   "outputs": [
    {
     "name": "stdout",
     "output_type": "stream",
     "text": [
      "              Name  Games Played  Minutes Played  Points Per Game  \\\n",
      "0   Brandon Ingram            36            27.4              7.4   \n",
      "1  Andrew Harrison            35            26.9              7.2   \n",
      "2   JaKarr Sampson            74            15.3              5.2   \n",
      "3      Malik Sealy            58            11.6              5.7   \n",
      "4      Matt Geiger            48            11.5              4.5   \n",
      "\n",
      "   Field Goals Made  Field Goal Attempts  Field Goal Percent  3 Point Made  \\\n",
      "0               2.6                  7.6                34.7           0.5   \n",
      "1               2.0                  6.7                29.6           0.7   \n",
      "2               2.0                  4.7                42.2           0.4   \n",
      "3               2.3                  5.5                42.6           0.1   \n",
      "4               1.6                  3.0                52.4           0.0   \n",
      "\n",
      "   3 Point Attempt  3 Point Percent  ...  Free Throw Attempts  \\\n",
      "0              2.1             25.0  ...                  2.3   \n",
      "1              2.8             23.5  ...                  3.4   \n",
      "2              1.7             24.4  ...                  1.3   \n",
      "3              0.5             22.6  ...                  1.3   \n",
      "4              0.1              0.0  ...                  1.9   \n",
      "\n",
      "   Free Throw Percent  Offensive Rebounds  Defensive Rebounds  Rebounds  \\\n",
      "0                69.9                 0.7                 3.4       4.1   \n",
      "1                76.5                 0.5                 2.0       2.4   \n",
      "2                67.0                 0.5                 1.7       2.2   \n",
      "3                68.9                 1.0                 0.9       1.9   \n",
      "4                67.4                 1.0                 1.5       2.5   \n",
      "\n",
      "   Assists  Steals  Blocks  Turnovers  TARGET_5Yrs  \n",
      "0      1.9     0.4     0.4        1.3            0  \n",
      "1      3.7     1.1     0.5        1.6            0  \n",
      "2      1.0     0.5     0.3        1.0            0  \n",
      "3      0.8     0.6     0.1        1.0            1  \n",
      "4      0.3     0.3     0.4        0.8            1  \n",
      "\n",
      "[5 rows x 21 columns]\n"
     ]
    }
   ],
   "source": [
    "print(df.head())"
   ]
  },
  {
   "cell_type": "code",
   "execution_count": 89,
   "id": "ee34032b",
   "metadata": {},
   "outputs": [
    {
     "data": {
      "text/plain": [
       "RangeIndex(start=0, stop=1340, step=1)"
      ]
     },
     "execution_count": 89,
     "metadata": {},
     "output_type": "execute_result"
    }
   ],
   "source": [
    "df.index"
   ]
  },
  {
   "cell_type": "code",
   "execution_count": 90,
   "id": "4ef6b0e4",
   "metadata": {},
   "outputs": [
    {
     "data": {
      "text/plain": [
       "Index(['Name', 'Games Played', 'Minutes Played', 'Points Per Game',\n",
       "       'Field Goals Made', 'Field Goal Attempts', 'Field Goal Percent',\n",
       "       '3 Point Made', '3 Point Attempt', '3 Point Percent', 'Free Throw Made',\n",
       "       'Free Throw Attempts', 'Free Throw Percent', 'Offensive Rebounds',\n",
       "       'Defensive Rebounds', 'Rebounds', 'Assists', 'Steals', 'Blocks',\n",
       "       'Turnovers', 'TARGET_5Yrs'],\n",
       "      dtype='object')"
      ]
     },
     "execution_count": 90,
     "metadata": {},
     "output_type": "execute_result"
    }
   ],
   "source": [
    "df.columns"
   ]
  },
  {
   "cell_type": "code",
   "execution_count": 91,
   "id": "9b4d1cb3",
   "metadata": {},
   "outputs": [
    {
     "name": "stdout",
     "output_type": "stream",
     "text": [
      "<class 'pandas.core.frame.DataFrame'>\n",
      "RangeIndex: 1340 entries, 0 to 1339\n",
      "Data columns (total 21 columns):\n",
      " #   Column               Non-Null Count  Dtype  \n",
      "---  ------               --------------  -----  \n",
      " 0   Name                 1340 non-null   object \n",
      " 1   Games Played         1340 non-null   int64  \n",
      " 2   Minutes Played       1340 non-null   float64\n",
      " 3   Points Per Game      1340 non-null   float64\n",
      " 4   Field Goals Made     1340 non-null   float64\n",
      " 5   Field Goal Attempts  1340 non-null   float64\n",
      " 6   Field Goal Percent   1340 non-null   float64\n",
      " 7   3 Point Made         1340 non-null   float64\n",
      " 8   3 Point Attempt      1340 non-null   float64\n",
      " 9   3 Point Percent      1329 non-null   float64\n",
      " 10  Free Throw Made      1340 non-null   float64\n",
      " 11  Free Throw Attempts  1340 non-null   float64\n",
      " 12  Free Throw Percent   1340 non-null   float64\n",
      " 13  Offensive Rebounds   1340 non-null   float64\n",
      " 14  Defensive Rebounds   1340 non-null   float64\n",
      " 15  Rebounds             1340 non-null   float64\n",
      " 16  Assists              1340 non-null   float64\n",
      " 17  Steals               1340 non-null   float64\n",
      " 18  Blocks               1340 non-null   float64\n",
      " 19  Turnovers            1340 non-null   float64\n",
      " 20  TARGET_5Yrs          1340 non-null   int64  \n",
      "dtypes: float64(18), int64(2), object(1)\n",
      "memory usage: 220.0+ KB\n"
     ]
    }
   ],
   "source": [
    "df.info()"
   ]
  },
  {
   "cell_type": "code",
   "execution_count": 92,
   "id": "a40e8a2e",
   "metadata": {},
   "outputs": [
    {
     "data": {
      "text/html": [
       "<div>\n",
       "<style scoped>\n",
       "    .dataframe tbody tr th:only-of-type {\n",
       "        vertical-align: middle;\n",
       "    }\n",
       "\n",
       "    .dataframe tbody tr th {\n",
       "        vertical-align: top;\n",
       "    }\n",
       "\n",
       "    .dataframe thead th {\n",
       "        text-align: right;\n",
       "    }\n",
       "</style>\n",
       "<table border=\"1\" class=\"dataframe\">\n",
       "  <thead>\n",
       "    <tr style=\"text-align: right;\">\n",
       "      <th></th>\n",
       "      <th>Games Played</th>\n",
       "      <th>Minutes Played</th>\n",
       "      <th>Points Per Game</th>\n",
       "      <th>Field Goals Made</th>\n",
       "      <th>Field Goal Attempts</th>\n",
       "      <th>Field Goal Percent</th>\n",
       "      <th>3 Point Made</th>\n",
       "      <th>3 Point Attempt</th>\n",
       "      <th>3 Point Percent</th>\n",
       "      <th>Free Throw Made</th>\n",
       "      <th>Free Throw Attempts</th>\n",
       "      <th>Free Throw Percent</th>\n",
       "      <th>Offensive Rebounds</th>\n",
       "      <th>Defensive Rebounds</th>\n",
       "      <th>Rebounds</th>\n",
       "      <th>Assists</th>\n",
       "      <th>Steals</th>\n",
       "      <th>Blocks</th>\n",
       "      <th>Turnovers</th>\n",
       "      <th>TARGET_5Yrs</th>\n",
       "    </tr>\n",
       "  </thead>\n",
       "  <tbody>\n",
       "    <tr>\n",
       "      <th>count</th>\n",
       "      <td>1340.000000</td>\n",
       "      <td>1340.000000</td>\n",
       "      <td>1340.000000</td>\n",
       "      <td>1340.000000</td>\n",
       "      <td>1340.000000</td>\n",
       "      <td>1340.000000</td>\n",
       "      <td>1340.000000</td>\n",
       "      <td>1340.000000</td>\n",
       "      <td>1329.000000</td>\n",
       "      <td>1340.000000</td>\n",
       "      <td>1340.000000</td>\n",
       "      <td>1340.000000</td>\n",
       "      <td>1340.000000</td>\n",
       "      <td>1340.000000</td>\n",
       "      <td>1340.000000</td>\n",
       "      <td>1340.000000</td>\n",
       "      <td>1340.000000</td>\n",
       "      <td>1340.000000</td>\n",
       "      <td>1340.000000</td>\n",
       "      <td>1340.000000</td>\n",
       "    </tr>\n",
       "    <tr>\n",
       "      <th>mean</th>\n",
       "      <td>60.414179</td>\n",
       "      <td>17.624627</td>\n",
       "      <td>6.801493</td>\n",
       "      <td>2.629104</td>\n",
       "      <td>5.885299</td>\n",
       "      <td>44.169403</td>\n",
       "      <td>0.247612</td>\n",
       "      <td>0.779179</td>\n",
       "      <td>19.308126</td>\n",
       "      <td>1.297687</td>\n",
       "      <td>1.821940</td>\n",
       "      <td>70.300299</td>\n",
       "      <td>1.009403</td>\n",
       "      <td>2.025746</td>\n",
       "      <td>3.034478</td>\n",
       "      <td>1.550522</td>\n",
       "      <td>0.618507</td>\n",
       "      <td>0.368582</td>\n",
       "      <td>1.193582</td>\n",
       "      <td>0.620149</td>\n",
       "    </tr>\n",
       "    <tr>\n",
       "      <th>std</th>\n",
       "      <td>17.433992</td>\n",
       "      <td>8.307964</td>\n",
       "      <td>4.357545</td>\n",
       "      <td>1.683555</td>\n",
       "      <td>3.593488</td>\n",
       "      <td>6.137679</td>\n",
       "      <td>0.383688</td>\n",
       "      <td>1.061847</td>\n",
       "      <td>16.022916</td>\n",
       "      <td>0.987246</td>\n",
       "      <td>1.322984</td>\n",
       "      <td>10.578479</td>\n",
       "      <td>0.777119</td>\n",
       "      <td>1.360008</td>\n",
       "      <td>2.057774</td>\n",
       "      <td>1.471169</td>\n",
       "      <td>0.409759</td>\n",
       "      <td>0.429049</td>\n",
       "      <td>0.722541</td>\n",
       "      <td>0.485531</td>\n",
       "    </tr>\n",
       "    <tr>\n",
       "      <th>min</th>\n",
       "      <td>11.000000</td>\n",
       "      <td>3.100000</td>\n",
       "      <td>0.700000</td>\n",
       "      <td>0.300000</td>\n",
       "      <td>0.800000</td>\n",
       "      <td>23.800000</td>\n",
       "      <td>0.000000</td>\n",
       "      <td>0.000000</td>\n",
       "      <td>0.000000</td>\n",
       "      <td>0.000000</td>\n",
       "      <td>0.000000</td>\n",
       "      <td>0.000000</td>\n",
       "      <td>0.000000</td>\n",
       "      <td>0.200000</td>\n",
       "      <td>0.300000</td>\n",
       "      <td>0.000000</td>\n",
       "      <td>0.000000</td>\n",
       "      <td>0.000000</td>\n",
       "      <td>0.100000</td>\n",
       "      <td>0.000000</td>\n",
       "    </tr>\n",
       "    <tr>\n",
       "      <th>25%</th>\n",
       "      <td>47.000000</td>\n",
       "      <td>10.875000</td>\n",
       "      <td>3.700000</td>\n",
       "      <td>1.400000</td>\n",
       "      <td>3.300000</td>\n",
       "      <td>40.200000</td>\n",
       "      <td>0.000000</td>\n",
       "      <td>0.000000</td>\n",
       "      <td>0.000000</td>\n",
       "      <td>0.600000</td>\n",
       "      <td>0.900000</td>\n",
       "      <td>64.700000</td>\n",
       "      <td>0.400000</td>\n",
       "      <td>1.000000</td>\n",
       "      <td>1.500000</td>\n",
       "      <td>0.600000</td>\n",
       "      <td>0.300000</td>\n",
       "      <td>0.100000</td>\n",
       "      <td>0.700000</td>\n",
       "      <td>0.000000</td>\n",
       "    </tr>\n",
       "    <tr>\n",
       "      <th>50%</th>\n",
       "      <td>63.000000</td>\n",
       "      <td>16.100000</td>\n",
       "      <td>5.550000</td>\n",
       "      <td>2.100000</td>\n",
       "      <td>4.800000</td>\n",
       "      <td>44.100000</td>\n",
       "      <td>0.100000</td>\n",
       "      <td>0.300000</td>\n",
       "      <td>22.400000</td>\n",
       "      <td>1.000000</td>\n",
       "      <td>1.500000</td>\n",
       "      <td>71.250000</td>\n",
       "      <td>0.800000</td>\n",
       "      <td>1.700000</td>\n",
       "      <td>2.500000</td>\n",
       "      <td>1.100000</td>\n",
       "      <td>0.500000</td>\n",
       "      <td>0.200000</td>\n",
       "      <td>1.000000</td>\n",
       "      <td>1.000000</td>\n",
       "    </tr>\n",
       "    <tr>\n",
       "      <th>75%</th>\n",
       "      <td>77.000000</td>\n",
       "      <td>22.900000</td>\n",
       "      <td>8.800000</td>\n",
       "      <td>3.400000</td>\n",
       "      <td>7.500000</td>\n",
       "      <td>47.900000</td>\n",
       "      <td>0.400000</td>\n",
       "      <td>1.200000</td>\n",
       "      <td>32.500000</td>\n",
       "      <td>1.600000</td>\n",
       "      <td>2.300000</td>\n",
       "      <td>77.600000</td>\n",
       "      <td>1.400000</td>\n",
       "      <td>2.600000</td>\n",
       "      <td>4.000000</td>\n",
       "      <td>2.000000</td>\n",
       "      <td>0.800000</td>\n",
       "      <td>0.500000</td>\n",
       "      <td>1.500000</td>\n",
       "      <td>1.000000</td>\n",
       "    </tr>\n",
       "    <tr>\n",
       "      <th>max</th>\n",
       "      <td>82.000000</td>\n",
       "      <td>40.900000</td>\n",
       "      <td>28.200000</td>\n",
       "      <td>10.200000</td>\n",
       "      <td>19.800000</td>\n",
       "      <td>73.700000</td>\n",
       "      <td>2.300000</td>\n",
       "      <td>6.500000</td>\n",
       "      <td>100.000000</td>\n",
       "      <td>7.700000</td>\n",
       "      <td>10.200000</td>\n",
       "      <td>100.000000</td>\n",
       "      <td>5.300000</td>\n",
       "      <td>9.600000</td>\n",
       "      <td>13.900000</td>\n",
       "      <td>10.600000</td>\n",
       "      <td>2.500000</td>\n",
       "      <td>3.900000</td>\n",
       "      <td>4.400000</td>\n",
       "      <td>1.000000</td>\n",
       "    </tr>\n",
       "  </tbody>\n",
       "</table>\n",
       "</div>"
      ],
      "text/plain": [
       "       Games Played  Minutes Played  Points Per Game  Field Goals Made  \\\n",
       "count   1340.000000     1340.000000      1340.000000       1340.000000   \n",
       "mean      60.414179       17.624627         6.801493          2.629104   \n",
       "std       17.433992        8.307964         4.357545          1.683555   \n",
       "min       11.000000        3.100000         0.700000          0.300000   \n",
       "25%       47.000000       10.875000         3.700000          1.400000   \n",
       "50%       63.000000       16.100000         5.550000          2.100000   \n",
       "75%       77.000000       22.900000         8.800000          3.400000   \n",
       "max       82.000000       40.900000        28.200000         10.200000   \n",
       "\n",
       "       Field Goal Attempts  Field Goal Percent  3 Point Made  3 Point Attempt  \\\n",
       "count          1340.000000         1340.000000   1340.000000      1340.000000   \n",
       "mean              5.885299           44.169403      0.247612         0.779179   \n",
       "std               3.593488            6.137679      0.383688         1.061847   \n",
       "min               0.800000           23.800000      0.000000         0.000000   \n",
       "25%               3.300000           40.200000      0.000000         0.000000   \n",
       "50%               4.800000           44.100000      0.100000         0.300000   \n",
       "75%               7.500000           47.900000      0.400000         1.200000   \n",
       "max              19.800000           73.700000      2.300000         6.500000   \n",
       "\n",
       "       3 Point Percent  Free Throw Made  Free Throw Attempts  \\\n",
       "count      1329.000000      1340.000000          1340.000000   \n",
       "mean         19.308126         1.297687             1.821940   \n",
       "std          16.022916         0.987246             1.322984   \n",
       "min           0.000000         0.000000             0.000000   \n",
       "25%           0.000000         0.600000             0.900000   \n",
       "50%          22.400000         1.000000             1.500000   \n",
       "75%          32.500000         1.600000             2.300000   \n",
       "max         100.000000         7.700000            10.200000   \n",
       "\n",
       "       Free Throw Percent  Offensive Rebounds  Defensive Rebounds  \\\n",
       "count         1340.000000         1340.000000         1340.000000   \n",
       "mean            70.300299            1.009403            2.025746   \n",
       "std             10.578479            0.777119            1.360008   \n",
       "min              0.000000            0.000000            0.200000   \n",
       "25%             64.700000            0.400000            1.000000   \n",
       "50%             71.250000            0.800000            1.700000   \n",
       "75%             77.600000            1.400000            2.600000   \n",
       "max            100.000000            5.300000            9.600000   \n",
       "\n",
       "          Rebounds      Assists       Steals       Blocks    Turnovers  \\\n",
       "count  1340.000000  1340.000000  1340.000000  1340.000000  1340.000000   \n",
       "mean      3.034478     1.550522     0.618507     0.368582     1.193582   \n",
       "std       2.057774     1.471169     0.409759     0.429049     0.722541   \n",
       "min       0.300000     0.000000     0.000000     0.000000     0.100000   \n",
       "25%       1.500000     0.600000     0.300000     0.100000     0.700000   \n",
       "50%       2.500000     1.100000     0.500000     0.200000     1.000000   \n",
       "75%       4.000000     2.000000     0.800000     0.500000     1.500000   \n",
       "max      13.900000    10.600000     2.500000     3.900000     4.400000   \n",
       "\n",
       "       TARGET_5Yrs  \n",
       "count  1340.000000  \n",
       "mean      0.620149  \n",
       "std       0.485531  \n",
       "min       0.000000  \n",
       "25%       0.000000  \n",
       "50%       1.000000  \n",
       "75%       1.000000  \n",
       "max       1.000000  "
      ]
     },
     "execution_count": 92,
     "metadata": {},
     "output_type": "execute_result"
    }
   ],
   "source": [
    "df.describe()"
   ]
  },
  {
   "cell_type": "code",
   "execution_count": 93,
   "id": "ed48cda4",
   "metadata": {},
   "outputs": [
    {
     "data": {
      "text/plain": [
       "Name                    object\n",
       "Games Played             int64\n",
       "Minutes Played         float64\n",
       "Points Per Game        float64\n",
       "Field Goals Made       float64\n",
       "Field Goal Attempts    float64\n",
       "Field Goal Percent     float64\n",
       "3 Point Made           float64\n",
       "3 Point Attempt        float64\n",
       "3 Point Percent        float64\n",
       "Free Throw Made        float64\n",
       "Free Throw Attempts    float64\n",
       "Free Throw Percent     float64\n",
       "Offensive Rebounds     float64\n",
       "Defensive Rebounds     float64\n",
       "Rebounds               float64\n",
       "Assists                float64\n",
       "Steals                 float64\n",
       "Blocks                 float64\n",
       "Turnovers              float64\n",
       "TARGET_5Yrs              int64\n",
       "dtype: object"
      ]
     },
     "execution_count": 93,
     "metadata": {},
     "output_type": "execute_result"
    }
   ],
   "source": [
    "df.dtypes"
   ]
  },
  {
   "cell_type": "code",
   "execution_count": 94,
   "id": "6bb9856f",
   "metadata": {},
   "outputs": [
    {
     "name": "stderr",
     "output_type": "stream",
     "text": [
      "C:\\Users\\Admin\\AppData\\Local\\Temp\\ipykernel_41360\\1431176554.py:2: FutureWarning: The default value of numeric_only in DataFrame.corr is deprecated. In a future version, it will default to False. Select only valid columns or specify the value of numeric_only to silence this warning.\n",
      "  df.corr()\n"
     ]
    },
    {
     "data": {
      "text/html": [
       "<div>\n",
       "<style scoped>\n",
       "    .dataframe tbody tr th:only-of-type {\n",
       "        vertical-align: middle;\n",
       "    }\n",
       "\n",
       "    .dataframe tbody tr th {\n",
       "        vertical-align: top;\n",
       "    }\n",
       "\n",
       "    .dataframe thead th {\n",
       "        text-align: right;\n",
       "    }\n",
       "</style>\n",
       "<table border=\"1\" class=\"dataframe\">\n",
       "  <thead>\n",
       "    <tr style=\"text-align: right;\">\n",
       "      <th></th>\n",
       "      <th>Games Played</th>\n",
       "      <th>Minutes Played</th>\n",
       "      <th>Points Per Game</th>\n",
       "      <th>Field Goals Made</th>\n",
       "      <th>Field Goal Attempts</th>\n",
       "      <th>Field Goal Percent</th>\n",
       "      <th>3 Point Made</th>\n",
       "      <th>3 Point Attempt</th>\n",
       "      <th>3 Point Percent</th>\n",
       "      <th>Free Throw Made</th>\n",
       "      <th>Free Throw Attempts</th>\n",
       "      <th>Free Throw Percent</th>\n",
       "      <th>Offensive Rebounds</th>\n",
       "      <th>Defensive Rebounds</th>\n",
       "      <th>Rebounds</th>\n",
       "      <th>Assists</th>\n",
       "      <th>Steals</th>\n",
       "      <th>Blocks</th>\n",
       "      <th>Turnovers</th>\n",
       "      <th>TARGET_5Yrs</th>\n",
       "    </tr>\n",
       "  </thead>\n",
       "  <tbody>\n",
       "    <tr>\n",
       "      <th>Games Played</th>\n",
       "      <td>1.000000</td>\n",
       "      <td>0.590240</td>\n",
       "      <td>0.538471</td>\n",
       "      <td>0.542724</td>\n",
       "      <td>0.516625</td>\n",
       "      <td>0.296289</td>\n",
       "      <td>0.107423</td>\n",
       "      <td>0.098772</td>\n",
       "      <td>0.038209</td>\n",
       "      <td>0.482123</td>\n",
       "      <td>0.479487</td>\n",
       "      <td>0.196299</td>\n",
       "      <td>0.401136</td>\n",
       "      <td>0.466840</td>\n",
       "      <td>0.460406</td>\n",
       "      <td>0.372749</td>\n",
       "      <td>0.451137</td>\n",
       "      <td>0.276498</td>\n",
       "      <td>0.518167</td>\n",
       "      <td>0.396833</td>\n",
       "    </tr>\n",
       "    <tr>\n",
       "      <th>Minutes Played</th>\n",
       "      <td>0.590240</td>\n",
       "      <td>1.000000</td>\n",
       "      <td>0.911822</td>\n",
       "      <td>0.903060</td>\n",
       "      <td>0.910247</td>\n",
       "      <td>0.203901</td>\n",
       "      <td>0.389920</td>\n",
       "      <td>0.403258</td>\n",
       "      <td>0.165997</td>\n",
       "      <td>0.791000</td>\n",
       "      <td>0.779609</td>\n",
       "      <td>0.239878</td>\n",
       "      <td>0.573062</td>\n",
       "      <td>0.745513</td>\n",
       "      <td>0.709707</td>\n",
       "      <td>0.629015</td>\n",
       "      <td>0.757034</td>\n",
       "      <td>0.399088</td>\n",
       "      <td>0.826500</td>\n",
       "      <td>0.317805</td>\n",
       "    </tr>\n",
       "    <tr>\n",
       "      <th>Points Per Game</th>\n",
       "      <td>0.538471</td>\n",
       "      <td>0.911822</td>\n",
       "      <td>1.000000</td>\n",
       "      <td>0.990834</td>\n",
       "      <td>0.979733</td>\n",
       "      <td>0.255333</td>\n",
       "      <td>0.346682</td>\n",
       "      <td>0.356751</td>\n",
       "      <td>0.151072</td>\n",
       "      <td>0.896297</td>\n",
       "      <td>0.880703</td>\n",
       "      <td>0.258931</td>\n",
       "      <td>0.575106</td>\n",
       "      <td>0.693934</td>\n",
       "      <td>0.676849</td>\n",
       "      <td>0.552338</td>\n",
       "      <td>0.675341</td>\n",
       "      <td>0.387043</td>\n",
       "      <td>0.850366</td>\n",
       "      <td>0.315981</td>\n",
       "    </tr>\n",
       "    <tr>\n",
       "      <th>Field Goals Made</th>\n",
       "      <td>0.542724</td>\n",
       "      <td>0.903060</td>\n",
       "      <td>0.990834</td>\n",
       "      <td>1.000000</td>\n",
       "      <td>0.980050</td>\n",
       "      <td>0.291693</td>\n",
       "      <td>0.289007</td>\n",
       "      <td>0.299057</td>\n",
       "      <td>0.119493</td>\n",
       "      <td>0.848019</td>\n",
       "      <td>0.840408</td>\n",
       "      <td>0.223566</td>\n",
       "      <td>0.596687</td>\n",
       "      <td>0.703278</td>\n",
       "      <td>0.691186</td>\n",
       "      <td>0.532534</td>\n",
       "      <td>0.662640</td>\n",
       "      <td>0.398125</td>\n",
       "      <td>0.834352</td>\n",
       "      <td>0.317594</td>\n",
       "    </tr>\n",
       "    <tr>\n",
       "      <th>Field Goal Attempts</th>\n",
       "      <td>0.516625</td>\n",
       "      <td>0.910247</td>\n",
       "      <td>0.979733</td>\n",
       "      <td>0.980050</td>\n",
       "      <td>1.000000</td>\n",
       "      <td>0.129798</td>\n",
       "      <td>0.390253</td>\n",
       "      <td>0.413560</td>\n",
       "      <td>0.197160</td>\n",
       "      <td>0.826616</td>\n",
       "      <td>0.805559</td>\n",
       "      <td>0.269614</td>\n",
       "      <td>0.504212</td>\n",
       "      <td>0.640123</td>\n",
       "      <td>0.614328</td>\n",
       "      <td>0.589818</td>\n",
       "      <td>0.690168</td>\n",
       "      <td>0.322184</td>\n",
       "      <td>0.845989</td>\n",
       "      <td>0.292660</td>\n",
       "    </tr>\n",
       "    <tr>\n",
       "      <th>Field Goal Percent</th>\n",
       "      <td>0.296289</td>\n",
       "      <td>0.203901</td>\n",
       "      <td>0.255333</td>\n",
       "      <td>0.291693</td>\n",
       "      <td>0.129798</td>\n",
       "      <td>1.000000</td>\n",
       "      <td>-0.294471</td>\n",
       "      <td>-0.350658</td>\n",
       "      <td>-0.330690</td>\n",
       "      <td>0.245776</td>\n",
       "      <td>0.300154</td>\n",
       "      <td>-0.161183</td>\n",
       "      <td>0.511367</td>\n",
       "      <td>0.410555</td>\n",
       "      <td>0.465423</td>\n",
       "      <td>-0.108797</td>\n",
       "      <td>0.056658</td>\n",
       "      <td>0.391626</td>\n",
       "      <td>0.121806</td>\n",
       "      <td>0.227134</td>\n",
       "    </tr>\n",
       "    <tr>\n",
       "      <th>3 Point Made</th>\n",
       "      <td>0.107423</td>\n",
       "      <td>0.389920</td>\n",
       "      <td>0.346682</td>\n",
       "      <td>0.289007</td>\n",
       "      <td>0.390253</td>\n",
       "      <td>-0.294471</td>\n",
       "      <td>1.000000</td>\n",
       "      <td>0.982616</td>\n",
       "      <td>0.589855</td>\n",
       "      <td>0.158472</td>\n",
       "      <td>0.095396</td>\n",
       "      <td>0.314355</td>\n",
       "      <td>-0.219010</td>\n",
       "      <td>0.016570</td>\n",
       "      <td>-0.072503</td>\n",
       "      <td>0.376604</td>\n",
       "      <td>0.306908</td>\n",
       "      <td>-0.158535</td>\n",
       "      <td>0.258369</td>\n",
       "      <td>0.036619</td>\n",
       "    </tr>\n",
       "    <tr>\n",
       "      <th>3 Point Attempt</th>\n",
       "      <td>0.098772</td>\n",
       "      <td>0.403258</td>\n",
       "      <td>0.356751</td>\n",
       "      <td>0.299057</td>\n",
       "      <td>0.413560</td>\n",
       "      <td>-0.350658</td>\n",
       "      <td>0.982616</td>\n",
       "      <td>1.000000</td>\n",
       "      <td>0.582337</td>\n",
       "      <td>0.173533</td>\n",
       "      <td>0.108388</td>\n",
       "      <td>0.323612</td>\n",
       "      <td>-0.231897</td>\n",
       "      <td>0.011226</td>\n",
       "      <td>-0.080939</td>\n",
       "      <td>0.410531</td>\n",
       "      <td>0.338631</td>\n",
       "      <td>-0.172150</td>\n",
       "      <td>0.283925</td>\n",
       "      <td>0.018110</td>\n",
       "    </tr>\n",
       "    <tr>\n",
       "      <th>3 Point Percent</th>\n",
       "      <td>0.038209</td>\n",
       "      <td>0.165997</td>\n",
       "      <td>0.151072</td>\n",
       "      <td>0.119493</td>\n",
       "      <td>0.197160</td>\n",
       "      <td>-0.330690</td>\n",
       "      <td>0.589855</td>\n",
       "      <td>0.582337</td>\n",
       "      <td>1.000000</td>\n",
       "      <td>0.030320</td>\n",
       "      <td>-0.032333</td>\n",
       "      <td>0.326372</td>\n",
       "      <td>-0.288759</td>\n",
       "      <td>-0.122949</td>\n",
       "      <td>-0.191071</td>\n",
       "      <td>0.262120</td>\n",
       "      <td>0.194329</td>\n",
       "      <td>-0.242274</td>\n",
       "      <td>0.108277</td>\n",
       "      <td>-0.003411</td>\n",
       "    </tr>\n",
       "    <tr>\n",
       "      <th>Free Throw Made</th>\n",
       "      <td>0.482123</td>\n",
       "      <td>0.791000</td>\n",
       "      <td>0.896297</td>\n",
       "      <td>0.848019</td>\n",
       "      <td>0.826616</td>\n",
       "      <td>0.245776</td>\n",
       "      <td>0.158472</td>\n",
       "      <td>0.173533</td>\n",
       "      <td>0.030320</td>\n",
       "      <td>1.000000</td>\n",
       "      <td>0.980505</td>\n",
       "      <td>0.257818</td>\n",
       "      <td>0.583865</td>\n",
       "      <td>0.653823</td>\n",
       "      <td>0.653833</td>\n",
       "      <td>0.476214</td>\n",
       "      <td>0.600158</td>\n",
       "      <td>0.407466</td>\n",
       "      <td>0.804990</td>\n",
       "      <td>0.296841</td>\n",
       "    </tr>\n",
       "    <tr>\n",
       "      <th>Free Throw Attempts</th>\n",
       "      <td>0.479487</td>\n",
       "      <td>0.779609</td>\n",
       "      <td>0.880703</td>\n",
       "      <td>0.840408</td>\n",
       "      <td>0.805559</td>\n",
       "      <td>0.300154</td>\n",
       "      <td>0.095396</td>\n",
       "      <td>0.108388</td>\n",
       "      <td>-0.032333</td>\n",
       "      <td>0.980505</td>\n",
       "      <td>1.000000</td>\n",
       "      <td>0.114872</td>\n",
       "      <td>0.653445</td>\n",
       "      <td>0.700863</td>\n",
       "      <td>0.711425</td>\n",
       "      <td>0.428624</td>\n",
       "      <td>0.580065</td>\n",
       "      <td>0.468974</td>\n",
       "      <td>0.798936</td>\n",
       "      <td>0.296089</td>\n",
       "    </tr>\n",
       "    <tr>\n",
       "      <th>Free Throw Percent</th>\n",
       "      <td>0.196299</td>\n",
       "      <td>0.239878</td>\n",
       "      <td>0.258931</td>\n",
       "      <td>0.223566</td>\n",
       "      <td>0.269614</td>\n",
       "      <td>-0.161183</td>\n",
       "      <td>0.314355</td>\n",
       "      <td>0.323612</td>\n",
       "      <td>0.326372</td>\n",
       "      <td>0.257818</td>\n",
       "      <td>0.114872</td>\n",
       "      <td>1.000000</td>\n",
       "      <td>-0.146786</td>\n",
       "      <td>-0.022905</td>\n",
       "      <td>-0.071105</td>\n",
       "      <td>0.296315</td>\n",
       "      <td>0.207205</td>\n",
       "      <td>-0.161152</td>\n",
       "      <td>0.199742</td>\n",
       "      <td>0.106706</td>\n",
       "    </tr>\n",
       "    <tr>\n",
       "      <th>Offensive Rebounds</th>\n",
       "      <td>0.401136</td>\n",
       "      <td>0.573062</td>\n",
       "      <td>0.575106</td>\n",
       "      <td>0.596687</td>\n",
       "      <td>0.504212</td>\n",
       "      <td>0.511367</td>\n",
       "      <td>-0.219010</td>\n",
       "      <td>-0.231897</td>\n",
       "      <td>-0.288759</td>\n",
       "      <td>0.583865</td>\n",
       "      <td>0.653445</td>\n",
       "      <td>-0.146786</td>\n",
       "      <td>1.000000</td>\n",
       "      <td>0.838580</td>\n",
       "      <td>0.932694</td>\n",
       "      <td>-0.012109</td>\n",
       "      <td>0.286545</td>\n",
       "      <td>0.648346</td>\n",
       "      <td>0.421695</td>\n",
       "      <td>0.293307</td>\n",
       "    </tr>\n",
       "    <tr>\n",
       "      <th>Defensive Rebounds</th>\n",
       "      <td>0.466840</td>\n",
       "      <td>0.745513</td>\n",
       "      <td>0.693934</td>\n",
       "      <td>0.703278</td>\n",
       "      <td>0.640123</td>\n",
       "      <td>0.410555</td>\n",
       "      <td>0.016570</td>\n",
       "      <td>0.011226</td>\n",
       "      <td>-0.122949</td>\n",
       "      <td>0.653823</td>\n",
       "      <td>0.700863</td>\n",
       "      <td>-0.022905</td>\n",
       "      <td>0.838580</td>\n",
       "      <td>1.000000</td>\n",
       "      <td>0.978177</td>\n",
       "      <td>0.186679</td>\n",
       "      <td>0.411894</td>\n",
       "      <td>0.688135</td>\n",
       "      <td>0.570187</td>\n",
       "      <td>0.284677</td>\n",
       "    </tr>\n",
       "    <tr>\n",
       "      <th>Rebounds</th>\n",
       "      <td>0.460406</td>\n",
       "      <td>0.709707</td>\n",
       "      <td>0.676849</td>\n",
       "      <td>0.691186</td>\n",
       "      <td>0.614328</td>\n",
       "      <td>0.465423</td>\n",
       "      <td>-0.072503</td>\n",
       "      <td>-0.080939</td>\n",
       "      <td>-0.191071</td>\n",
       "      <td>0.653833</td>\n",
       "      <td>0.711425</td>\n",
       "      <td>-0.071105</td>\n",
       "      <td>0.932694</td>\n",
       "      <td>0.978177</td>\n",
       "      <td>1.000000</td>\n",
       "      <td>0.119081</td>\n",
       "      <td>0.381154</td>\n",
       "      <td>0.699672</td>\n",
       "      <td>0.536716</td>\n",
       "      <td>0.299406</td>\n",
       "    </tr>\n",
       "    <tr>\n",
       "      <th>Assists</th>\n",
       "      <td>0.372749</td>\n",
       "      <td>0.629015</td>\n",
       "      <td>0.552338</td>\n",
       "      <td>0.532534</td>\n",
       "      <td>0.589818</td>\n",
       "      <td>-0.108797</td>\n",
       "      <td>0.376604</td>\n",
       "      <td>0.410531</td>\n",
       "      <td>0.262120</td>\n",
       "      <td>0.476214</td>\n",
       "      <td>0.428624</td>\n",
       "      <td>0.296315</td>\n",
       "      <td>-0.012109</td>\n",
       "      <td>0.186679</td>\n",
       "      <td>0.119081</td>\n",
       "      <td>1.000000</td>\n",
       "      <td>0.751289</td>\n",
       "      <td>-0.086470</td>\n",
       "      <td>0.747286</td>\n",
       "      <td>0.175353</td>\n",
       "    </tr>\n",
       "    <tr>\n",
       "      <th>Steals</th>\n",
       "      <td>0.451137</td>\n",
       "      <td>0.757034</td>\n",
       "      <td>0.675341</td>\n",
       "      <td>0.662640</td>\n",
       "      <td>0.690168</td>\n",
       "      <td>0.056658</td>\n",
       "      <td>0.306908</td>\n",
       "      <td>0.338631</td>\n",
       "      <td>0.194329</td>\n",
       "      <td>0.600158</td>\n",
       "      <td>0.580065</td>\n",
       "      <td>0.207205</td>\n",
       "      <td>0.286545</td>\n",
       "      <td>0.411894</td>\n",
       "      <td>0.381154</td>\n",
       "      <td>0.751289</td>\n",
       "      <td>1.000000</td>\n",
       "      <td>0.133808</td>\n",
       "      <td>0.741988</td>\n",
       "      <td>0.229811</td>\n",
       "    </tr>\n",
       "    <tr>\n",
       "      <th>Blocks</th>\n",
       "      <td>0.276498</td>\n",
       "      <td>0.399088</td>\n",
       "      <td>0.387043</td>\n",
       "      <td>0.398125</td>\n",
       "      <td>0.322184</td>\n",
       "      <td>0.391626</td>\n",
       "      <td>-0.158535</td>\n",
       "      <td>-0.172150</td>\n",
       "      <td>-0.242274</td>\n",
       "      <td>0.407466</td>\n",
       "      <td>0.468974</td>\n",
       "      <td>-0.161152</td>\n",
       "      <td>0.648346</td>\n",
       "      <td>0.688135</td>\n",
       "      <td>0.699672</td>\n",
       "      <td>-0.086470</td>\n",
       "      <td>0.133808</td>\n",
       "      <td>1.000000</td>\n",
       "      <td>0.282150</td>\n",
       "      <td>0.210114</td>\n",
       "    </tr>\n",
       "    <tr>\n",
       "      <th>Turnovers</th>\n",
       "      <td>0.518167</td>\n",
       "      <td>0.826500</td>\n",
       "      <td>0.850366</td>\n",
       "      <td>0.834352</td>\n",
       "      <td>0.845989</td>\n",
       "      <td>0.121806</td>\n",
       "      <td>0.258369</td>\n",
       "      <td>0.283925</td>\n",
       "      <td>0.108277</td>\n",
       "      <td>0.804990</td>\n",
       "      <td>0.798936</td>\n",
       "      <td>0.199742</td>\n",
       "      <td>0.421695</td>\n",
       "      <td>0.570187</td>\n",
       "      <td>0.536716</td>\n",
       "      <td>0.747286</td>\n",
       "      <td>0.741988</td>\n",
       "      <td>0.282150</td>\n",
       "      <td>1.000000</td>\n",
       "      <td>0.272348</td>\n",
       "    </tr>\n",
       "    <tr>\n",
       "      <th>TARGET_5Yrs</th>\n",
       "      <td>0.396833</td>\n",
       "      <td>0.317805</td>\n",
       "      <td>0.315981</td>\n",
       "      <td>0.317594</td>\n",
       "      <td>0.292660</td>\n",
       "      <td>0.227134</td>\n",
       "      <td>0.036619</td>\n",
       "      <td>0.018110</td>\n",
       "      <td>-0.003411</td>\n",
       "      <td>0.296841</td>\n",
       "      <td>0.296089</td>\n",
       "      <td>0.106706</td>\n",
       "      <td>0.293307</td>\n",
       "      <td>0.284677</td>\n",
       "      <td>0.299406</td>\n",
       "      <td>0.175353</td>\n",
       "      <td>0.229811</td>\n",
       "      <td>0.210114</td>\n",
       "      <td>0.272348</td>\n",
       "      <td>1.000000</td>\n",
       "    </tr>\n",
       "  </tbody>\n",
       "</table>\n",
       "</div>"
      ],
      "text/plain": [
       "                     Games Played  Minutes Played  Points Per Game  \\\n",
       "Games Played             1.000000        0.590240         0.538471   \n",
       "Minutes Played           0.590240        1.000000         0.911822   \n",
       "Points Per Game          0.538471        0.911822         1.000000   \n",
       "Field Goals Made         0.542724        0.903060         0.990834   \n",
       "Field Goal Attempts      0.516625        0.910247         0.979733   \n",
       "Field Goal Percent       0.296289        0.203901         0.255333   \n",
       "3 Point Made             0.107423        0.389920         0.346682   \n",
       "3 Point Attempt          0.098772        0.403258         0.356751   \n",
       "3 Point Percent          0.038209        0.165997         0.151072   \n",
       "Free Throw Made          0.482123        0.791000         0.896297   \n",
       "Free Throw Attempts      0.479487        0.779609         0.880703   \n",
       "Free Throw Percent       0.196299        0.239878         0.258931   \n",
       "Offensive Rebounds       0.401136        0.573062         0.575106   \n",
       "Defensive Rebounds       0.466840        0.745513         0.693934   \n",
       "Rebounds                 0.460406        0.709707         0.676849   \n",
       "Assists                  0.372749        0.629015         0.552338   \n",
       "Steals                   0.451137        0.757034         0.675341   \n",
       "Blocks                   0.276498        0.399088         0.387043   \n",
       "Turnovers                0.518167        0.826500         0.850366   \n",
       "TARGET_5Yrs              0.396833        0.317805         0.315981   \n",
       "\n",
       "                     Field Goals Made  Field Goal Attempts  \\\n",
       "Games Played                 0.542724             0.516625   \n",
       "Minutes Played               0.903060             0.910247   \n",
       "Points Per Game              0.990834             0.979733   \n",
       "Field Goals Made             1.000000             0.980050   \n",
       "Field Goal Attempts          0.980050             1.000000   \n",
       "Field Goal Percent           0.291693             0.129798   \n",
       "3 Point Made                 0.289007             0.390253   \n",
       "3 Point Attempt              0.299057             0.413560   \n",
       "3 Point Percent              0.119493             0.197160   \n",
       "Free Throw Made              0.848019             0.826616   \n",
       "Free Throw Attempts          0.840408             0.805559   \n",
       "Free Throw Percent           0.223566             0.269614   \n",
       "Offensive Rebounds           0.596687             0.504212   \n",
       "Defensive Rebounds           0.703278             0.640123   \n",
       "Rebounds                     0.691186             0.614328   \n",
       "Assists                      0.532534             0.589818   \n",
       "Steals                       0.662640             0.690168   \n",
       "Blocks                       0.398125             0.322184   \n",
       "Turnovers                    0.834352             0.845989   \n",
       "TARGET_5Yrs                  0.317594             0.292660   \n",
       "\n",
       "                     Field Goal Percent  3 Point Made  3 Point Attempt  \\\n",
       "Games Played                   0.296289      0.107423         0.098772   \n",
       "Minutes Played                 0.203901      0.389920         0.403258   \n",
       "Points Per Game                0.255333      0.346682         0.356751   \n",
       "Field Goals Made               0.291693      0.289007         0.299057   \n",
       "Field Goal Attempts            0.129798      0.390253         0.413560   \n",
       "Field Goal Percent             1.000000     -0.294471        -0.350658   \n",
       "3 Point Made                  -0.294471      1.000000         0.982616   \n",
       "3 Point Attempt               -0.350658      0.982616         1.000000   \n",
       "3 Point Percent               -0.330690      0.589855         0.582337   \n",
       "Free Throw Made                0.245776      0.158472         0.173533   \n",
       "Free Throw Attempts            0.300154      0.095396         0.108388   \n",
       "Free Throw Percent            -0.161183      0.314355         0.323612   \n",
       "Offensive Rebounds             0.511367     -0.219010        -0.231897   \n",
       "Defensive Rebounds             0.410555      0.016570         0.011226   \n",
       "Rebounds                       0.465423     -0.072503        -0.080939   \n",
       "Assists                       -0.108797      0.376604         0.410531   \n",
       "Steals                         0.056658      0.306908         0.338631   \n",
       "Blocks                         0.391626     -0.158535        -0.172150   \n",
       "Turnovers                      0.121806      0.258369         0.283925   \n",
       "TARGET_5Yrs                    0.227134      0.036619         0.018110   \n",
       "\n",
       "                     3 Point Percent  Free Throw Made  Free Throw Attempts  \\\n",
       "Games Played                0.038209         0.482123             0.479487   \n",
       "Minutes Played              0.165997         0.791000             0.779609   \n",
       "Points Per Game             0.151072         0.896297             0.880703   \n",
       "Field Goals Made            0.119493         0.848019             0.840408   \n",
       "Field Goal Attempts         0.197160         0.826616             0.805559   \n",
       "Field Goal Percent         -0.330690         0.245776             0.300154   \n",
       "3 Point Made                0.589855         0.158472             0.095396   \n",
       "3 Point Attempt             0.582337         0.173533             0.108388   \n",
       "3 Point Percent             1.000000         0.030320            -0.032333   \n",
       "Free Throw Made             0.030320         1.000000             0.980505   \n",
       "Free Throw Attempts        -0.032333         0.980505             1.000000   \n",
       "Free Throw Percent          0.326372         0.257818             0.114872   \n",
       "Offensive Rebounds         -0.288759         0.583865             0.653445   \n",
       "Defensive Rebounds         -0.122949         0.653823             0.700863   \n",
       "Rebounds                   -0.191071         0.653833             0.711425   \n",
       "Assists                     0.262120         0.476214             0.428624   \n",
       "Steals                      0.194329         0.600158             0.580065   \n",
       "Blocks                     -0.242274         0.407466             0.468974   \n",
       "Turnovers                   0.108277         0.804990             0.798936   \n",
       "TARGET_5Yrs                -0.003411         0.296841             0.296089   \n",
       "\n",
       "                     Free Throw Percent  Offensive Rebounds  \\\n",
       "Games Played                   0.196299            0.401136   \n",
       "Minutes Played                 0.239878            0.573062   \n",
       "Points Per Game                0.258931            0.575106   \n",
       "Field Goals Made               0.223566            0.596687   \n",
       "Field Goal Attempts            0.269614            0.504212   \n",
       "Field Goal Percent            -0.161183            0.511367   \n",
       "3 Point Made                   0.314355           -0.219010   \n",
       "3 Point Attempt                0.323612           -0.231897   \n",
       "3 Point Percent                0.326372           -0.288759   \n",
       "Free Throw Made                0.257818            0.583865   \n",
       "Free Throw Attempts            0.114872            0.653445   \n",
       "Free Throw Percent             1.000000           -0.146786   \n",
       "Offensive Rebounds            -0.146786            1.000000   \n",
       "Defensive Rebounds            -0.022905            0.838580   \n",
       "Rebounds                      -0.071105            0.932694   \n",
       "Assists                        0.296315           -0.012109   \n",
       "Steals                         0.207205            0.286545   \n",
       "Blocks                        -0.161152            0.648346   \n",
       "Turnovers                      0.199742            0.421695   \n",
       "TARGET_5Yrs                    0.106706            0.293307   \n",
       "\n",
       "                     Defensive Rebounds  Rebounds   Assists    Steals  \\\n",
       "Games Played                   0.466840  0.460406  0.372749  0.451137   \n",
       "Minutes Played                 0.745513  0.709707  0.629015  0.757034   \n",
       "Points Per Game                0.693934  0.676849  0.552338  0.675341   \n",
       "Field Goals Made               0.703278  0.691186  0.532534  0.662640   \n",
       "Field Goal Attempts            0.640123  0.614328  0.589818  0.690168   \n",
       "Field Goal Percent             0.410555  0.465423 -0.108797  0.056658   \n",
       "3 Point Made                   0.016570 -0.072503  0.376604  0.306908   \n",
       "3 Point Attempt                0.011226 -0.080939  0.410531  0.338631   \n",
       "3 Point Percent               -0.122949 -0.191071  0.262120  0.194329   \n",
       "Free Throw Made                0.653823  0.653833  0.476214  0.600158   \n",
       "Free Throw Attempts            0.700863  0.711425  0.428624  0.580065   \n",
       "Free Throw Percent            -0.022905 -0.071105  0.296315  0.207205   \n",
       "Offensive Rebounds             0.838580  0.932694 -0.012109  0.286545   \n",
       "Defensive Rebounds             1.000000  0.978177  0.186679  0.411894   \n",
       "Rebounds                       0.978177  1.000000  0.119081  0.381154   \n",
       "Assists                        0.186679  0.119081  1.000000  0.751289   \n",
       "Steals                         0.411894  0.381154  0.751289  1.000000   \n",
       "Blocks                         0.688135  0.699672 -0.086470  0.133808   \n",
       "Turnovers                      0.570187  0.536716  0.747286  0.741988   \n",
       "TARGET_5Yrs                    0.284677  0.299406  0.175353  0.229811   \n",
       "\n",
       "                       Blocks  Turnovers  TARGET_5Yrs  \n",
       "Games Played         0.276498   0.518167     0.396833  \n",
       "Minutes Played       0.399088   0.826500     0.317805  \n",
       "Points Per Game      0.387043   0.850366     0.315981  \n",
       "Field Goals Made     0.398125   0.834352     0.317594  \n",
       "Field Goal Attempts  0.322184   0.845989     0.292660  \n",
       "Field Goal Percent   0.391626   0.121806     0.227134  \n",
       "3 Point Made        -0.158535   0.258369     0.036619  \n",
       "3 Point Attempt     -0.172150   0.283925     0.018110  \n",
       "3 Point Percent     -0.242274   0.108277    -0.003411  \n",
       "Free Throw Made      0.407466   0.804990     0.296841  \n",
       "Free Throw Attempts  0.468974   0.798936     0.296089  \n",
       "Free Throw Percent  -0.161152   0.199742     0.106706  \n",
       "Offensive Rebounds   0.648346   0.421695     0.293307  \n",
       "Defensive Rebounds   0.688135   0.570187     0.284677  \n",
       "Rebounds             0.699672   0.536716     0.299406  \n",
       "Assists             -0.086470   0.747286     0.175353  \n",
       "Steals               0.133808   0.741988     0.229811  \n",
       "Blocks               1.000000   0.282150     0.210114  \n",
       "Turnovers            0.282150   1.000000     0.272348  \n",
       "TARGET_5Yrs          0.210114   0.272348     1.000000  "
      ]
     },
     "execution_count": 94,
     "metadata": {},
     "output_type": "execute_result"
    }
   ],
   "source": [
    "#print correlation coefficent for dataset\n",
    "df.corr()"
   ]
  },
  {
   "cell_type": "code",
   "execution_count": 95,
   "id": "84c4b484",
   "metadata": {},
   "outputs": [
    {
     "data": {
      "text/plain": [
       "<Axes: xlabel='TARGET_5Yrs', ylabel='count'>"
      ]
     },
     "execution_count": 95,
     "metadata": {},
     "output_type": "execute_result"
    },
    {
     "data": {
      "image/png": "[encoded data removed]",
      "text/plain": [
       "<Figure size 640x480 with 1 Axes>"
      ]
     },
     "metadata": {},
     "output_type": "display_data"
    }
   ],
   "source": [
    "sns.countplot(x = 'TARGET_5Yrs', data=df)"
   ]
  },
  {
   "cell_type": "code",
   "execution_count": 96,
   "id": "eae178c8",
   "metadata": {},
   "outputs": [
    {
     "data": {
      "text/plain": [
       "Name                    0\n",
       "Games Played            0\n",
       "Minutes Played          0\n",
       "Points Per Game         0\n",
       "Field Goals Made        0\n",
       "Field Goal Attempts     0\n",
       "Field Goal Percent      0\n",
       "3 Point Made            0\n",
       "3 Point Attempt         0\n",
       "3 Point Percent        11\n",
       "Free Throw Made         0\n",
       "Free Throw Attempts     0\n",
       "Free Throw Percent      0\n",
       "Offensive Rebounds      0\n",
       "Defensive Rebounds      0\n",
       "Rebounds                0\n",
       "Assists                 0\n",
       "Steals                  0\n",
       "Blocks                  0\n",
       "Turnovers               0\n",
       "TARGET_5Yrs             0\n",
       "dtype: int64"
      ]
     },
     "execution_count": 96,
     "metadata": {},
     "output_type": "execute_result"
    }
   ],
   "source": [
    "df.isnull().sum()"
   ]
  },
  {
   "cell_type": "code",
   "execution_count": 97,
   "id": "5fd95d04",
   "metadata": {},
   "outputs": [
    {
     "data": {
      "text/plain": [
       "0.8208955223880596"
      ]
     },
     "execution_count": 97,
     "metadata": {},
     "output_type": "execute_result"
    }
   ],
   "source": [
    "#to find percentage of null values\n",
    "(df['3 Point Percent'].isna().sum()/len(df['3 Point Percent']))*100"
   ]
  },
  {
   "cell_type": "code",
   "execution_count": 98,
   "id": "37623854",
   "metadata": {},
   "outputs": [
    {
     "data": {
      "text/plain": [
       "19.308126410835214"
      ]
     },
     "execution_count": 98,
     "metadata": {},
     "output_type": "execute_result"
    }
   ],
   "source": [
    "df['3 Point Percent'].mean()"
   ]
  },
  {
   "cell_type": "code",
   "execution_count": 99,
   "id": "f44dc214",
   "metadata": {},
   "outputs": [],
   "source": [
    "df['3 Point Percent'].fillna(df['3 Point Percent'].mean(),inplace = True)"
   ]
  },
  {
   "cell_type": "code",
   "execution_count": 100,
   "id": "93b52acc",
   "metadata": {},
   "outputs": [
    {
     "data": {
      "text/plain": [
       "0"
      ]
     },
     "execution_count": 100,
     "metadata": {},
     "output_type": "execute_result"
    }
   ],
   "source": [
    "#to verify there are no null values anymore\n",
    "df['3 Point Percent'].isna().sum()"
   ]
  },
  {
   "cell_type": "code",
   "execution_count": 101,
   "id": "4da1830b",
   "metadata": {},
   "outputs": [
    {
     "data": {
      "text/html": [
       "<div>\n",
       "<style scoped>\n",
       "    .dataframe tbody tr th:only-of-type {\n",
       "        vertical-align: middle;\n",
       "    }\n",
       "\n",
       "    .dataframe tbody tr th {\n",
       "        vertical-align: top;\n",
       "    }\n",
       "\n",
       "    .dataframe thead th {\n",
       "        text-align: right;\n",
       "    }\n",
       "</style>\n",
       "<table border=\"1\" class=\"dataframe\">\n",
       "  <thead>\n",
       "    <tr style=\"text-align: right;\">\n",
       "      <th></th>\n",
       "      <th>Name</th>\n",
       "      <th>Games Played</th>\n",
       "      <th>Minutes Played</th>\n",
       "      <th>Points Per Game</th>\n",
       "      <th>Field Goals Made</th>\n",
       "      <th>Field Goal Attempts</th>\n",
       "      <th>Field Goal Percent</th>\n",
       "      <th>3 Point Made</th>\n",
       "      <th>3 Point Attempt</th>\n",
       "      <th>3 Point Percent</th>\n",
       "      <th>...</th>\n",
       "      <th>Free Throw Attempts</th>\n",
       "      <th>Free Throw Percent</th>\n",
       "      <th>Offensive Rebounds</th>\n",
       "      <th>Defensive Rebounds</th>\n",
       "      <th>Rebounds</th>\n",
       "      <th>Assists</th>\n",
       "      <th>Steals</th>\n",
       "      <th>Blocks</th>\n",
       "      <th>Turnovers</th>\n",
       "      <th>TARGET_5Yrs</th>\n",
       "    </tr>\n",
       "  </thead>\n",
       "  <tbody>\n",
       "    <tr>\n",
       "      <th>0</th>\n",
       "      <td>Brandon Ingram</td>\n",
       "      <td>36</td>\n",
       "      <td>27.4</td>\n",
       "      <td>7.4</td>\n",
       "      <td>2.6</td>\n",
       "      <td>7.6</td>\n",
       "      <td>34.7</td>\n",
       "      <td>0.5</td>\n",
       "      <td>2.1</td>\n",
       "      <td>25.0</td>\n",
       "      <td>...</td>\n",
       "      <td>2.3</td>\n",
       "      <td>69.9</td>\n",
       "      <td>0.7</td>\n",
       "      <td>3.4</td>\n",
       "      <td>4.1</td>\n",
       "      <td>1.9</td>\n",
       "      <td>0.4</td>\n",
       "      <td>0.4</td>\n",
       "      <td>1.3</td>\n",
       "      <td>0</td>\n",
       "    </tr>\n",
       "    <tr>\n",
       "      <th>1</th>\n",
       "      <td>Andrew Harrison</td>\n",
       "      <td>35</td>\n",
       "      <td>26.9</td>\n",
       "      <td>7.2</td>\n",
       "      <td>2.0</td>\n",
       "      <td>6.7</td>\n",
       "      <td>29.6</td>\n",
       "      <td>0.7</td>\n",
       "      <td>2.8</td>\n",
       "      <td>23.5</td>\n",
       "      <td>...</td>\n",
       "      <td>3.4</td>\n",
       "      <td>76.5</td>\n",
       "      <td>0.5</td>\n",
       "      <td>2.0</td>\n",
       "      <td>2.4</td>\n",
       "      <td>3.7</td>\n",
       "      <td>1.1</td>\n",
       "      <td>0.5</td>\n",
       "      <td>1.6</td>\n",
       "      <td>0</td>\n",
       "    </tr>\n",
       "    <tr>\n",
       "      <th>2</th>\n",
       "      <td>JaKarr Sampson</td>\n",
       "      <td>74</td>\n",
       "      <td>15.3</td>\n",
       "      <td>5.2</td>\n",
       "      <td>2.0</td>\n",
       "      <td>4.7</td>\n",
       "      <td>42.2</td>\n",
       "      <td>0.4</td>\n",
       "      <td>1.7</td>\n",
       "      <td>24.4</td>\n",
       "      <td>...</td>\n",
       "      <td>1.3</td>\n",
       "      <td>67.0</td>\n",
       "      <td>0.5</td>\n",
       "      <td>1.7</td>\n",
       "      <td>2.2</td>\n",
       "      <td>1.0</td>\n",
       "      <td>0.5</td>\n",
       "      <td>0.3</td>\n",
       "      <td>1.0</td>\n",
       "      <td>0</td>\n",
       "    </tr>\n",
       "    <tr>\n",
       "      <th>3</th>\n",
       "      <td>Malik Sealy</td>\n",
       "      <td>58</td>\n",
       "      <td>11.6</td>\n",
       "      <td>5.7</td>\n",
       "      <td>2.3</td>\n",
       "      <td>5.5</td>\n",
       "      <td>42.6</td>\n",
       "      <td>0.1</td>\n",
       "      <td>0.5</td>\n",
       "      <td>22.6</td>\n",
       "      <td>...</td>\n",
       "      <td>1.3</td>\n",
       "      <td>68.9</td>\n",
       "      <td>1.0</td>\n",
       "      <td>0.9</td>\n",
       "      <td>1.9</td>\n",
       "      <td>0.8</td>\n",
       "      <td>0.6</td>\n",
       "      <td>0.1</td>\n",
       "      <td>1.0</td>\n",
       "      <td>1</td>\n",
       "    </tr>\n",
       "    <tr>\n",
       "      <th>4</th>\n",
       "      <td>Matt Geiger</td>\n",
       "      <td>48</td>\n",
       "      <td>11.5</td>\n",
       "      <td>4.5</td>\n",
       "      <td>1.6</td>\n",
       "      <td>3.0</td>\n",
       "      <td>52.4</td>\n",
       "      <td>0.0</td>\n",
       "      <td>0.1</td>\n",
       "      <td>0.0</td>\n",
       "      <td>...</td>\n",
       "      <td>1.9</td>\n",
       "      <td>67.4</td>\n",
       "      <td>1.0</td>\n",
       "      <td>1.5</td>\n",
       "      <td>2.5</td>\n",
       "      <td>0.3</td>\n",
       "      <td>0.3</td>\n",
       "      <td>0.4</td>\n",
       "      <td>0.8</td>\n",
       "      <td>1</td>\n",
       "    </tr>\n",
       "  </tbody>\n",
       "</table>\n",
       "<p>5 rows × 21 columns</p>\n",
       "</div>"
      ],
      "text/plain": [
       "              Name  Games Played  Minutes Played  Points Per Game  \\\n",
       "0   Brandon Ingram            36            27.4              7.4   \n",
       "1  Andrew Harrison            35            26.9              7.2   \n",
       "2   JaKarr Sampson            74            15.3              5.2   \n",
       "3      Malik Sealy            58            11.6              5.7   \n",
       "4      Matt Geiger            48            11.5              4.5   \n",
       "\n",
       "   Field Goals Made  Field Goal Attempts  Field Goal Percent  3 Point Made  \\\n",
       "0               2.6                  7.6                34.7           0.5   \n",
       "1               2.0                  6.7                29.6           0.7   \n",
       "2               2.0                  4.7                42.2           0.4   \n",
       "3               2.3                  5.5                42.6           0.1   \n",
       "4               1.6                  3.0                52.4           0.0   \n",
       "\n",
       "   3 Point Attempt  3 Point Percent  ...  Free Throw Attempts  \\\n",
       "0              2.1             25.0  ...                  2.3   \n",
       "1              2.8             23.5  ...                  3.4   \n",
       "2              1.7             24.4  ...                  1.3   \n",
       "3              0.5             22.6  ...                  1.3   \n",
       "4              0.1              0.0  ...                  1.9   \n",
       "\n",
       "   Free Throw Percent  Offensive Rebounds  Defensive Rebounds  Rebounds  \\\n",
       "0                69.9                 0.7                 3.4       4.1   \n",
       "1                76.5                 0.5                 2.0       2.4   \n",
       "2                67.0                 0.5                 1.7       2.2   \n",
       "3                68.9                 1.0                 0.9       1.9   \n",
       "4                67.4                 1.0                 1.5       2.5   \n",
       "\n",
       "   Assists  Steals  Blocks  Turnovers  TARGET_5Yrs  \n",
       "0      1.9     0.4     0.4        1.3            0  \n",
       "1      3.7     1.1     0.5        1.6            0  \n",
       "2      1.0     0.5     0.3        1.0            0  \n",
       "3      0.8     0.6     0.1        1.0            1  \n",
       "4      0.3     0.3     0.4        0.8            1  \n",
       "\n",
       "[5 rows x 21 columns]"
      ]
     },
     "execution_count": 101,
     "metadata": {},
     "output_type": "execute_result"
    }
   ],
   "source": [
    "df.head()"
   ]
  },
  {
   "cell_type": "code",
   "execution_count": 102,
   "id": "2463268b",
   "metadata": {},
   "outputs": [],
   "source": [
    "df.drop(['Name'],axis=1, inplace = True)"
   ]
  },
  {
   "cell_type": "code",
   "execution_count": 103,
   "id": "588d93bf",
   "metadata": {},
   "outputs": [
    {
     "data": {
      "text/html": [
       "<div>\n",
       "<style scoped>\n",
       "    .dataframe tbody tr th:only-of-type {\n",
       "        vertical-align: middle;\n",
       "    }\n",
       "\n",
       "    .dataframe tbody tr th {\n",
       "        vertical-align: top;\n",
       "    }\n",
       "\n",
       "    .dataframe thead th {\n",
       "        text-align: right;\n",
       "    }\n",
       "</style>\n",
       "<table border=\"1\" class=\"dataframe\">\n",
       "  <thead>\n",
       "    <tr style=\"text-align: right;\">\n",
       "      <th></th>\n",
       "      <th>Games Played</th>\n",
       "      <th>Minutes Played</th>\n",
       "      <th>Points Per Game</th>\n",
       "      <th>Field Goals Made</th>\n",
       "      <th>Field Goal Attempts</th>\n",
       "      <th>Field Goal Percent</th>\n",
       "      <th>3 Point Made</th>\n",
       "      <th>3 Point Attempt</th>\n",
       "      <th>3 Point Percent</th>\n",
       "      <th>Free Throw Made</th>\n",
       "      <th>Free Throw Attempts</th>\n",
       "      <th>Free Throw Percent</th>\n",
       "      <th>Offensive Rebounds</th>\n",
       "      <th>Defensive Rebounds</th>\n",
       "      <th>Rebounds</th>\n",
       "      <th>Assists</th>\n",
       "      <th>Steals</th>\n",
       "      <th>Blocks</th>\n",
       "      <th>Turnovers</th>\n",
       "      <th>TARGET_5Yrs</th>\n",
       "    </tr>\n",
       "  </thead>\n",
       "  <tbody>\n",
       "    <tr>\n",
       "      <th>0</th>\n",
       "      <td>36</td>\n",
       "      <td>27.4</td>\n",
       "      <td>7.4</td>\n",
       "      <td>2.6</td>\n",
       "      <td>7.6</td>\n",
       "      <td>34.7</td>\n",
       "      <td>0.5</td>\n",
       "      <td>2.1</td>\n",
       "      <td>25.0</td>\n",
       "      <td>1.6</td>\n",
       "      <td>2.3</td>\n",
       "      <td>69.9</td>\n",
       "      <td>0.7</td>\n",
       "      <td>3.4</td>\n",
       "      <td>4.1</td>\n",
       "      <td>1.9</td>\n",
       "      <td>0.4</td>\n",
       "      <td>0.4</td>\n",
       "      <td>1.3</td>\n",
       "      <td>0</td>\n",
       "    </tr>\n",
       "    <tr>\n",
       "      <th>1</th>\n",
       "      <td>35</td>\n",
       "      <td>26.9</td>\n",
       "      <td>7.2</td>\n",
       "      <td>2.0</td>\n",
       "      <td>6.7</td>\n",
       "      <td>29.6</td>\n",
       "      <td>0.7</td>\n",
       "      <td>2.8</td>\n",
       "      <td>23.5</td>\n",
       "      <td>2.6</td>\n",
       "      <td>3.4</td>\n",
       "      <td>76.5</td>\n",
       "      <td>0.5</td>\n",
       "      <td>2.0</td>\n",
       "      <td>2.4</td>\n",
       "      <td>3.7</td>\n",
       "      <td>1.1</td>\n",
       "      <td>0.5</td>\n",
       "      <td>1.6</td>\n",
       "      <td>0</td>\n",
       "    </tr>\n",
       "    <tr>\n",
       "      <th>2</th>\n",
       "      <td>74</td>\n",
       "      <td>15.3</td>\n",
       "      <td>5.2</td>\n",
       "      <td>2.0</td>\n",
       "      <td>4.7</td>\n",
       "      <td>42.2</td>\n",
       "      <td>0.4</td>\n",
       "      <td>1.7</td>\n",
       "      <td>24.4</td>\n",
       "      <td>0.9</td>\n",
       "      <td>1.3</td>\n",
       "      <td>67.0</td>\n",
       "      <td>0.5</td>\n",
       "      <td>1.7</td>\n",
       "      <td>2.2</td>\n",
       "      <td>1.0</td>\n",
       "      <td>0.5</td>\n",
       "      <td>0.3</td>\n",
       "      <td>1.0</td>\n",
       "      <td>0</td>\n",
       "    </tr>\n",
       "    <tr>\n",
       "      <th>3</th>\n",
       "      <td>58</td>\n",
       "      <td>11.6</td>\n",
       "      <td>5.7</td>\n",
       "      <td>2.3</td>\n",
       "      <td>5.5</td>\n",
       "      <td>42.6</td>\n",
       "      <td>0.1</td>\n",
       "      <td>0.5</td>\n",
       "      <td>22.6</td>\n",
       "      <td>0.9</td>\n",
       "      <td>1.3</td>\n",
       "      <td>68.9</td>\n",
       "      <td>1.0</td>\n",
       "      <td>0.9</td>\n",
       "      <td>1.9</td>\n",
       "      <td>0.8</td>\n",
       "      <td>0.6</td>\n",
       "      <td>0.1</td>\n",
       "      <td>1.0</td>\n",
       "      <td>1</td>\n",
       "    </tr>\n",
       "    <tr>\n",
       "      <th>4</th>\n",
       "      <td>48</td>\n",
       "      <td>11.5</td>\n",
       "      <td>4.5</td>\n",
       "      <td>1.6</td>\n",
       "      <td>3.0</td>\n",
       "      <td>52.4</td>\n",
       "      <td>0.0</td>\n",
       "      <td>0.1</td>\n",
       "      <td>0.0</td>\n",
       "      <td>1.3</td>\n",
       "      <td>1.9</td>\n",
       "      <td>67.4</td>\n",
       "      <td>1.0</td>\n",
       "      <td>1.5</td>\n",
       "      <td>2.5</td>\n",
       "      <td>0.3</td>\n",
       "      <td>0.3</td>\n",
       "      <td>0.4</td>\n",
       "      <td>0.8</td>\n",
       "      <td>1</td>\n",
       "    </tr>\n",
       "  </tbody>\n",
       "</table>\n",
       "</div>"
      ],
      "text/plain": [
       "   Games Played  Minutes Played  Points Per Game  Field Goals Made  \\\n",
       "0            36            27.4              7.4               2.6   \n",
       "1            35            26.9              7.2               2.0   \n",
       "2            74            15.3              5.2               2.0   \n",
       "3            58            11.6              5.7               2.3   \n",
       "4            48            11.5              4.5               1.6   \n",
       "\n",
       "   Field Goal Attempts  Field Goal Percent  3 Point Made  3 Point Attempt  \\\n",
       "0                  7.6                34.7           0.5              2.1   \n",
       "1                  6.7                29.6           0.7              2.8   \n",
       "2                  4.7                42.2           0.4              1.7   \n",
       "3                  5.5                42.6           0.1              0.5   \n",
       "4                  3.0                52.4           0.0              0.1   \n",
       "\n",
       "   3 Point Percent  Free Throw Made  Free Throw Attempts  Free Throw Percent  \\\n",
       "0             25.0              1.6                  2.3                69.9   \n",
       "1             23.5              2.6                  3.4                76.5   \n",
       "2             24.4              0.9                  1.3                67.0   \n",
       "3             22.6              0.9                  1.3                68.9   \n",
       "4              0.0              1.3                  1.9                67.4   \n",
       "\n",
       "   Offensive Rebounds  Defensive Rebounds  Rebounds  Assists  Steals  Blocks  \\\n",
       "0                 0.7                 3.4       4.1      1.9     0.4     0.4   \n",
       "1                 0.5                 2.0       2.4      3.7     1.1     0.5   \n",
       "2                 0.5                 1.7       2.2      1.0     0.5     0.3   \n",
       "3                 1.0                 0.9       1.9      0.8     0.6     0.1   \n",
       "4                 1.0                 1.5       2.5      0.3     0.3     0.4   \n",
       "\n",
       "   Turnovers  TARGET_5Yrs  \n",
       "0        1.3            0  \n",
       "1        1.6            0  \n",
       "2        1.0            0  \n",
       "3        1.0            1  \n",
       "4        0.8            1  "
      ]
     },
     "execution_count": 103,
     "metadata": {},
     "output_type": "execute_result"
    }
   ],
   "source": [
    "df.head()"
   ]
  },
  {
   "cell_type": "code",
   "execution_count": 104,
   "id": "6a202242",
   "metadata": {},
   "outputs": [],
   "source": [
    "X = df.iloc[:,[1]].values #inputs minutes played\n",
    "y = df.iloc[:,19].values #target TARGET_5Yrs"
   ]
  },
  {
   "cell_type": "code",
   "execution_count": 105,
   "id": "1bd20191",
   "metadata": {},
   "outputs": [
    {
     "name": "stdout",
     "output_type": "stream",
     "text": [
      "[[27.4]\n",
      " [26.9]\n",
      " [15.3]\n",
      " ...\n",
      " [12.1]\n",
      " [12. ]\n",
      " [11.7]]\n"
     ]
    }
   ],
   "source": [
    "print(X)"
   ]
  },
  {
   "cell_type": "code",
   "execution_count": 106,
   "id": "777f9807",
   "metadata": {},
   "outputs": [
    {
     "name": "stdout",
     "output_type": "stream",
     "text": [
      "[0 0 0 ... 0 1 1]\n"
     ]
    }
   ],
   "source": [
    "print(y)"
   ]
  },
  {
   "cell_type": "code",
   "execution_count": 107,
   "id": "87db0176",
   "metadata": {},
   "outputs": [],
   "source": [
    "#split data into training and test sets\n",
    "X_train, X_test, y_train, y_test = train_test_split(X, y,\n",
    "random_state=0, test_size=1/3)"
   ]
  },
  {
   "cell_type": "code",
   "execution_count": 108,
   "id": "5f0fd394",
   "metadata": {},
   "outputs": [
    {
     "data": {
      "text/html": [
       "<style>#sk-container-id-6 {color: black;}#sk-container-id-6 pre{padding: 0;}#sk-container-id-6 div.sk-toggleable {background-color: white;}#sk-container-id-6 label.sk-toggleable__label {cursor: pointer;display: block;width: 100%;margin-bottom: 0;padding: 0.3em;box-sizing: border-box;text-align: center;}#sk-container-id-6 label.sk-toggleable__label-arrow:before {content: \"▸\";float: left;margin-right: 0.25em;color: #696969;}#sk-container-id-6 label.sk-toggleable__label-arrow:hover:before {color: black;}#sk-container-id-6 div.sk-estimator:hover label.sk-toggleable__label-arrow:before {color: black;}#sk-container-id-6 div.sk-toggleable__content {max-height: 0;max-width: 0;overflow: hidden;text-align: left;background-color: #f0f8ff;}#sk-container-id-6 div.sk-toggleable__content pre {margin: 0.2em;color: black;border-radius: 0.25em;background-color: #f0f8ff;}#sk-container-id-6 input.sk-toggleable__control:checked~div.sk-toggleable__content {max-height: 200px;max-width: 100%;overflow: auto;}#sk-container-id-6 input.sk-toggleable__control:checked~label.sk-toggleable__label-arrow:before {content: \"▾\";}#sk-container-id-6 div.sk-estimator input.sk-toggleable__control:checked~label.sk-toggleable__label {background-color: #d4ebff;}#sk-container-id-6 div.sk-label input.sk-toggleable__control:checked~label.sk-toggleable__label {background-color: #d4ebff;}#sk-container-id-6 input.sk-hidden--visually {border: 0;clip: rect(1px 1px 1px 1px);clip: rect(1px, 1px, 1px, 1px);height: 1px;margin: -1px;overflow: hidden;padding: 0;position: absolute;width: 1px;}#sk-container-id-6 div.sk-estimator {font-family: monospace;background-color: #f0f8ff;border: 1px dotted black;border-radius: 0.25em;box-sizing: border-box;margin-bottom: 0.5em;}#sk-container-id-6 div.sk-estimator:hover {background-color: #d4ebff;}#sk-container-id-6 div.sk-parallel-item::after {content: \"\";width: 100%;border-bottom: 1px solid gray;flex-grow: 1;}#sk-container-id-6 div.sk-label:hover label.sk-toggleable__label {background-color: #d4ebff;}#sk-container-id-6 div.sk-serial::before {content: \"\";position: absolute;border-left: 1px solid gray;box-sizing: border-box;top: 0;bottom: 0;left: 50%;z-index: 0;}#sk-container-id-6 div.sk-serial {display: flex;flex-direction: column;align-items: center;background-color: white;padding-right: 0.2em;padding-left: 0.2em;position: relative;}#sk-container-id-6 div.sk-item {position: relative;z-index: 1;}#sk-container-id-6 div.sk-parallel {display: flex;align-items: stretch;justify-content: center;background-color: white;position: relative;}#sk-container-id-6 div.sk-item::before, #sk-container-id-6 div.sk-parallel-item::before {content: \"\";position: absolute;border-left: 1px solid gray;box-sizing: border-box;top: 0;bottom: 0;left: 50%;z-index: -1;}#sk-container-id-6 div.sk-parallel-item {display: flex;flex-direction: column;z-index: 1;position: relative;background-color: white;}#sk-container-id-6 div.sk-parallel-item:first-child::after {align-self: flex-end;width: 50%;}#sk-container-id-6 div.sk-parallel-item:last-child::after {align-self: flex-start;width: 50%;}#sk-container-id-6 div.sk-parallel-item:only-child::after {width: 0;}#sk-container-id-6 div.sk-dashed-wrapped {border: 1px dashed gray;margin: 0 0.4em 0.5em 0.4em;box-sizing: border-box;padding-bottom: 0.4em;background-color: white;}#sk-container-id-6 div.sk-label label {font-family: monospace;font-weight: bold;display: inline-block;line-height: 1.2em;}#sk-container-id-6 div.sk-label-container {text-align: center;}#sk-container-id-6 div.sk-container {/* jupyter's `normalize.less` sets `[hidden] { display: none; }` but bootstrap.min.css set `[hidden] { display: none !important; }` so we also need the `!important` here to be able to override the default hidden behavior on the sphinx rendered scikit-learn.org. See: https://github.com/scikit-learn/scikit-learn/issues/21755 */display: inline-block !important;position: relative;}#sk-container-id-6 div.sk-text-repr-fallback {display: none;}</style><div id=\"sk-container-id-6\" class=\"sk-top-container\"><div class=\"sk-text-repr-fallback\"><pre>LogisticRegression()</pre><b>In a Jupyter environment, please rerun this cell to show the HTML representation or trust the notebook. <br />On GitHub, the HTML representation is unable to render, please try loading this page with nbviewer.org.</b></div><div class=\"sk-container\" hidden><div class=\"sk-item\"><div class=\"sk-estimator sk-toggleable\"><input class=\"sk-toggleable__control sk-hidden--visually\" id=\"sk-estimator-id-6\" type=\"checkbox\" checked><label for=\"sk-estimator-id-6\" class=\"sk-toggleable__label sk-toggleable__label-arrow\">LogisticRegression</label><div class=\"sk-toggleable__content\"><pre>LogisticRegression()</pre></div></div></div></div></div>"
      ],
      "text/plain": [
       "LogisticRegression()"
      ]
     },
     "execution_count": 108,
     "metadata": {},
     "output_type": "execute_result"
    }
   ],
   "source": [
    "#construct model and fits to training data\n",
    "logre = LogisticRegression()\n",
    "logre.fit(X_train, y_train)"
   ]
  },
  {
   "cell_type": "code",
   "execution_count": 109,
   "id": "e5a79d7d",
   "metadata": {},
   "outputs": [
    {
     "data": {
      "text/plain": [
       "array([0, 1, 1, 0, 1, 0, 1, 1, 1, 1, 1, 1, 1, 1, 1, 1, 0, 1, 1, 0, 1, 1,\n",
       "       1, 1, 1, 1, 1, 0, 1, 1, 1, 1, 0, 1, 1, 1, 1, 1, 0, 1, 1, 1, 1, 1,\n",
       "       1, 1, 1, 1, 1, 0, 1, 1, 0, 1, 1, 1, 1, 1, 1, 1, 0, 1, 1, 1, 1, 1,\n",
       "       0, 0, 0, 1, 0, 1, 1, 1, 1, 1, 1, 0, 1, 0, 0, 1, 0, 1, 1, 1, 1, 1,\n",
       "       1, 0, 1, 1, 1, 1, 0, 1, 1, 1, 1, 1, 1, 0, 1, 1, 1, 1, 1, 1, 1, 0,\n",
       "       1, 1, 1, 1, 0, 1, 1, 1, 1, 0, 1, 1, 1, 1, 0, 1, 1, 0, 1, 1, 1, 1,\n",
       "       1, 1, 1, 1, 1, 1, 0, 1, 0, 1, 1, 0, 0, 1, 0, 1, 1, 1, 1, 1, 1, 1,\n",
       "       1, 1, 1, 0, 1, 1, 0, 1, 1, 1, 1, 1, 1, 1, 1, 0, 1, 1, 1, 1, 1, 1,\n",
       "       0, 0, 1, 1, 1, 1, 0, 0, 1, 1, 1, 1, 1, 1, 1, 1, 1, 1, 1, 1, 1, 1,\n",
       "       1, 1, 1, 0, 0, 1, 0, 1, 0, 1, 0, 0, 1, 1, 0, 0, 0, 1, 1, 1, 0, 0,\n",
       "       0, 1, 1, 1, 1, 1, 1, 1, 0, 0, 1, 0, 0, 1, 1, 0, 1, 1, 1, 1, 1, 1,\n",
       "       1, 1, 0, 1, 1, 1, 1, 1, 0, 1, 1, 1, 0, 0, 1, 1, 1, 1, 1, 1, 1, 1,\n",
       "       1, 1, 0, 1, 1, 0, 1, 0, 1, 1, 1, 0, 1, 0, 1, 1, 0, 1, 1, 0, 1, 1,\n",
       "       1, 1, 1, 1, 1, 1, 0, 1, 1, 0, 0, 1, 1, 0, 1, 1, 1, 1, 1, 1, 1, 1,\n",
       "       0, 1, 1, 1, 1, 1, 1, 1, 1, 1, 1, 1, 0, 1, 1, 1, 1, 1, 1, 1, 1, 1,\n",
       "       1, 1, 1, 1, 1, 1, 1, 1, 1, 1, 1, 1, 0, 1, 1, 0, 1, 1, 1, 0, 1, 1,\n",
       "       1, 1, 0, 1, 1, 1, 1, 1, 1, 1, 1, 1, 1, 1, 0, 1, 1, 1, 1, 0, 0, 0,\n",
       "       0, 1, 1, 1, 1, 0, 1, 1, 1, 0, 0, 1, 1, 1, 1, 0, 0, 1, 0, 1, 0, 1,\n",
       "       0, 1, 1, 1, 1, 0, 1, 1, 1, 1, 1, 1, 1, 1, 1, 1, 1, 0, 0, 1, 1, 1,\n",
       "       1, 1, 1, 0, 0, 1, 0, 0, 1, 1, 1, 1, 1, 1, 1, 1, 1, 1, 1, 1, 1, 1,\n",
       "       1, 1, 1, 1, 1, 0, 1], dtype=int64)"
      ]
     },
     "execution_count": 109,
     "metadata": {},
     "output_type": "execute_result"
    }
   ],
   "source": [
    "logre.predict(X_test)"
   ]
  },
  {
   "cell_type": "code",
   "execution_count": 110,
   "id": "f318b0a0",
   "metadata": {},
   "outputs": [
    {
     "data": {
      "text/plain": [
       "0.6510067114093959"
      ]
     },
     "execution_count": 110,
     "metadata": {},
     "output_type": "execute_result"
    }
   ],
   "source": [
    "logre.score(X_test, y_test)"
   ]
  },
  {
   "cell_type": "code",
   "execution_count": 111,
   "id": "c665ae9d",
   "metadata": {},
   "outputs": [
    {
     "data": {
      "text/plain": [
       "array([[0.54920297, 0.45079703],\n",
       "       [0.45978091, 0.54021909],\n",
       "       [0.33017587, 0.66982413],\n",
       "       [0.58915789, 0.41084211],\n",
       "       [0.21512363, 0.78487637],\n",
       "       [0.58520597, 0.41479403],\n",
       "       [0.28509354, 0.71490646],\n",
       "       [0.30891209, 0.69108791],\n",
       "       [0.40188322, 0.59811678],\n",
       "       [0.38631274, 0.61368726],\n",
       "       [0.32837555, 0.67162445],\n",
       "       [0.28842804, 0.71157196],\n",
       "       [0.29686481, 0.70313519],\n",
       "       [0.32122491, 0.67877509],\n",
       "       [0.25460196, 0.74539804],\n",
       "       [0.33379147, 0.66620853],\n",
       "       [0.54111794, 0.45888206],\n",
       "       [0.08050142, 0.91949858],\n",
       "       [0.26717496, 0.73282504],\n",
       "       [0.54718398, 0.45281602],\n",
       "       [0.38245484, 0.61754516],\n",
       "       [0.15743422, 0.84256578],\n",
       "       [0.47804931, 0.52195069],\n",
       "       [0.37861169, 0.62138831],\n",
       "       [0.24694445, 0.75305555],\n",
       "       [0.32479002, 0.67520998],\n",
       "       [0.38438197, 0.61561803],\n",
       "       [0.52488699, 0.47511301],\n",
       "       [0.29686481, 0.70313519],\n",
       "       [0.17200669, 0.82799331],\n",
       "       [0.30544243, 0.69455757],\n",
       "       [0.41567286, 0.58432714],\n",
       "       [0.51267728, 0.48732272],\n",
       "       [0.39212632, 0.60787368],\n",
       "       [0.18270814, 0.81729186],\n",
       "       [0.32479002, 0.67520998],\n",
       "       [0.36528294, 0.63471706],\n",
       "       [0.13893367, 0.86106633],\n",
       "       [0.55323603, 0.44676397],\n",
       "       [0.36907115, 0.63092885],\n",
       "       [0.29010396, 0.70989604],\n",
       "       [0.1438818 , 0.8561182 ],\n",
       "       [0.16969715, 0.83030285],\n",
       "       [0.42361384, 0.57638616],\n",
       "       [0.47398286, 0.52601714],\n",
       "       [0.39212632, 0.60787368],\n",
       "       [0.27199028, 0.72800972],\n",
       "       [0.47601569, 0.52398431],\n",
       "       [0.18149402, 0.81850598],\n",
       "       [0.51471367, 0.48528633],\n",
       "       [0.31768053, 0.68231947],\n",
       "       [0.23796192, 0.76203808],\n",
       "       [0.62032142, 0.37967858],\n",
       "       [0.31415715, 0.68584285],\n",
       "       [0.30891209, 0.69108791],\n",
       "       [0.37478373, 0.62521627],\n",
       "       [0.4678898 , 0.5321102 ],\n",
       "       [0.38245484, 0.61754516],\n",
       "       [0.43559842, 0.56440158],\n",
       "       [0.45775685, 0.54224315],\n",
       "       [0.54111794, 0.45888206],\n",
       "       [0.25305802, 0.74694198],\n",
       "       [0.48415429, 0.51584571],\n",
       "       [0.36339504, 0.63660496],\n",
       "       [0.38631274, 0.61368726],\n",
       "       [0.37669578, 0.62330422],\n",
       "       [0.53503968, 0.46496032],\n",
       "       [0.56128066, 0.43871934],\n",
       "       [0.50045242, 0.49954758],\n",
       "       [0.33742671, 0.66257329],\n",
       "       [0.56929321, 0.43070679],\n",
       "       [0.16969715, 0.83030285],\n",
       "       [0.45978091, 0.54021909],\n",
       "       [0.44161996, 0.55838004],\n",
       "       [0.29686481, 0.70313519],\n",
       "       [0.16969715, 0.83030285],\n",
       "       [0.47398286, 0.52601714],\n",
       "       [0.56929321, 0.43070679],\n",
       "       [0.41171846, 0.58828154],\n",
       "       [0.52895101, 0.47104899],\n",
       "       [0.53909312, 0.46090688],\n",
       "       [0.41765417, 0.58234583],\n",
       "       [0.57925763, 0.42074237],\n",
       "       [0.36717499, 0.63282501],\n",
       "       [0.14590173, 0.85409827],\n",
       "       [0.48211868, 0.51788132],\n",
       "       [0.11380778, 0.88619222],\n",
       "       [0.44765872, 0.55234128],\n",
       "       [0.48211868, 0.51788132],\n",
       "       [0.54111794, 0.45888206],\n",
       "       [0.40188322, 0.59811678],\n",
       "       [0.25770838, 0.74229162],\n",
       "       [0.40777543, 0.59222457],\n",
       "       [0.30027916, 0.69972084],\n",
       "       [0.50656583, 0.49343417],\n",
       "       [0.09765033, 0.90234967],\n",
       "       [0.39601922, 0.60398078],\n",
       "       [0.37287557, 0.62712443],\n",
       "       [0.17788937, 0.82211063],\n",
       "       [0.49637662, 0.50362338],\n",
       "       [0.09982649, 0.90017351],\n",
       "       [0.50656583, 0.49343417],\n",
       "       [0.3521575 , 0.6478425 ],\n",
       "       [0.36717499, 0.63282501],\n",
       "       [0.35029999, 0.64970001],\n",
       "       [0.30544243, 0.69455757],\n",
       "       [0.09551657, 0.90448343],\n",
       "       [0.47398286, 0.52601714],\n",
       "       [0.38631274, 0.61368726],\n",
       "       [0.55524997, 0.44475003],\n",
       "       [0.09982649, 0.90017351],\n",
       "       [0.38438197, 0.61561803],\n",
       "       [0.38824709, 0.61175291],\n",
       "       [0.44161996, 0.55838004],\n",
       "       [0.54111794, 0.45888206],\n",
       "       [0.1276392 , 0.8723608 ],\n",
       "       [0.25460196, 0.74539804],\n",
       "       [0.09765033, 0.90234967],\n",
       "       [0.49230131, 0.50769869],\n",
       "       [0.50249033, 0.49750967],\n",
       "       [0.26717496, 0.73282504],\n",
       "       [0.14089557, 0.85910443],\n",
       "       [0.45573417, 0.54426583],\n",
       "       [0.20167947, 0.79832053],\n",
       "       [0.54920297, 0.45079703],\n",
       "       [0.35963188, 0.64036812],\n",
       "       [0.49230131, 0.50769869],\n",
       "       [0.61067587, 0.38932413],\n",
       "       [0.23065003, 0.76934997],\n",
       "       [0.1350786 , 0.8649214 ],\n",
       "       [0.42759944, 0.57240056],\n",
       "       [0.16515219, 0.83484781],\n",
       "       [0.26717496, 0.73282504],\n",
       "       [0.47804931, 0.52195069],\n",
       "       [0.40188322, 0.59811678],\n",
       "       [0.39601922, 0.60398078],\n",
       "       [0.31065506, 0.68934494],\n",
       "       [0.20431718, 0.79568282],\n",
       "       [0.53503968, 0.46496032],\n",
       "       [0.27037914, 0.72962086],\n",
       "       [0.50860329, 0.49139671],\n",
       "       [0.31065506, 0.68934494],\n",
       "       [0.46586082, 0.53413918],\n",
       "       [0.51878494, 0.48121506],\n",
       "       [0.57129086, 0.42870914],\n",
       "       [0.48619043, 0.51380957],\n",
       "       [0.52081967, 0.47918033],\n",
       "       [0.13603382, 0.86396618],\n",
       "       [0.39992534, 0.60007466],\n",
       "       [0.26877403, 0.73122597],\n",
       "       [0.34844701, 0.65155299],\n",
       "       [0.35775672, 0.64224328],\n",
       "       [0.46383297, 0.53616703],\n",
       "       [0.1073944 , 0.8926056 ],\n",
       "       [0.41765417, 0.58234583],\n",
       "       [0.35029999, 0.64970001],\n",
       "       [0.3429157 , 0.6570843 ],\n",
       "       [0.57726963, 0.42273037],\n",
       "       [0.26877403, 0.73122597],\n",
       "       [0.1662792 , 0.8337208 ],\n",
       "       [0.58520597, 0.41479403],\n",
       "       [0.13893367, 0.86106633],\n",
       "       [0.44967516, 0.55032484],\n",
       "       [0.3319812 , 0.6680188 ],\n",
       "       [0.49433887, 0.50566113],\n",
       "       [0.12494089, 0.87505911],\n",
       "       [0.1607054 , 0.8392946 ],\n",
       "       [0.44765872, 0.55234128],\n",
       "       [0.48619043, 0.51380957],\n",
       "       [0.53503968, 0.46496032],\n",
       "       [0.38245484, 0.61754516],\n",
       "       [0.18149402, 0.81850598],\n",
       "       [0.39992534, 0.60007466],\n",
       "       [0.36717499, 0.63282501],\n",
       "       [0.20966926, 0.79033074],\n",
       "       [0.31945011, 0.68054989],\n",
       "       [0.58520597, 0.41479403],\n",
       "       [0.54516343, 0.45483657],\n",
       "       [0.37478373, 0.62521627],\n",
       "       [0.49637662, 0.50362338],\n",
       "       [0.23648688, 0.76351312],\n",
       "       [0.48008367, 0.51991633],\n",
       "       [0.50249033, 0.49750967],\n",
       "       [0.60873606, 0.39126394],\n",
       "       [0.18392855, 0.81607145],\n",
       "       [0.26241417, 0.73758583],\n",
       "       [0.43760358, 0.56239642],\n",
       "       [0.13038711, 0.86961289],\n",
       "       [0.3159162 , 0.6840838 ],\n",
       "       [0.40580832, 0.59419168],\n",
       "       [0.24998878, 0.75001122],\n",
       "       [0.35963188, 0.64036812],\n",
       "       [0.36907115, 0.63092885],\n",
       "       [0.37669578, 0.62330422],\n",
       "       [0.40188322, 0.59811678],\n",
       "       [0.33560665, 0.66439335],\n",
       "       [0.30544243, 0.69455757],\n",
       "       [0.38631274, 0.61368726],\n",
       "       [0.2165032 , 0.7834968 ],\n",
       "       [0.16969715, 0.83030285],\n",
       "       [0.28842804, 0.71157196],\n",
       "       [0.51471367, 0.48528633],\n",
       "       [0.51878494, 0.48121506],\n",
       "       [0.37861169, 0.62138831],\n",
       "       [0.50656583, 0.49343417],\n",
       "       [0.43961078, 0.56038922],\n",
       "       [0.51064046, 0.48935954],\n",
       "       [0.40580832, 0.59419168],\n",
       "       [0.55323603, 0.44676397],\n",
       "       [0.52488699, 0.47511301],\n",
       "       [0.26877403, 0.73122597],\n",
       "       [0.26083944, 0.73916056],\n",
       "       [0.53706701, 0.46293299],\n",
       "       [0.50656583, 0.49343417],\n",
       "       [0.53098161, 0.46901839],\n",
       "       [0.48415429, 0.51584571],\n",
       "       [0.36717499, 0.63282501],\n",
       "       [0.43159447, 0.56840553],\n",
       "       [0.58915789, 0.41084211],\n",
       "       [0.57328619, 0.42671381],\n",
       "       [0.50452815, 0.49547185],\n",
       "       [0.30371581, 0.69628419],\n",
       "       [0.41171846, 0.58828154],\n",
       "       [0.38824709, 0.61175291],\n",
       "       [0.48415429, 0.51584571],\n",
       "       [0.45371296, 0.54628704],\n",
       "       [0.3319812 , 0.6680188 ],\n",
       "       [0.1073944 , 0.8926056 ],\n",
       "       [0.57328619, 0.42671381],\n",
       "       [0.53098161, 0.46901839],\n",
       "       [0.30199471, 0.69800529],\n",
       "       [0.55927235, 0.44072765],\n",
       "       [0.60289618, 0.39710382],\n",
       "       [0.37287557, 0.62712443],\n",
       "       [0.24093094, 0.75906906],\n",
       "       [0.51878494, 0.48121506],\n",
       "       [0.23355577, 0.76644423],\n",
       "       [0.20698043, 0.79301957],\n",
       "       [0.38245484, 0.61754516],\n",
       "       [0.49841449, 0.50158551],\n",
       "       [0.35401948, 0.64598052],\n",
       "       [0.39212632, 0.60787368],\n",
       "       [0.45573417, 0.54426583],\n",
       "       [0.15743422, 0.84256578],\n",
       "       [0.55323603, 0.44676397],\n",
       "       [0.13224686, 0.86775314],\n",
       "       [0.15210282, 0.84789718],\n",
       "       [0.17317076, 0.82682924],\n",
       "       [0.42162472, 0.57837528],\n",
       "       [0.31415715, 0.68584285],\n",
       "       [0.51674958, 0.48325042],\n",
       "       [0.23501816, 0.76498184],\n",
       "       [0.28842804, 0.71157196],\n",
       "       [0.28509354, 0.71490646],\n",
       "       [0.50249033, 0.49750967],\n",
       "       [0.54314139, 0.45685861],\n",
       "       [0.17670035, 0.82329965],\n",
       "       [0.29516607, 0.70483393],\n",
       "       [0.42560543, 0.57439457],\n",
       "       [0.23065003, 0.76934997],\n",
       "       [0.32300489, 0.67699511],\n",
       "       [0.10584152, 0.89415848],\n",
       "       [0.31240343, 0.68759657],\n",
       "       [0.46180631, 0.53819369],\n",
       "       [0.37287557, 0.62712443],\n",
       "       [0.1607054 , 0.8392946 ],\n",
       "       [0.52081967, 0.47918033],\n",
       "       [0.18887333, 0.81112667],\n",
       "       [0.28842804, 0.71157196],\n",
       "       [0.54111794, 0.45888206],\n",
       "       [0.31415715, 0.68584285],\n",
       "       [0.57726963, 0.42273037],\n",
       "       [0.27360741, 0.72639259],\n",
       "       [0.14794513, 0.85205487],\n",
       "       [0.37861169, 0.62138831],\n",
       "       [0.52895101, 0.47104899],\n",
       "       [0.28675789, 0.71324211],\n",
       "       [0.51267728, 0.48732272],\n",
       "       [0.35963188, 0.64036812],\n",
       "       [0.44161996, 0.55838004],\n",
       "       [0.51878494, 0.48121506],\n",
       "       [0.33560665, 0.66439335],\n",
       "       [0.49230131, 0.50769869],\n",
       "       [0.51267728, 0.48732272],\n",
       "       [0.45371296, 0.54628704],\n",
       "       [0.36151134, 0.63848866],\n",
       "       [0.44564399, 0.55435601],\n",
       "       [0.45573417, 0.54426583],\n",
       "       [0.34108127, 0.65891873],\n",
       "       [0.24543167, 0.75456833],\n",
       "       [0.44765872, 0.55234128],\n",
       "       [0.31768053, 0.68231947],\n",
       "       [0.5672933 , 0.4327067 ],\n",
       "       [0.19264839, 0.80735161],\n",
       "       [0.37097136, 0.62902864],\n",
       "       [0.57925763, 0.42074237],\n",
       "       [0.50452815, 0.49547185],\n",
       "       [0.41567286, 0.58432714],\n",
       "       [0.29686481, 0.70313519],\n",
       "       [0.53909312, 0.46090688],\n",
       "       [0.11798366, 0.88201634],\n",
       "       [0.35401948, 0.64598052],\n",
       "       [0.23209973, 0.76790027],\n",
       "       [0.27685959, 0.72314041],\n",
       "       [0.2165032 , 0.7834968 ],\n",
       "       [0.21238365, 0.78761635],\n",
       "       [0.2249148 , 0.7750852 ],\n",
       "       [0.19012534, 0.80987466],\n",
       "       [0.5672933 , 0.4327067 ],\n",
       "       [0.30544243, 0.69455757],\n",
       "       [0.25305802, 0.74694198],\n",
       "       [0.12141934, 0.87858066],\n",
       "       [0.22633906, 0.77366094],\n",
       "       [0.47195089, 0.52804911],\n",
       "       [0.40188322, 0.59811678],\n",
       "       [0.24543167, 0.75456833],\n",
       "       [0.44161996, 0.55838004],\n",
       "       [0.44564399, 0.55435601],\n",
       "       [0.12141934, 0.87858066],\n",
       "       [0.3159162 , 0.6840838 ],\n",
       "       [0.54111794, 0.45888206],\n",
       "       [0.44765872, 0.55234128],\n",
       "       [0.16180794, 0.83819206],\n",
       "       [0.36528294, 0.63471706],\n",
       "       [0.39018497, 0.60981503],\n",
       "       [0.15528365, 0.84471635],\n",
       "       [0.12673428, 0.87326572],\n",
       "       [0.32479002, 0.67520998],\n",
       "       [0.22633906, 0.77366094],\n",
       "       [0.38438197, 0.61561803],\n",
       "       [0.37478373, 0.62521627],\n",
       "       [0.29686481, 0.70313519],\n",
       "       [0.1607054 , 0.8392946 ],\n",
       "       [0.0758044 , 0.9241956 ],\n",
       "       [0.19264839, 0.80735161],\n",
       "       [0.11217381, 0.88782619],\n",
       "       [0.34475482, 0.65524518],\n",
       "       [0.39601922, 0.60398078],\n",
       "       [0.23501816, 0.76498184],\n",
       "       [0.1802862 , 0.8197138 ],\n",
       "       [0.39407109, 0.60592891],\n",
       "       [0.49230131, 0.50769869],\n",
       "       [0.58322586, 0.41677414],\n",
       "       [0.2220854 , 0.7779146 ],\n",
       "       [0.293473  , 0.706527  ],\n",
       "       [0.53909312, 0.46090688],\n",
       "       [0.44161996, 0.55838004],\n",
       "       [0.43359536, 0.56640464],\n",
       "       [0.33560665, 0.66439335],\n",
       "       [0.50045242, 0.49954758],\n",
       "       [0.17084882, 0.82915118],\n",
       "       [0.21512363, 0.78487637],\n",
       "       [0.49230131, 0.50769869],\n",
       "       [0.40777543, 0.59222457],\n",
       "       [0.59898646, 0.40101354],\n",
       "       [0.09411732, 0.90588268],\n",
       "       [0.20299513, 0.79700487],\n",
       "       [0.08294826, 0.91705174],\n",
       "       [0.10130113, 0.89869887],\n",
       "       [0.49841449, 0.50158551],\n",
       "       [0.27199028, 0.72800972],\n",
       "       [0.49230131, 0.50769869],\n",
       "       [0.33017587, 0.66982413],\n",
       "       [0.36717499, 0.63282501],\n",
       "       [0.23944328, 0.76055672],\n",
       "       [0.32479002, 0.67520998],\n",
       "       [0.55323603, 0.44676397],\n",
       "       [0.16515219, 0.83484781],\n",
       "       [0.20564561, 0.79435439],\n",
       "       [0.293473  , 0.706527  ],\n",
       "       [0.29686481, 0.70313519],\n",
       "       [0.54718398, 0.45281602],\n",
       "       [0.57129086, 0.42870914],\n",
       "       [0.53503968, 0.46496032],\n",
       "       [0.5652912 , 0.4347088 ],\n",
       "       [0.29516607, 0.70483393],\n",
       "       [0.28178233, 0.71821767],\n",
       "       [0.23501816, 0.76498184],\n",
       "       [0.47195089, 0.52804911],\n",
       "       [0.51878494, 0.48121506],\n",
       "       [0.48211868, 0.51788132],\n",
       "       [0.25460196, 0.74539804],\n",
       "       [0.29856918, 0.70143082],\n",
       "       [0.62032142, 0.37967858],\n",
       "       [0.58124306, 0.41875694],\n",
       "       [0.15528365, 0.84471635],\n",
       "       [0.1662792 , 0.8337208 ],\n",
       "       [0.46180631, 0.53819369],\n",
       "       [0.12946559, 0.87053441],\n",
       "       [0.53503968, 0.46496032],\n",
       "       [0.51267728, 0.48732272],\n",
       "       [0.47601569, 0.52398431],\n",
       "       [0.59898646, 0.40101354],\n",
       "       [0.23065003, 0.76934997],\n",
       "       [0.55323603, 0.44676397],\n",
       "       [0.35588591, 0.64411409],\n",
       "       [0.51471367, 0.48528633],\n",
       "       [0.45775685, 0.54224315],\n",
       "       [0.23944328, 0.76055672],\n",
       "       [0.40188322, 0.59811678],\n",
       "       [0.23355577, 0.76644423],\n",
       "       [0.50045242, 0.49954758],\n",
       "       [0.41171846, 0.58828154],\n",
       "       [0.29010396, 0.70989604],\n",
       "       [0.4678898 , 0.5321102 ],\n",
       "       [0.49637662, 0.50362338],\n",
       "       [0.47195089, 0.52804911],\n",
       "       [0.43760358, 0.56239642],\n",
       "       [0.20564561, 0.79435439],\n",
       "       [0.22920668, 0.77079332],\n",
       "       [0.29178562, 0.70821438],\n",
       "       [0.20832165, 0.79167835],\n",
       "       [0.15421738, 0.84578262],\n",
       "       [0.52488699, 0.47511301],\n",
       "       [0.52895101, 0.47104899],\n",
       "       [0.44363105, 0.55636895],\n",
       "       [0.44363105, 0.55636895],\n",
       "       [0.32837555, 0.67162445],\n",
       "       [0.33379147, 0.66620853],\n",
       "       [0.28509354, 0.71490646],\n",
       "       [0.14897566, 0.85102434],\n",
       "       [0.57527913, 0.42472087],\n",
       "       [0.5652912 , 0.4347088 ],\n",
       "       [0.32300489, 0.67699511],\n",
       "       [0.5672933 , 0.4327067 ],\n",
       "       [0.55323603, 0.44676397],\n",
       "       [0.26877403, 0.73122597],\n",
       "       [0.49637662, 0.50362338],\n",
       "       [0.3392516 , 0.6607484 ],\n",
       "       [0.46586082, 0.53413918],\n",
       "       [0.30199471, 0.69800529],\n",
       "       [0.32837555, 0.67162445],\n",
       "       [0.26717496, 0.73282504],\n",
       "       [0.18270814, 0.81729186],\n",
       "       [0.43559842, 0.56440158],\n",
       "       [0.38631274, 0.61368726],\n",
       "       [0.37287557, 0.62712443],\n",
       "       [0.40580832, 0.59419168],\n",
       "       [0.39601922, 0.60398078],\n",
       "       [0.26717496, 0.73282504],\n",
       "       [0.43359536, 0.56640464],\n",
       "       [0.28842804, 0.71157196],\n",
       "       [0.42959581, 0.57040419],\n",
       "       [0.22633906, 0.77366094],\n",
       "       [0.15421738, 0.84578262],\n",
       "       [0.58915789, 0.41084211],\n",
       "       [0.17200669, 0.82799331]])"
      ]
     },
     "execution_count": 111,
     "metadata": {},
     "output_type": "execute_result"
    }
   ],
   "source": [
    "logre.predict_proba(X_test)"
   ]
  },
  {
   "cell_type": "code",
   "execution_count": 112,
   "id": "d2d0e668",
   "metadata": {},
   "outputs": [
    {
     "name": "stdout",
     "output_type": "stream",
     "text": [
      "predict a value [1]\n"
     ]
    }
   ],
   "source": [
    "y_pred=logre.predict([[20]])\n",
    "print('predict a value', y_pred)"
   ]
  },
  {
   "cell_type": "code",
   "execution_count": 113,
   "id": "f842c48c",
   "metadata": {},
   "outputs": [
    {
     "name": "stdout",
     "output_type": "stream",
     "text": [
      "our Accuracy is 0.651007\n"
     ]
    }
   ],
   "source": [
    "#output the accuracy score\n",
    "print('our Accuracy is %2f' %logre.score(X_test,y_test))"
   ]
  },
  {
   "cell_type": "code",
   "execution_count": null,
   "id": "c6aec56e",
   "metadata": {},
   "outputs": [],
   "source": []
  },
  {
   "cell_type": "code",
   "execution_count": 114,
   "id": "bef10b3d",
   "metadata": {},
   "outputs": [
    {
     "name": "stdout",
     "output_type": "stream",
     "text": [
      "Number of mislabeled points out of a total 447 points : 156\n"
     ]
    }
   ],
   "source": [
    "#print number of mislabled points\n",
    "print('Number of mislabeled points out of a total %d points : %d'\n",
    "% (X_test.shape[0], (y_test != logre.predict(X_test)).sum()))"
   ]
  },
  {
   "cell_type": "code",
   "execution_count": 115,
   "id": "c5fd5ab2",
   "metadata": {},
   "outputs": [],
   "source": [
    "predict=logre.predict(X_test)"
   ]
  },
  {
   "cell_type": "code",
   "execution_count": 116,
   "id": "418cc9c6",
   "metadata": {},
   "outputs": [
    {
     "data": {
      "text/html": [
       "<div>\n",
       "<style scoped>\n",
       "    .dataframe tbody tr th:only-of-type {\n",
       "        vertical-align: middle;\n",
       "    }\n",
       "\n",
       "    .dataframe tbody tr th {\n",
       "        vertical-align: top;\n",
       "    }\n",
       "\n",
       "    .dataframe thead th {\n",
       "        text-align: right;\n",
       "    }\n",
       "</style>\n",
       "<table border=\"1\" class=\"dataframe\">\n",
       "  <thead>\n",
       "    <tr style=\"text-align: right;\">\n",
       "      <th></th>\n",
       "      <th>Predicted No</th>\n",
       "      <th>Predicted Yes</th>\n",
       "    </tr>\n",
       "  </thead>\n",
       "  <tbody>\n",
       "    <tr>\n",
       "      <th>Actual No</th>\n",
       "      <td>60</td>\n",
       "      <td>118</td>\n",
       "    </tr>\n",
       "    <tr>\n",
       "      <th>Actual Yes</th>\n",
       "      <td>38</td>\n",
       "      <td>231</td>\n",
       "    </tr>\n",
       "  </tbody>\n",
       "</table>\n",
       "</div>"
      ],
      "text/plain": [
       "            Predicted No  Predicted Yes\n",
       "Actual No             60            118\n",
       "Actual Yes            38            231"
      ]
     },
     "execution_count": 116,
     "metadata": {},
     "output_type": "execute_result"
    }
   ],
   "source": [
    "#using confusion matrix\n",
    "pd.DataFrame(confusion_matrix(y_test,predict),columns=['Predicted No', 'Predicted Yes'], index=['Actual No','Actual Yes'])"
   ]
  },
  {
   "cell_type": "code",
   "execution_count": 117,
   "id": "e3d749bd",
   "metadata": {},
   "outputs": [],
   "source": [
    "from sklearn.metrics import classification_report"
   ]
  },
  {
   "cell_type": "code",
   "execution_count": 118,
   "id": "1a7ca3b6",
   "metadata": {},
   "outputs": [
    {
     "name": "stdout",
     "output_type": "stream",
     "text": [
      "              precision    recall  f1-score   support\n",
      "\n",
      "           0       0.61      0.34      0.43       178\n",
      "           1       0.66      0.86      0.75       269\n",
      "\n",
      "    accuracy                           0.65       447\n",
      "   macro avg       0.64      0.60      0.59       447\n",
      "weighted avg       0.64      0.65      0.62       447\n",
      "\n"
     ]
    }
   ],
   "source": [
    "print(classification_report(y_test,predict))"
   ]
  },
  {
   "cell_type": "code",
   "execution_count": 119,
   "id": "bfb3067d",
   "metadata": {},
   "outputs": [],
   "source": [
    "#using Smote"
   ]
  },
  {
   "cell_type": "code",
   "execution_count": 120,
   "id": "f8c24222",
   "metadata": {},
   "outputs": [
    {
     "name": "stdout",
     "output_type": "stream",
     "text": [
      "Requirement already satisfied: imblearn in c:\\users\\admin\\anaconda3\\lib\\site-packages (0.0)\n",
      "Requirement already satisfied: imbalanced-learn in c:\\users\\admin\\anaconda3\\lib\\site-packages (from imblearn) (0.11.0)\n",
      "Requirement already satisfied: numpy>=1.17.3 in c:\\users\\admin\\anaconda3\\lib\\site-packages (from imbalanced-learn->imblearn) (1.24.3)\n",
      "Requirement already satisfied: scipy>=1.5.0 in c:\\users\\admin\\anaconda3\\lib\\site-packages (from imbalanced-learn->imblearn) (1.10.1)\n",
      "Requirement already satisfied: scikit-learn>=1.0.2 in c:\\users\\admin\\anaconda3\\lib\\site-packages (from imbalanced-learn->imblearn) (1.3.0)\n",
      "Requirement already satisfied: joblib>=1.1.1 in c:\\users\\admin\\anaconda3\\lib\\site-packages (from imbalanced-learn->imblearn) (1.2.0)\n",
      "Requirement already satisfied: threadpoolctl>=2.0.0 in c:\\users\\admin\\anaconda3\\lib\\site-packages (from imbalanced-learn->imblearn) (2.2.0)\n",
      "Note: you may need to restart the kernel to use updated packages.\n"
     ]
    }
   ],
   "source": [
    "pip install imblearn"
   ]
  },
  {
   "cell_type": "code",
   "execution_count": 121,
   "id": "e8a60c42",
   "metadata": {},
   "outputs": [],
   "source": [
    "from imblearn.over_sampling import SMOTE"
   ]
  },
  {
   "cell_type": "code",
   "execution_count": 122,
   "id": "92afce93",
   "metadata": {},
   "outputs": [],
   "source": [
    "sm = SMOTE(random_state= 0)"
   ]
  },
  {
   "cell_type": "code",
   "execution_count": 123,
   "id": "909dddb2",
   "metadata": {},
   "outputs": [],
   "source": [
    "X_res, y_res = sm.fit_resample (X_train, y_train)"
   ]
  },
  {
   "cell_type": "code",
   "execution_count": 124,
   "id": "da86f6df",
   "metadata": {},
   "outputs": [
    {
     "data": {
      "text/plain": [
       "<Axes: xlabel='TARGET_5Yrs', ylabel='count'>"
      ]
     },
     "execution_count": 124,
     "metadata": {},
     "output_type": "execute_result"
    },
    {
     "data": {
      "image/png": "[encoded data removed]",
      "text/plain": [
       "<Figure size 640x480 with 1 Axes>"
      ]
     },
     "metadata": {},
     "output_type": "display_data"
    }
   ],
   "source": [
    "sns.countplot(x= 'TARGET_5Yrs', data =df)"
   ]
  },
  {
   "cell_type": "code",
   "execution_count": 125,
   "id": "b92013a1",
   "metadata": {},
   "outputs": [
    {
     "data": {
      "text/html": [
       "<style>#sk-container-id-7 {color: black;}#sk-container-id-7 pre{padding: 0;}#sk-container-id-7 div.sk-toggleable {background-color: white;}#sk-container-id-7 label.sk-toggleable__label {cursor: pointer;display: block;width: 100%;margin-bottom: 0;padding: 0.3em;box-sizing: border-box;text-align: center;}#sk-container-id-7 label.sk-toggleable__label-arrow:before {content: \"▸\";float: left;margin-right: 0.25em;color: #696969;}#sk-container-id-7 label.sk-toggleable__label-arrow:hover:before {color: black;}#sk-container-id-7 div.sk-estimator:hover label.sk-toggleable__label-arrow:before {color: black;}#sk-container-id-7 div.sk-toggleable__content {max-height: 0;max-width: 0;overflow: hidden;text-align: left;background-color: #f0f8ff;}#sk-container-id-7 div.sk-toggleable__content pre {margin: 0.2em;color: black;border-radius: 0.25em;background-color: #f0f8ff;}#sk-container-id-7 input.sk-toggleable__control:checked~div.sk-toggleable__content {max-height: 200px;max-width: 100%;overflow: auto;}#sk-container-id-7 input.sk-toggleable__control:checked~label.sk-toggleable__label-arrow:before {content: \"▾\";}#sk-container-id-7 div.sk-estimator input.sk-toggleable__control:checked~label.sk-toggleable__label {background-color: #d4ebff;}#sk-container-id-7 div.sk-label input.sk-toggleable__control:checked~label.sk-toggleable__label {background-color: #d4ebff;}#sk-container-id-7 input.sk-hidden--visually {border: 0;clip: rect(1px 1px 1px 1px);clip: rect(1px, 1px, 1px, 1px);height: 1px;margin: -1px;overflow: hidden;padding: 0;position: absolute;width: 1px;}#sk-container-id-7 div.sk-estimator {font-family: monospace;background-color: #f0f8ff;border: 1px dotted black;border-radius: 0.25em;box-sizing: border-box;margin-bottom: 0.5em;}#sk-container-id-7 div.sk-estimator:hover {background-color: #d4ebff;}#sk-container-id-7 div.sk-parallel-item::after {content: \"\";width: 100%;border-bottom: 1px solid gray;flex-grow: 1;}#sk-container-id-7 div.sk-label:hover label.sk-toggleable__label {background-color: #d4ebff;}#sk-container-id-7 div.sk-serial::before {content: \"\";position: absolute;border-left: 1px solid gray;box-sizing: border-box;top: 0;bottom: 0;left: 50%;z-index: 0;}#sk-container-id-7 div.sk-serial {display: flex;flex-direction: column;align-items: center;background-color: white;padding-right: 0.2em;padding-left: 0.2em;position: relative;}#sk-container-id-7 div.sk-item {position: relative;z-index: 1;}#sk-container-id-7 div.sk-parallel {display: flex;align-items: stretch;justify-content: center;background-color: white;position: relative;}#sk-container-id-7 div.sk-item::before, #sk-container-id-7 div.sk-parallel-item::before {content: \"\";position: absolute;border-left: 1px solid gray;box-sizing: border-box;top: 0;bottom: 0;left: 50%;z-index: -1;}#sk-container-id-7 div.sk-parallel-item {display: flex;flex-direction: column;z-index: 1;position: relative;background-color: white;}#sk-container-id-7 div.sk-parallel-item:first-child::after {align-self: flex-end;width: 50%;}#sk-container-id-7 div.sk-parallel-item:last-child::after {align-self: flex-start;width: 50%;}#sk-container-id-7 div.sk-parallel-item:only-child::after {width: 0;}#sk-container-id-7 div.sk-dashed-wrapped {border: 1px dashed gray;margin: 0 0.4em 0.5em 0.4em;box-sizing: border-box;padding-bottom: 0.4em;background-color: white;}#sk-container-id-7 div.sk-label label {font-family: monospace;font-weight: bold;display: inline-block;line-height: 1.2em;}#sk-container-id-7 div.sk-label-container {text-align: center;}#sk-container-id-7 div.sk-container {/* jupyter's `normalize.less` sets `[hidden] { display: none; }` but bootstrap.min.css set `[hidden] { display: none !important; }` so we also need the `!important` here to be able to override the default hidden behavior on the sphinx rendered scikit-learn.org. See: https://github.com/scikit-learn/scikit-learn/issues/21755 */display: inline-block !important;position: relative;}#sk-container-id-7 div.sk-text-repr-fallback {display: none;}</style><div id=\"sk-container-id-7\" class=\"sk-top-container\"><div class=\"sk-text-repr-fallback\"><pre>LogisticRegression(random_state=0)</pre><b>In a Jupyter environment, please rerun this cell to show the HTML representation or trust the notebook. <br />On GitHub, the HTML representation is unable to render, please try loading this page with nbviewer.org.</b></div><div class=\"sk-container\" hidden><div class=\"sk-item\"><div class=\"sk-estimator sk-toggleable\"><input class=\"sk-toggleable__control sk-hidden--visually\" id=\"sk-estimator-id-7\" type=\"checkbox\" checked><label for=\"sk-estimator-id-7\" class=\"sk-toggleable__label sk-toggleable__label-arrow\">LogisticRegression</label><div class=\"sk-toggleable__content\"><pre>LogisticRegression(random_state=0)</pre></div></div></div></div></div>"
      ],
      "text/plain": [
       "LogisticRegression(random_state=0)"
      ]
     },
     "execution_count": 125,
     "metadata": {},
     "output_type": "execute_result"
    }
   ],
   "source": [
    "from sklearn.metrics import classification_report \n",
    "logre = LogisticRegression(random_state=0)\n",
    "logre.fit(X_res, y_res)"
   ]
  },
  {
   "cell_type": "code",
   "execution_count": 126,
   "id": "c93dbbe8",
   "metadata": {},
   "outputs": [
    {
     "name": "stdout",
     "output_type": "stream",
     "text": [
      "[[129  49]\n",
      " [102 167]]\n",
      "              precision    recall  f1-score   support\n",
      "\n",
      "           0       0.56      0.72      0.63       178\n",
      "           1       0.77      0.62      0.69       269\n",
      "\n",
      "    accuracy                           0.66       447\n",
      "   macro avg       0.67      0.67      0.66       447\n",
      "weighted avg       0.69      0.66      0.67       447\n",
      "\n"
     ]
    }
   ],
   "source": [
    "#predicition of the test data\n",
    "predict=logre.predict(X_test)\n",
    "print(confusion_matrix(y_test, predict))\n",
    "print(classification_report(y_test, predict))"
   ]
  },
  {
   "cell_type": "code",
   "execution_count": 127,
   "id": "5fe1a214",
   "metadata": {},
   "outputs": [
    {
     "data": {
      "image/png": "[encoded data removed]",
      "text/plain": [
       "<Figure size 640x480 with 1 Axes>"
      ]
     },
     "metadata": {},
     "output_type": "display_data"
    }
   ],
   "source": [
    "#visualise the model\n",
    "\n",
    "fig1, ax1 = plt.subplots()\n",
    "ax1.scatter(X_test, y_test, color ='blue')\n",
    "ax1.scatter(X_test, logre.predict(X_test), color='red', marker ='*')\n",
    "ax1.scatter(X_test,logre.predict_proba(X_test)[:,0], color='green', marker='.')\n",
    "\n",
    "ax1.set_xlabel('Minutes Played')\n",
    "ax1.set_ylabel('TARGET_5Yrs')\n",
    "fig1.savefig('Classplot_NBA.png')"
   ]
  },
  {
   "cell_type": "markdown",
   "id": "e2877f8b",
   "metadata": {},
   "source": [
    "MORE FEATURES FOR LOGISTIC REGRESSION ALOGORITHM"
   ]
  },
  {
   "cell_type": "code",
   "execution_count": 128,
   "id": "0961b6da",
   "metadata": {},
   "outputs": [],
   "source": [
    "X = df.iloc[:,[0,1]].values #input games played and minutes played\n",
    "y = df.iloc[:, 19].values #target Target_5yrs\n"
   ]
  },
  {
   "cell_type": "code",
   "execution_count": 129,
   "id": "212bd67a",
   "metadata": {},
   "outputs": [],
   "source": [
    "# split the data into training and test sets\n",
    "X_train, X_test, y_train, y_test = train_test_split(X, y,\n",
    "test_size=1/3)"
   ]
  },
  {
   "cell_type": "code",
   "execution_count": 130,
   "id": "9366fe9c",
   "metadata": {},
   "outputs": [
    {
     "data": {
      "text/html": [
       "<style>#sk-container-id-8 {color: black;}#sk-container-id-8 pre{padding: 0;}#sk-container-id-8 div.sk-toggleable {background-color: white;}#sk-container-id-8 label.sk-toggleable__label {cursor: pointer;display: block;width: 100%;margin-bottom: 0;padding: 0.3em;box-sizing: border-box;text-align: center;}#sk-container-id-8 label.sk-toggleable__label-arrow:before {content: \"▸\";float: left;margin-right: 0.25em;color: #696969;}#sk-container-id-8 label.sk-toggleable__label-arrow:hover:before {color: black;}#sk-container-id-8 div.sk-estimator:hover label.sk-toggleable__label-arrow:before {color: black;}#sk-container-id-8 div.sk-toggleable__content {max-height: 0;max-width: 0;overflow: hidden;text-align: left;background-color: #f0f8ff;}#sk-container-id-8 div.sk-toggleable__content pre {margin: 0.2em;color: black;border-radius: 0.25em;background-color: #f0f8ff;}#sk-container-id-8 input.sk-toggleable__control:checked~div.sk-toggleable__content {max-height: 200px;max-width: 100%;overflow: auto;}#sk-container-id-8 input.sk-toggleable__control:checked~label.sk-toggleable__label-arrow:before {content: \"▾\";}#sk-container-id-8 div.sk-estimator input.sk-toggleable__control:checked~label.sk-toggleable__label {background-color: #d4ebff;}#sk-container-id-8 div.sk-label input.sk-toggleable__control:checked~label.sk-toggleable__label {background-color: #d4ebff;}#sk-container-id-8 input.sk-hidden--visually {border: 0;clip: rect(1px 1px 1px 1px);clip: rect(1px, 1px, 1px, 1px);height: 1px;margin: -1px;overflow: hidden;padding: 0;position: absolute;width: 1px;}#sk-container-id-8 div.sk-estimator {font-family: monospace;background-color: #f0f8ff;border: 1px dotted black;border-radius: 0.25em;box-sizing: border-box;margin-bottom: 0.5em;}#sk-container-id-8 div.sk-estimator:hover {background-color: #d4ebff;}#sk-container-id-8 div.sk-parallel-item::after {content: \"\";width: 100%;border-bottom: 1px solid gray;flex-grow: 1;}#sk-container-id-8 div.sk-label:hover label.sk-toggleable__label {background-color: #d4ebff;}#sk-container-id-8 div.sk-serial::before {content: \"\";position: absolute;border-left: 1px solid gray;box-sizing: border-box;top: 0;bottom: 0;left: 50%;z-index: 0;}#sk-container-id-8 div.sk-serial {display: flex;flex-direction: column;align-items: center;background-color: white;padding-right: 0.2em;padding-left: 0.2em;position: relative;}#sk-container-id-8 div.sk-item {position: relative;z-index: 1;}#sk-container-id-8 div.sk-parallel {display: flex;align-items: stretch;justify-content: center;background-color: white;position: relative;}#sk-container-id-8 div.sk-item::before, #sk-container-id-8 div.sk-parallel-item::before {content: \"\";position: absolute;border-left: 1px solid gray;box-sizing: border-box;top: 0;bottom: 0;left: 50%;z-index: -1;}#sk-container-id-8 div.sk-parallel-item {display: flex;flex-direction: column;z-index: 1;position: relative;background-color: white;}#sk-container-id-8 div.sk-parallel-item:first-child::after {align-self: flex-end;width: 50%;}#sk-container-id-8 div.sk-parallel-item:last-child::after {align-self: flex-start;width: 50%;}#sk-container-id-8 div.sk-parallel-item:only-child::after {width: 0;}#sk-container-id-8 div.sk-dashed-wrapped {border: 1px dashed gray;margin: 0 0.4em 0.5em 0.4em;box-sizing: border-box;padding-bottom: 0.4em;background-color: white;}#sk-container-id-8 div.sk-label label {font-family: monospace;font-weight: bold;display: inline-block;line-height: 1.2em;}#sk-container-id-8 div.sk-label-container {text-align: center;}#sk-container-id-8 div.sk-container {/* jupyter's `normalize.less` sets `[hidden] { display: none; }` but bootstrap.min.css set `[hidden] { display: none !important; }` so we also need the `!important` here to be able to override the default hidden behavior on the sphinx rendered scikit-learn.org. See: https://github.com/scikit-learn/scikit-learn/issues/21755 */display: inline-block !important;position: relative;}#sk-container-id-8 div.sk-text-repr-fallback {display: none;}</style><div id=\"sk-container-id-8\" class=\"sk-top-container\"><div class=\"sk-text-repr-fallback\"><pre>LogisticRegression()</pre><b>In a Jupyter environment, please rerun this cell to show the HTML representation or trust the notebook. <br />On GitHub, the HTML representation is unable to render, please try loading this page with nbviewer.org.</b></div><div class=\"sk-container\" hidden><div class=\"sk-item\"><div class=\"sk-estimator sk-toggleable\"><input class=\"sk-toggleable__control sk-hidden--visually\" id=\"sk-estimator-id-8\" type=\"checkbox\" checked><label for=\"sk-estimator-id-8\" class=\"sk-toggleable__label sk-toggleable__label-arrow\">LogisticRegression</label><div class=\"sk-toggleable__content\"><pre>LogisticRegression()</pre></div></div></div></div></div>"
      ],
      "text/plain": [
       "LogisticRegression()"
      ]
     },
     "execution_count": 130,
     "metadata": {},
     "output_type": "execute_result"
    }
   ],
   "source": [
    "#construct model and fit to the training data\n",
    "logre = LogisticRegression()\n",
    "logre.fit(X_train, y_train)"
   ]
  },
  {
   "cell_type": "code",
   "execution_count": 131,
   "id": "5ccdb962",
   "metadata": {},
   "outputs": [
    {
     "name": "stdout",
     "output_type": "stream",
     "text": [
      "Our Accuracy is 0.74\n",
      "Number of mislabeled points out of a total 447 points : 117\n"
     ]
    }
   ],
   "source": [
    "# performance metrics\n",
    "print('Our Accuracy is %.2f' % logre.score(X_test, y_test))\n",
    "print('Number of mislabeled points out of a total %d points : %d'\n",
    "% (X_test.shape[0], (y_test != logre.predict(X_test)).sum()))"
   ]
  },
  {
   "cell_type": "code",
   "execution_count": 132,
   "id": "f617a227",
   "metadata": {},
   "outputs": [
    {
     "name": "stdout",
     "output_type": "stream",
     "text": [
      "predict a value: [0]\n"
     ]
    }
   ],
   "source": [
    "y_pred =logre.predict([[21,23]])\n",
    "print ('predict a value:', y_pred)"
   ]
  },
  {
   "cell_type": "markdown",
   "id": "c619ca3f",
   "metadata": {},
   "source": [
    "GAUSSIAN NAIVE BAYES ALGORITHM APPLIED ON DATASET"
   ]
  },
  {
   "cell_type": "code",
   "execution_count": 133,
   "id": "48886392",
   "metadata": {},
   "outputs": [],
   "source": [
    "import numpy as np # linear algebra\n",
    "import pandas as pd # data processing, CSV file I/O (e.g. pd.read_csv)\n",
    "import matplotlib.pyplot as plt # MATLAB-like way of plotting\n",
    "import seaborn as sns"
   ]
  },
  {
   "cell_type": "code",
   "execution_count": 134,
   "id": "c38285c7",
   "metadata": {},
   "outputs": [],
   "source": [
    "#sklearn package for machine learning in python:\n",
    "from sklearn.model_selection import train_test_split\n",
    "from sklearn.naive_bayes import GaussianNB\n",
    "from sklearn.datasets import make_classification\n",
    "from sklearn.preprocessing import LabelEncoder"
   ]
  },
  {
   "cell_type": "code",
   "execution_count": 135,
   "id": "9d0ca8fa",
   "metadata": {},
   "outputs": [
    {
     "data": {
      "text/plain": [
       "<Axes: >"
      ]
     },
     "execution_count": 135,
     "metadata": {},
     "output_type": "execute_result"
    },
    {
     "data": {
      "image/png": "[encoded data removed]",
      "text/plain": [
       "<Figure size 640x480 with 1 Axes>"
      ]
     },
     "metadata": {},
     "output_type": "display_data"
    }
   ],
   "source": [
    "df['TARGET_5Yrs'].hist()"
   ]
  },
  {
   "cell_type": "code",
   "execution_count": 136,
   "id": "e42a1e94",
   "metadata": {},
   "outputs": [
    {
     "data": {
      "text/plain": [
       "<Axes: >"
      ]
     },
     "execution_count": 136,
     "metadata": {},
     "output_type": "execute_result"
    },
    {
     "data": {
      "image/png": "[encoded data removed]",
      "text/plain": [
       "<Figure size 640x480 with 2 Axes>"
      ]
     },
     "metadata": {},
     "output_type": "display_data"
    }
   ],
   "source": [
    "sns.heatmap(df.corr())"
   ]
  },
  {
   "cell_type": "code",
   "execution_count": 137,
   "id": "1ed37ee7",
   "metadata": {},
   "outputs": [
    {
     "name": "stdout",
     "output_type": "stream",
     "text": [
      "Requirement already satisfied: pydataset in c:\\users\\admin\\anaconda3\\lib\\site-packages (0.2.0)\n",
      "Requirement already satisfied: pandas in c:\\users\\admin\\anaconda3\\lib\\site-packages (from pydataset) (1.5.3)\n",
      "Requirement already satisfied: python-dateutil>=2.8.1 in c:\\users\\admin\\anaconda3\\lib\\site-packages (from pandas->pydataset) (2.8.2)\n",
      "Requirement already satisfied: pytz>=2020.1 in c:\\users\\admin\\anaconda3\\lib\\site-packages (from pandas->pydataset) (2022.7)\n",
      "Requirement already satisfied: numpy>=1.21.0 in c:\\users\\admin\\anaconda3\\lib\\site-packages (from pandas->pydataset) (1.24.3)\n",
      "Requirement already satisfied: six>=1.5 in c:\\users\\admin\\anaconda3\\lib\\site-packages (from python-dateutil>=2.8.1->pandas->pydataset) (1.16.0)\n",
      "Note: you may need to restart the kernel to use updated packages.\n"
     ]
    }
   ],
   "source": [
    "pip install pydataset"
   ]
  },
  {
   "cell_type": "markdown",
   "id": "e5d16897",
   "metadata": {},
   "source": [
    "GAUSSIAN NAIVE BAYES ALGORITHM APPLIED ON DATASET"
   ]
  },
  {
   "cell_type": "code",
   "execution_count": 138,
   "id": "473cc9d8",
   "metadata": {},
   "outputs": [],
   "source": [
    "X = df.iloc[:,[0,1]].values #input games played, minutes played\n",
    "y = df.iloc[:, 19].values #target Target_5yrs\n"
   ]
  },
  {
   "cell_type": "code",
   "execution_count": 139,
   "id": "a57cc9e4",
   "metadata": {},
   "outputs": [],
   "source": [
    "# split the data\n",
    "X_train, X_test, y_train, y_test = train_test_split(X, y,\n",
    "test_size=1/3, random_state = 2)"
   ]
  },
  {
   "cell_type": "code",
   "execution_count": 140,
   "id": "183fba2c",
   "metadata": {},
   "outputs": [
    {
     "data": {
      "text/html": [
       "<style>#sk-container-id-9 {color: black;}#sk-container-id-9 pre{padding: 0;}#sk-container-id-9 div.sk-toggleable {background-color: white;}#sk-container-id-9 label.sk-toggleable__label {cursor: pointer;display: block;width: 100%;margin-bottom: 0;padding: 0.3em;box-sizing: border-box;text-align: center;}#sk-container-id-9 label.sk-toggleable__label-arrow:before {content: \"▸\";float: left;margin-right: 0.25em;color: #696969;}#sk-container-id-9 label.sk-toggleable__label-arrow:hover:before {color: black;}#sk-container-id-9 div.sk-estimator:hover label.sk-toggleable__label-arrow:before {color: black;}#sk-container-id-9 div.sk-toggleable__content {max-height: 0;max-width: 0;overflow: hidden;text-align: left;background-color: #f0f8ff;}#sk-container-id-9 div.sk-toggleable__content pre {margin: 0.2em;color: black;border-radius: 0.25em;background-color: #f0f8ff;}#sk-container-id-9 input.sk-toggleable__control:checked~div.sk-toggleable__content {max-height: 200px;max-width: 100%;overflow: auto;}#sk-container-id-9 input.sk-toggleable__control:checked~label.sk-toggleable__label-arrow:before {content: \"▾\";}#sk-container-id-9 div.sk-estimator input.sk-toggleable__control:checked~label.sk-toggleable__label {background-color: #d4ebff;}#sk-container-id-9 div.sk-label input.sk-toggleable__control:checked~label.sk-toggleable__label {background-color: #d4ebff;}#sk-container-id-9 input.sk-hidden--visually {border: 0;clip: rect(1px 1px 1px 1px);clip: rect(1px, 1px, 1px, 1px);height: 1px;margin: -1px;overflow: hidden;padding: 0;position: absolute;width: 1px;}#sk-container-id-9 div.sk-estimator {font-family: monospace;background-color: #f0f8ff;border: 1px dotted black;border-radius: 0.25em;box-sizing: border-box;margin-bottom: 0.5em;}#sk-container-id-9 div.sk-estimator:hover {background-color: #d4ebff;}#sk-container-id-9 div.sk-parallel-item::after {content: \"\";width: 100%;border-bottom: 1px solid gray;flex-grow: 1;}#sk-container-id-9 div.sk-label:hover label.sk-toggleable__label {background-color: #d4ebff;}#sk-container-id-9 div.sk-serial::before {content: \"\";position: absolute;border-left: 1px solid gray;box-sizing: border-box;top: 0;bottom: 0;left: 50%;z-index: 0;}#sk-container-id-9 div.sk-serial {display: flex;flex-direction: column;align-items: center;background-color: white;padding-right: 0.2em;padding-left: 0.2em;position: relative;}#sk-container-id-9 div.sk-item {position: relative;z-index: 1;}#sk-container-id-9 div.sk-parallel {display: flex;align-items: stretch;justify-content: center;background-color: white;position: relative;}#sk-container-id-9 div.sk-item::before, #sk-container-id-9 div.sk-parallel-item::before {content: \"\";position: absolute;border-left: 1px solid gray;box-sizing: border-box;top: 0;bottom: 0;left: 50%;z-index: -1;}#sk-container-id-9 div.sk-parallel-item {display: flex;flex-direction: column;z-index: 1;position: relative;background-color: white;}#sk-container-id-9 div.sk-parallel-item:first-child::after {align-self: flex-end;width: 50%;}#sk-container-id-9 div.sk-parallel-item:last-child::after {align-self: flex-start;width: 50%;}#sk-container-id-9 div.sk-parallel-item:only-child::after {width: 0;}#sk-container-id-9 div.sk-dashed-wrapped {border: 1px dashed gray;margin: 0 0.4em 0.5em 0.4em;box-sizing: border-box;padding-bottom: 0.4em;background-color: white;}#sk-container-id-9 div.sk-label label {font-family: monospace;font-weight: bold;display: inline-block;line-height: 1.2em;}#sk-container-id-9 div.sk-label-container {text-align: center;}#sk-container-id-9 div.sk-container {/* jupyter's `normalize.less` sets `[hidden] { display: none; }` but bootstrap.min.css set `[hidden] { display: none !important; }` so we also need the `!important` here to be able to override the default hidden behavior on the sphinx rendered scikit-learn.org. See: https://github.com/scikit-learn/scikit-learn/issues/21755 */display: inline-block !important;position: relative;}#sk-container-id-9 div.sk-text-repr-fallback {display: none;}</style><div id=\"sk-container-id-9\" class=\"sk-top-container\"><div class=\"sk-text-repr-fallback\"><pre>GaussianNB()</pre><b>In a Jupyter environment, please rerun this cell to show the HTML representation or trust the notebook. <br />On GitHub, the HTML representation is unable to render, please try loading this page with nbviewer.org.</b></div><div class=\"sk-container\" hidden><div class=\"sk-item\"><div class=\"sk-estimator sk-toggleable\"><input class=\"sk-toggleable__control sk-hidden--visually\" id=\"sk-estimator-id-9\" type=\"checkbox\" checked><label for=\"sk-estimator-id-9\" class=\"sk-toggleable__label sk-toggleable__label-arrow\">GaussianNB</label><div class=\"sk-toggleable__content\"><pre>GaussianNB()</pre></div></div></div></div></div>"
      ],
      "text/plain": [
       "GaussianNB()"
      ]
     },
     "execution_count": 140,
     "metadata": {},
     "output_type": "execute_result"
    }
   ],
   "source": [
    "gnb = GaussianNB()\n",
    "gnb.fit(X_train, y_train)"
   ]
  },
  {
   "cell_type": "code",
   "execution_count": 141,
   "id": "ec3a7a04",
   "metadata": {},
   "outputs": [
    {
     "name": "stdout",
     "output_type": "stream",
     "text": [
      "              precision    recall  f1-score   support\n",
      "\n",
      "           0       0.55      0.59      0.57       165\n",
      "           1       0.75      0.72      0.73       282\n",
      "\n",
      "    accuracy                           0.67       447\n",
      "   macro avg       0.65      0.66      0.65       447\n",
      "weighted avg       0.68      0.67      0.67       447\n",
      "\n"
     ]
    }
   ],
   "source": [
    "y_pred = gnb.predict(X_test)\n",
    "print(classification_report(y_test, y_pred))"
   ]
  },
  {
   "cell_type": "code",
   "execution_count": 142,
   "id": "5b629cfd",
   "metadata": {},
   "outputs": [
    {
     "name": "stdout",
     "output_type": "stream",
     "text": [
      "Our Accuracy is 0.67\n",
      "Number of mislabeled points out of a total 447 points : 147\n"
     ]
    }
   ],
   "source": [
    "# performance metrics\n",
    "print('Our Accuracy is %.2f' % gnb.score(X_test, y_test))\n",
    "print('Number of mislabeled points out of a total %d points : %d'\n",
    "% (X_test.shape[0], (y_test != gnb.predict(X_test)).sum()))"
   ]
  },
  {
   "cell_type": "code",
   "execution_count": 143,
   "id": "f562a267",
   "metadata": {},
   "outputs": [],
   "source": [
    "y_pred =gnb.predict([[10,56]])"
   ]
  },
  {
   "cell_type": "code",
   "execution_count": 144,
   "id": "7cba883d",
   "metadata": {},
   "outputs": [
    {
     "name": "stdout",
     "output_type": "stream",
     "text": [
      "predict a value: [1]\n"
     ]
    }
   ],
   "source": [
    "print('predict a value:', y_pred)"
   ]
  },
  {
   "cell_type": "markdown",
   "id": "ac09947e",
   "metadata": {},
   "source": [
    "using 3 Features "
   ]
  },
  {
   "cell_type": "code",
   "execution_count": 145,
   "id": "96dd99e9",
   "metadata": {},
   "outputs": [],
   "source": [
    "X = df.iloc[:, [7,8,9]].values #3 input features (3 points made, 3 point attempt, 3 point percent)\n",
    "y = df.iloc[:, 19].values #target feature Target 5yrs"
   ]
  },
  {
   "cell_type": "code",
   "execution_count": 146,
   "id": "2a26d94d",
   "metadata": {},
   "outputs": [],
   "source": [
    "# split the data into training and test sets\n",
    "X_train, X_test, y_train, y_test = train_test_split(X, y,\n",
    "test_size=1/3, random_state = 2)"
   ]
  },
  {
   "cell_type": "code",
   "execution_count": 147,
   "id": "a104fba1",
   "metadata": {},
   "outputs": [
    {
     "data": {
      "text/html": [
       "<style>#sk-container-id-10 {color: black;}#sk-container-id-10 pre{padding: 0;}#sk-container-id-10 div.sk-toggleable {background-color: white;}#sk-container-id-10 label.sk-toggleable__label {cursor: pointer;display: block;width: 100%;margin-bottom: 0;padding: 0.3em;box-sizing: border-box;text-align: center;}#sk-container-id-10 label.sk-toggleable__label-arrow:before {content: \"▸\";float: left;margin-right: 0.25em;color: #696969;}#sk-container-id-10 label.sk-toggleable__label-arrow:hover:before {color: black;}#sk-container-id-10 div.sk-estimator:hover label.sk-toggleable__label-arrow:before {color: black;}#sk-container-id-10 div.sk-toggleable__content {max-height: 0;max-width: 0;overflow: hidden;text-align: left;background-color: #f0f8ff;}#sk-container-id-10 div.sk-toggleable__content pre {margin: 0.2em;color: black;border-radius: 0.25em;background-color: #f0f8ff;}#sk-container-id-10 input.sk-toggleable__control:checked~div.sk-toggleable__content {max-height: 200px;max-width: 100%;overflow: auto;}#sk-container-id-10 input.sk-toggleable__control:checked~label.sk-toggleable__label-arrow:before {content: \"▾\";}#sk-container-id-10 div.sk-estimator input.sk-toggleable__control:checked~label.sk-toggleable__label {background-color: #d4ebff;}#sk-container-id-10 div.sk-label input.sk-toggleable__control:checked~label.sk-toggleable__label {background-color: #d4ebff;}#sk-container-id-10 input.sk-hidden--visually {border: 0;clip: rect(1px 1px 1px 1px);clip: rect(1px, 1px, 1px, 1px);height: 1px;margin: -1px;overflow: hidden;padding: 0;position: absolute;width: 1px;}#sk-container-id-10 div.sk-estimator {font-family: monospace;background-color: #f0f8ff;border: 1px dotted black;border-radius: 0.25em;box-sizing: border-box;margin-bottom: 0.5em;}#sk-container-id-10 div.sk-estimator:hover {background-color: #d4ebff;}#sk-container-id-10 div.sk-parallel-item::after {content: \"\";width: 100%;border-bottom: 1px solid gray;flex-grow: 1;}#sk-container-id-10 div.sk-label:hover label.sk-toggleable__label {background-color: #d4ebff;}#sk-container-id-10 div.sk-serial::before {content: \"\";position: absolute;border-left: 1px solid gray;box-sizing: border-box;top: 0;bottom: 0;left: 50%;z-index: 0;}#sk-container-id-10 div.sk-serial {display: flex;flex-direction: column;align-items: center;background-color: white;padding-right: 0.2em;padding-left: 0.2em;position: relative;}#sk-container-id-10 div.sk-item {position: relative;z-index: 1;}#sk-container-id-10 div.sk-parallel {display: flex;align-items: stretch;justify-content: center;background-color: white;position: relative;}#sk-container-id-10 div.sk-item::before, #sk-container-id-10 div.sk-parallel-item::before {content: \"\";position: absolute;border-left: 1px solid gray;box-sizing: border-box;top: 0;bottom: 0;left: 50%;z-index: -1;}#sk-container-id-10 div.sk-parallel-item {display: flex;flex-direction: column;z-index: 1;position: relative;background-color: white;}#sk-container-id-10 div.sk-parallel-item:first-child::after {align-self: flex-end;width: 50%;}#sk-container-id-10 div.sk-parallel-item:last-child::after {align-self: flex-start;width: 50%;}#sk-container-id-10 div.sk-parallel-item:only-child::after {width: 0;}#sk-container-id-10 div.sk-dashed-wrapped {border: 1px dashed gray;margin: 0 0.4em 0.5em 0.4em;box-sizing: border-box;padding-bottom: 0.4em;background-color: white;}#sk-container-id-10 div.sk-label label {font-family: monospace;font-weight: bold;display: inline-block;line-height: 1.2em;}#sk-container-id-10 div.sk-label-container {text-align: center;}#sk-container-id-10 div.sk-container {/* jupyter's `normalize.less` sets `[hidden] { display: none; }` but bootstrap.min.css set `[hidden] { display: none !important; }` so we also need the `!important` here to be able to override the default hidden behavior on the sphinx rendered scikit-learn.org. See: https://github.com/scikit-learn/scikit-learn/issues/21755 */display: inline-block !important;position: relative;}#sk-container-id-10 div.sk-text-repr-fallback {display: none;}</style><div id=\"sk-container-id-10\" class=\"sk-top-container\"><div class=\"sk-text-repr-fallback\"><pre>GaussianNB()</pre><b>In a Jupyter environment, please rerun this cell to show the HTML representation or trust the notebook. <br />On GitHub, the HTML representation is unable to render, please try loading this page with nbviewer.org.</b></div><div class=\"sk-container\" hidden><div class=\"sk-item\"><div class=\"sk-estimator sk-toggleable\"><input class=\"sk-toggleable__control sk-hidden--visually\" id=\"sk-estimator-id-10\" type=\"checkbox\" checked><label for=\"sk-estimator-id-10\" class=\"sk-toggleable__label sk-toggleable__label-arrow\">GaussianNB</label><div class=\"sk-toggleable__content\"><pre>GaussianNB()</pre></div></div></div></div></div>"
      ],
      "text/plain": [
       "GaussianNB()"
      ]
     },
     "execution_count": 147,
     "metadata": {},
     "output_type": "execute_result"
    }
   ],
   "source": [
    "gnb = GaussianNB()\n",
    "gnb.fit(X_train, y_train)"
   ]
  },
  {
   "cell_type": "code",
   "execution_count": 148,
   "id": "ab0c308c",
   "metadata": {},
   "outputs": [
    {
     "name": "stdout",
     "output_type": "stream",
     "text": [
      "Our Accuracy is 0.61\n",
      "Number of mislabeled points out of a total 447 points : 176\n"
     ]
    }
   ],
   "source": [
    "# performance metrics\n",
    "print('Our Accuracy is %.2f' % gnb.score(X_test, y_test))\n",
    "print('Number of mislabeled points out of a total %d points : %d'\n",
    "% (X_test.shape[0], (y_test != gnb.predict(X_test)).sum()))"
   ]
  },
  {
   "cell_type": "code",
   "execution_count": 149,
   "id": "9e8ef432",
   "metadata": {},
   "outputs": [],
   "source": [
    "y_pred =gnb.predict([[3,8,25]])"
   ]
  },
  {
   "cell_type": "code",
   "execution_count": 150,
   "id": "bed7a00e",
   "metadata": {},
   "outputs": [
    {
     "name": "stdout",
     "output_type": "stream",
     "text": [
      "predict a value: [1]\n"
     ]
    }
   ],
   "source": [
    "print('predict a value:', y_pred)"
   ]
  },
  {
   "cell_type": "markdown",
   "id": "1000ad68",
   "metadata": {},
   "source": [
    "NEURAL NETWORKS WITH LOGISTIC REGRESSION"
   ]
  },
  {
   "cell_type": "code",
   "execution_count": 152,
   "id": "495db719",
   "metadata": {},
   "outputs": [],
   "source": [
    "import numpy as np # linear algebra\n",
    "import pandas as pd # data processing, CSV file I/O (e.g. pd.read_csv)\n",
    "import matplotlib.pyplot as plt # MATLAB-like way of plotting\n",
    "from matplotlib.colors import Normalize, ListedColormap"
   ]
  },
  {
   "cell_type": "code",
   "execution_count": 163,
   "id": "2bba44ee",
   "metadata": {},
   "outputs": [],
   "source": [
    "#sklearn package for machine learning in python:\n",
    "from sklearn.model_selection import train_test_split\n",
    "from sklearn.neural_network import MLPClassifier\n",
    "from sklearn.datasets import make_classification, make_moons, make_circles\n",
    "from sklearn.preprocessing import LabelEncoder\n",
    "from sklearn.metrics import classification_report, confusion_matrix"
   ]
  },
  {
   "cell_type": "code",
   "execution_count": 164,
   "id": "798327ee",
   "metadata": {},
   "outputs": [],
   "source": [
    "X = df.iloc[:, [1]].values #input games played\n",
    "y = df.iloc[:, 19].values #target target_5yrs"
   ]
  },
  {
   "cell_type": "code",
   "execution_count": 165,
   "id": "56c8f9f7",
   "metadata": {},
   "outputs": [],
   "source": [
    "# split the data into training and test sets\n",
    "X_train, X_test, y_train, y_test = train_test_split(X, y,\n",
    "test_size=1/3, random_state = 0)"
   ]
  },
  {
   "cell_type": "code",
   "execution_count": 166,
   "id": "e51022a4",
   "metadata": {},
   "outputs": [
    {
     "data": {
      "text/html": [
       "<style>#sk-container-id-15 {color: black;}#sk-container-id-15 pre{padding: 0;}#sk-container-id-15 div.sk-toggleable {background-color: white;}#sk-container-id-15 label.sk-toggleable__label {cursor: pointer;display: block;width: 100%;margin-bottom: 0;padding: 0.3em;box-sizing: border-box;text-align: center;}#sk-container-id-15 label.sk-toggleable__label-arrow:before {content: \"▸\";float: left;margin-right: 0.25em;color: #696969;}#sk-container-id-15 label.sk-toggleable__label-arrow:hover:before {color: black;}#sk-container-id-15 div.sk-estimator:hover label.sk-toggleable__label-arrow:before {color: black;}#sk-container-id-15 div.sk-toggleable__content {max-height: 0;max-width: 0;overflow: hidden;text-align: left;background-color: #f0f8ff;}#sk-container-id-15 div.sk-toggleable__content pre {margin: 0.2em;color: black;border-radius: 0.25em;background-color: #f0f8ff;}#sk-container-id-15 input.sk-toggleable__control:checked~div.sk-toggleable__content {max-height: 200px;max-width: 100%;overflow: auto;}#sk-container-id-15 input.sk-toggleable__control:checked~label.sk-toggleable__label-arrow:before {content: \"▾\";}#sk-container-id-15 div.sk-estimator input.sk-toggleable__control:checked~label.sk-toggleable__label {background-color: #d4ebff;}#sk-container-id-15 div.sk-label input.sk-toggleable__control:checked~label.sk-toggleable__label {background-color: #d4ebff;}#sk-container-id-15 input.sk-hidden--visually {border: 0;clip: rect(1px 1px 1px 1px);clip: rect(1px, 1px, 1px, 1px);height: 1px;margin: -1px;overflow: hidden;padding: 0;position: absolute;width: 1px;}#sk-container-id-15 div.sk-estimator {font-family: monospace;background-color: #f0f8ff;border: 1px dotted black;border-radius: 0.25em;box-sizing: border-box;margin-bottom: 0.5em;}#sk-container-id-15 div.sk-estimator:hover {background-color: #d4ebff;}#sk-container-id-15 div.sk-parallel-item::after {content: \"\";width: 100%;border-bottom: 1px solid gray;flex-grow: 1;}#sk-container-id-15 div.sk-label:hover label.sk-toggleable__label {background-color: #d4ebff;}#sk-container-id-15 div.sk-serial::before {content: \"\";position: absolute;border-left: 1px solid gray;box-sizing: border-box;top: 0;bottom: 0;left: 50%;z-index: 0;}#sk-container-id-15 div.sk-serial {display: flex;flex-direction: column;align-items: center;background-color: white;padding-right: 0.2em;padding-left: 0.2em;position: relative;}#sk-container-id-15 div.sk-item {position: relative;z-index: 1;}#sk-container-id-15 div.sk-parallel {display: flex;align-items: stretch;justify-content: center;background-color: white;position: relative;}#sk-container-id-15 div.sk-item::before, #sk-container-id-15 div.sk-parallel-item::before {content: \"\";position: absolute;border-left: 1px solid gray;box-sizing: border-box;top: 0;bottom: 0;left: 50%;z-index: -1;}#sk-container-id-15 div.sk-parallel-item {display: flex;flex-direction: column;z-index: 1;position: relative;background-color: white;}#sk-container-id-15 div.sk-parallel-item:first-child::after {align-self: flex-end;width: 50%;}#sk-container-id-15 div.sk-parallel-item:last-child::after {align-self: flex-start;width: 50%;}#sk-container-id-15 div.sk-parallel-item:only-child::after {width: 0;}#sk-container-id-15 div.sk-dashed-wrapped {border: 1px dashed gray;margin: 0 0.4em 0.5em 0.4em;box-sizing: border-box;padding-bottom: 0.4em;background-color: white;}#sk-container-id-15 div.sk-label label {font-family: monospace;font-weight: bold;display: inline-block;line-height: 1.2em;}#sk-container-id-15 div.sk-label-container {text-align: center;}#sk-container-id-15 div.sk-container {/* jupyter's `normalize.less` sets `[hidden] { display: none; }` but bootstrap.min.css set `[hidden] { display: none !important; }` so we also need the `!important` here to be able to override the default hidden behavior on the sphinx rendered scikit-learn.org. See: https://github.com/scikit-learn/scikit-learn/issues/21755 */display: inline-block !important;position: relative;}#sk-container-id-15 div.sk-text-repr-fallback {display: none;}</style><div id=\"sk-container-id-15\" class=\"sk-top-container\"><div class=\"sk-text-repr-fallback\"><pre>StandardScaler()</pre><b>In a Jupyter environment, please rerun this cell to show the HTML representation or trust the notebook. <br />On GitHub, the HTML representation is unable to render, please try loading this page with nbviewer.org.</b></div><div class=\"sk-container\" hidden><div class=\"sk-item\"><div class=\"sk-estimator sk-toggleable\"><input class=\"sk-toggleable__control sk-hidden--visually\" id=\"sk-estimator-id-15\" type=\"checkbox\" checked><label for=\"sk-estimator-id-15\" class=\"sk-toggleable__label sk-toggleable__label-arrow\">StandardScaler</label><div class=\"sk-toggleable__content\"><pre>StandardScaler()</pre></div></div></div></div></div>"
      ],
      "text/plain": [
       "StandardScaler()"
      ]
     },
     "execution_count": 166,
     "metadata": {},
     "output_type": "execute_result"
    }
   ],
   "source": [
    "scaler = StandardScaler()\n",
    "scaler.fit(X_train)"
   ]
  },
  {
   "cell_type": "code",
   "execution_count": 167,
   "id": "d9048403",
   "metadata": {},
   "outputs": [],
   "source": [
    "X_train = scaler.transform(X_train)\n",
    "X_test = scaler.transform(X_test)"
   ]
  },
  {
   "cell_type": "markdown",
   "id": "098dfe6d",
   "metadata": {},
   "source": [
    "NEURAL NETWORKS WITH LOGISTIC REGRESSION"
   ]
  },
  {
   "cell_type": "code",
   "execution_count": 168,
   "id": "e9e29f47",
   "metadata": {},
   "outputs": [
    {
     "data": {
      "text/html": [
       "<style>#sk-container-id-16 {color: black;}#sk-container-id-16 pre{padding: 0;}#sk-container-id-16 div.sk-toggleable {background-color: white;}#sk-container-id-16 label.sk-toggleable__label {cursor: pointer;display: block;width: 100%;margin-bottom: 0;padding: 0.3em;box-sizing: border-box;text-align: center;}#sk-container-id-16 label.sk-toggleable__label-arrow:before {content: \"▸\";float: left;margin-right: 0.25em;color: #696969;}#sk-container-id-16 label.sk-toggleable__label-arrow:hover:before {color: black;}#sk-container-id-16 div.sk-estimator:hover label.sk-toggleable__label-arrow:before {color: black;}#sk-container-id-16 div.sk-toggleable__content {max-height: 0;max-width: 0;overflow: hidden;text-align: left;background-color: #f0f8ff;}#sk-container-id-16 div.sk-toggleable__content pre {margin: 0.2em;color: black;border-radius: 0.25em;background-color: #f0f8ff;}#sk-container-id-16 input.sk-toggleable__control:checked~div.sk-toggleable__content {max-height: 200px;max-width: 100%;overflow: auto;}#sk-container-id-16 input.sk-toggleable__control:checked~label.sk-toggleable__label-arrow:before {content: \"▾\";}#sk-container-id-16 div.sk-estimator input.sk-toggleable__control:checked~label.sk-toggleable__label {background-color: #d4ebff;}#sk-container-id-16 div.sk-label input.sk-toggleable__control:checked~label.sk-toggleable__label {background-color: #d4ebff;}#sk-container-id-16 input.sk-hidden--visually {border: 0;clip: rect(1px 1px 1px 1px);clip: rect(1px, 1px, 1px, 1px);height: 1px;margin: -1px;overflow: hidden;padding: 0;position: absolute;width: 1px;}#sk-container-id-16 div.sk-estimator {font-family: monospace;background-color: #f0f8ff;border: 1px dotted black;border-radius: 0.25em;box-sizing: border-box;margin-bottom: 0.5em;}#sk-container-id-16 div.sk-estimator:hover {background-color: #d4ebff;}#sk-container-id-16 div.sk-parallel-item::after {content: \"\";width: 100%;border-bottom: 1px solid gray;flex-grow: 1;}#sk-container-id-16 div.sk-label:hover label.sk-toggleable__label {background-color: #d4ebff;}#sk-container-id-16 div.sk-serial::before {content: \"\";position: absolute;border-left: 1px solid gray;box-sizing: border-box;top: 0;bottom: 0;left: 50%;z-index: 0;}#sk-container-id-16 div.sk-serial {display: flex;flex-direction: column;align-items: center;background-color: white;padding-right: 0.2em;padding-left: 0.2em;position: relative;}#sk-container-id-16 div.sk-item {position: relative;z-index: 1;}#sk-container-id-16 div.sk-parallel {display: flex;align-items: stretch;justify-content: center;background-color: white;position: relative;}#sk-container-id-16 div.sk-item::before, #sk-container-id-16 div.sk-parallel-item::before {content: \"\";position: absolute;border-left: 1px solid gray;box-sizing: border-box;top: 0;bottom: 0;left: 50%;z-index: -1;}#sk-container-id-16 div.sk-parallel-item {display: flex;flex-direction: column;z-index: 1;position: relative;background-color: white;}#sk-container-id-16 div.sk-parallel-item:first-child::after {align-self: flex-end;width: 50%;}#sk-container-id-16 div.sk-parallel-item:last-child::after {align-self: flex-start;width: 50%;}#sk-container-id-16 div.sk-parallel-item:only-child::after {width: 0;}#sk-container-id-16 div.sk-dashed-wrapped {border: 1px dashed gray;margin: 0 0.4em 0.5em 0.4em;box-sizing: border-box;padding-bottom: 0.4em;background-color: white;}#sk-container-id-16 div.sk-label label {font-family: monospace;font-weight: bold;display: inline-block;line-height: 1.2em;}#sk-container-id-16 div.sk-label-container {text-align: center;}#sk-container-id-16 div.sk-container {/* jupyter's `normalize.less` sets `[hidden] { display: none; }` but bootstrap.min.css set `[hidden] { display: none !important; }` so we also need the `!important` here to be able to override the default hidden behavior on the sphinx rendered scikit-learn.org. See: https://github.com/scikit-learn/scikit-learn/issues/21755 */display: inline-block !important;position: relative;}#sk-container-id-16 div.sk-text-repr-fallback {display: none;}</style><div id=\"sk-container-id-16\" class=\"sk-top-container\"><div class=\"sk-text-repr-fallback\"><pre>MLPClassifier(activation=&#x27;logistic&#x27;, hidden_layer_sizes=(50, 30, 20),\n",
       "              max_iter=2000, random_state=0)</pre><b>In a Jupyter environment, please rerun this cell to show the HTML representation or trust the notebook. <br />On GitHub, the HTML representation is unable to render, please try loading this page with nbviewer.org.</b></div><div class=\"sk-container\" hidden><div class=\"sk-item\"><div class=\"sk-estimator sk-toggleable\"><input class=\"sk-toggleable__control sk-hidden--visually\" id=\"sk-estimator-id-16\" type=\"checkbox\" checked><label for=\"sk-estimator-id-16\" class=\"sk-toggleable__label sk-toggleable__label-arrow\">MLPClassifier</label><div class=\"sk-toggleable__content\"><pre>MLPClassifier(activation=&#x27;logistic&#x27;, hidden_layer_sizes=(50, 30, 20),\n",
       "              max_iter=2000, random_state=0)</pre></div></div></div></div></div>"
      ],
      "text/plain": [
       "MLPClassifier(activation='logistic', hidden_layer_sizes=(50, 30, 20),\n",
       "              max_iter=2000, random_state=0)"
      ]
     },
     "execution_count": 168,
     "metadata": {},
     "output_type": "execute_result"
    }
   ],
   "source": [
    "# setup the neural network architecture\n",
    "mlp = MLPClassifier(hidden_layer_sizes=(50,30,20),\n",
    "activation=\"logistic\", random_state=0, max_iter=2000)\n",
    "mlp.fit(X_train, y_train)"
   ]
  },
  {
   "cell_type": "code",
   "execution_count": 169,
   "id": "052b4837",
   "metadata": {},
   "outputs": [],
   "source": [
    "predictions = mlp.predict(X_test)"
   ]
  },
  {
   "cell_type": "code",
   "execution_count": 171,
   "id": "d33b637d",
   "metadata": {},
   "outputs": [
    {
     "name": "stdout",
     "output_type": "stream",
     "text": [
      "[[ 67 111]\n",
      " [ 44 225]]\n",
      "              precision    recall  f1-score   support\n",
      "\n",
      "           0       0.60      0.38      0.46       178\n",
      "           1       0.67      0.84      0.74       269\n",
      "\n",
      "    accuracy                           0.65       447\n",
      "   macro avg       0.64      0.61      0.60       447\n",
      "weighted avg       0.64      0.65      0.63       447\n",
      "\n"
     ]
    }
   ],
   "source": [
    "print(confusion_matrix(y_test, predictions))\n",
    "print(classification_report(y_test, predictions))"
   ]
  },
  {
   "cell_type": "code",
   "execution_count": 172,
   "id": "11757e63",
   "metadata": {},
   "outputs": [
    {
     "name": "stdout",
     "output_type": "stream",
     "text": [
      "Our Accuracy is 0.65\n",
      "Number of mislabeled points out of a total 447 points : 155\n"
     ]
    }
   ],
   "source": [
    "# performance metrics\n",
    "print('Our Accuracy is %.2f' % mlp.score(X_test, y_test))\n",
    "print('Number of mislabeled points out of a total %d points : %d'\n",
    "% (X_test.shape[0], (y_test != mlp.predict(X_test)).sum()))"
   ]
  },
  {
   "cell_type": "code",
   "execution_count": 173,
   "id": "4fe6e3b4",
   "metadata": {},
   "outputs": [
    {
     "name": "stdout",
     "output_type": "stream",
     "text": [
      "prediction: [1]\n"
     ]
    }
   ],
   "source": [
    "#make prediction of a test point\n",
    "test_point = np.array([[10]])\n",
    "print('prediction:', mlp.predict(test_point))"
   ]
  },
  {
   "cell_type": "code",
   "execution_count": 174,
   "id": "79b5f0d2",
   "metadata": {},
   "outputs": [
    {
     "name": "stdout",
     "output_type": "stream",
     "text": [
      "prediction: [1]\n"
     ]
    }
   ],
   "source": [
    "#make prediction of a test point\n",
    "test_point = np.array([[25]])\n",
    "print('prediction:', mlp.predict(test_point))"
   ]
  },
  {
   "cell_type": "markdown",
   "id": "2ea276b8",
   "metadata": {},
   "source": [
    "NEURAL NETWORKS WITH HIDDEN LAYERS"
   ]
  },
  {
   "cell_type": "code",
   "execution_count": 175,
   "id": "427fdc08",
   "metadata": {},
   "outputs": [],
   "source": [
    "X = df.iloc[:, [1]].values #input games played\n",
    "y = df.iloc[:, 19].values # target Target_5yrs\n"
   ]
  },
  {
   "cell_type": "code",
   "execution_count": 176,
   "id": "21574150",
   "metadata": {},
   "outputs": [],
   "source": [
    "# split the data into training and test sets\n",
    "X_train, X_test, y_train, y_test = train_test_split(X, y,\n",
    "test_size=1/3, random_state = 0)"
   ]
  },
  {
   "cell_type": "code",
   "execution_count": 177,
   "id": "5acb367a",
   "metadata": {},
   "outputs": [
    {
     "data": {
      "text/html": [
       "<style>#sk-container-id-17 {color: black;}#sk-container-id-17 pre{padding: 0;}#sk-container-id-17 div.sk-toggleable {background-color: white;}#sk-container-id-17 label.sk-toggleable__label {cursor: pointer;display: block;width: 100%;margin-bottom: 0;padding: 0.3em;box-sizing: border-box;text-align: center;}#sk-container-id-17 label.sk-toggleable__label-arrow:before {content: \"▸\";float: left;margin-right: 0.25em;color: #696969;}#sk-container-id-17 label.sk-toggleable__label-arrow:hover:before {color: black;}#sk-container-id-17 div.sk-estimator:hover label.sk-toggleable__label-arrow:before {color: black;}#sk-container-id-17 div.sk-toggleable__content {max-height: 0;max-width: 0;overflow: hidden;text-align: left;background-color: #f0f8ff;}#sk-container-id-17 div.sk-toggleable__content pre {margin: 0.2em;color: black;border-radius: 0.25em;background-color: #f0f8ff;}#sk-container-id-17 input.sk-toggleable__control:checked~div.sk-toggleable__content {max-height: 200px;max-width: 100%;overflow: auto;}#sk-container-id-17 input.sk-toggleable__control:checked~label.sk-toggleable__label-arrow:before {content: \"▾\";}#sk-container-id-17 div.sk-estimator input.sk-toggleable__control:checked~label.sk-toggleable__label {background-color: #d4ebff;}#sk-container-id-17 div.sk-label input.sk-toggleable__control:checked~label.sk-toggleable__label {background-color: #d4ebff;}#sk-container-id-17 input.sk-hidden--visually {border: 0;clip: rect(1px 1px 1px 1px);clip: rect(1px, 1px, 1px, 1px);height: 1px;margin: -1px;overflow: hidden;padding: 0;position: absolute;width: 1px;}#sk-container-id-17 div.sk-estimator {font-family: monospace;background-color: #f0f8ff;border: 1px dotted black;border-radius: 0.25em;box-sizing: border-box;margin-bottom: 0.5em;}#sk-container-id-17 div.sk-estimator:hover {background-color: #d4ebff;}#sk-container-id-17 div.sk-parallel-item::after {content: \"\";width: 100%;border-bottom: 1px solid gray;flex-grow: 1;}#sk-container-id-17 div.sk-label:hover label.sk-toggleable__label {background-color: #d4ebff;}#sk-container-id-17 div.sk-serial::before {content: \"\";position: absolute;border-left: 1px solid gray;box-sizing: border-box;top: 0;bottom: 0;left: 50%;z-index: 0;}#sk-container-id-17 div.sk-serial {display: flex;flex-direction: column;align-items: center;background-color: white;padding-right: 0.2em;padding-left: 0.2em;position: relative;}#sk-container-id-17 div.sk-item {position: relative;z-index: 1;}#sk-container-id-17 div.sk-parallel {display: flex;align-items: stretch;justify-content: center;background-color: white;position: relative;}#sk-container-id-17 div.sk-item::before, #sk-container-id-17 div.sk-parallel-item::before {content: \"\";position: absolute;border-left: 1px solid gray;box-sizing: border-box;top: 0;bottom: 0;left: 50%;z-index: -1;}#sk-container-id-17 div.sk-parallel-item {display: flex;flex-direction: column;z-index: 1;position: relative;background-color: white;}#sk-container-id-17 div.sk-parallel-item:first-child::after {align-self: flex-end;width: 50%;}#sk-container-id-17 div.sk-parallel-item:last-child::after {align-self: flex-start;width: 50%;}#sk-container-id-17 div.sk-parallel-item:only-child::after {width: 0;}#sk-container-id-17 div.sk-dashed-wrapped {border: 1px dashed gray;margin: 0 0.4em 0.5em 0.4em;box-sizing: border-box;padding-bottom: 0.4em;background-color: white;}#sk-container-id-17 div.sk-label label {font-family: monospace;font-weight: bold;display: inline-block;line-height: 1.2em;}#sk-container-id-17 div.sk-label-container {text-align: center;}#sk-container-id-17 div.sk-container {/* jupyter's `normalize.less` sets `[hidden] { display: none; }` but bootstrap.min.css set `[hidden] { display: none !important; }` so we also need the `!important` here to be able to override the default hidden behavior on the sphinx rendered scikit-learn.org. See: https://github.com/scikit-learn/scikit-learn/issues/21755 */display: inline-block !important;position: relative;}#sk-container-id-17 div.sk-text-repr-fallback {display: none;}</style><div id=\"sk-container-id-17\" class=\"sk-top-container\"><div class=\"sk-text-repr-fallback\"><pre>StandardScaler()</pre><b>In a Jupyter environment, please rerun this cell to show the HTML representation or trust the notebook. <br />On GitHub, the HTML representation is unable to render, please try loading this page with nbviewer.org.</b></div><div class=\"sk-container\" hidden><div class=\"sk-item\"><div class=\"sk-estimator sk-toggleable\"><input class=\"sk-toggleable__control sk-hidden--visually\" id=\"sk-estimator-id-17\" type=\"checkbox\" checked><label for=\"sk-estimator-id-17\" class=\"sk-toggleable__label sk-toggleable__label-arrow\">StandardScaler</label><div class=\"sk-toggleable__content\"><pre>StandardScaler()</pre></div></div></div></div></div>"
      ],
      "text/plain": [
       "StandardScaler()"
      ]
     },
     "execution_count": 177,
     "metadata": {},
     "output_type": "execute_result"
    }
   ],
   "source": [
    "scaler = StandardScaler()\n",
    "scaler.fit(X_train)"
   ]
  },
  {
   "cell_type": "markdown",
   "id": "a9ed33f9",
   "metadata": {},
   "source": [
    "NEURAL NETWORKS WITH HIDDEN LAYERS"
   ]
  },
  {
   "cell_type": "code",
   "execution_count": 178,
   "id": "689449c3",
   "metadata": {},
   "outputs": [
    {
     "data": {
      "text/html": [
       "<style>#sk-container-id-18 {color: black;}#sk-container-id-18 pre{padding: 0;}#sk-container-id-18 div.sk-toggleable {background-color: white;}#sk-container-id-18 label.sk-toggleable__label {cursor: pointer;display: block;width: 100%;margin-bottom: 0;padding: 0.3em;box-sizing: border-box;text-align: center;}#sk-container-id-18 label.sk-toggleable__label-arrow:before {content: \"▸\";float: left;margin-right: 0.25em;color: #696969;}#sk-container-id-18 label.sk-toggleable__label-arrow:hover:before {color: black;}#sk-container-id-18 div.sk-estimator:hover label.sk-toggleable__label-arrow:before {color: black;}#sk-container-id-18 div.sk-toggleable__content {max-height: 0;max-width: 0;overflow: hidden;text-align: left;background-color: #f0f8ff;}#sk-container-id-18 div.sk-toggleable__content pre {margin: 0.2em;color: black;border-radius: 0.25em;background-color: #f0f8ff;}#sk-container-id-18 input.sk-toggleable__control:checked~div.sk-toggleable__content {max-height: 200px;max-width: 100%;overflow: auto;}#sk-container-id-18 input.sk-toggleable__control:checked~label.sk-toggleable__label-arrow:before {content: \"▾\";}#sk-container-id-18 div.sk-estimator input.sk-toggleable__control:checked~label.sk-toggleable__label {background-color: #d4ebff;}#sk-container-id-18 div.sk-label input.sk-toggleable__control:checked~label.sk-toggleable__label {background-color: #d4ebff;}#sk-container-id-18 input.sk-hidden--visually {border: 0;clip: rect(1px 1px 1px 1px);clip: rect(1px, 1px, 1px, 1px);height: 1px;margin: -1px;overflow: hidden;padding: 0;position: absolute;width: 1px;}#sk-container-id-18 div.sk-estimator {font-family: monospace;background-color: #f0f8ff;border: 1px dotted black;border-radius: 0.25em;box-sizing: border-box;margin-bottom: 0.5em;}#sk-container-id-18 div.sk-estimator:hover {background-color: #d4ebff;}#sk-container-id-18 div.sk-parallel-item::after {content: \"\";width: 100%;border-bottom: 1px solid gray;flex-grow: 1;}#sk-container-id-18 div.sk-label:hover label.sk-toggleable__label {background-color: #d4ebff;}#sk-container-id-18 div.sk-serial::before {content: \"\";position: absolute;border-left: 1px solid gray;box-sizing: border-box;top: 0;bottom: 0;left: 50%;z-index: 0;}#sk-container-id-18 div.sk-serial {display: flex;flex-direction: column;align-items: center;background-color: white;padding-right: 0.2em;padding-left: 0.2em;position: relative;}#sk-container-id-18 div.sk-item {position: relative;z-index: 1;}#sk-container-id-18 div.sk-parallel {display: flex;align-items: stretch;justify-content: center;background-color: white;position: relative;}#sk-container-id-18 div.sk-item::before, #sk-container-id-18 div.sk-parallel-item::before {content: \"\";position: absolute;border-left: 1px solid gray;box-sizing: border-box;top: 0;bottom: 0;left: 50%;z-index: -1;}#sk-container-id-18 div.sk-parallel-item {display: flex;flex-direction: column;z-index: 1;position: relative;background-color: white;}#sk-container-id-18 div.sk-parallel-item:first-child::after {align-self: flex-end;width: 50%;}#sk-container-id-18 div.sk-parallel-item:last-child::after {align-self: flex-start;width: 50%;}#sk-container-id-18 div.sk-parallel-item:only-child::after {width: 0;}#sk-container-id-18 div.sk-dashed-wrapped {border: 1px dashed gray;margin: 0 0.4em 0.5em 0.4em;box-sizing: border-box;padding-bottom: 0.4em;background-color: white;}#sk-container-id-18 div.sk-label label {font-family: monospace;font-weight: bold;display: inline-block;line-height: 1.2em;}#sk-container-id-18 div.sk-label-container {text-align: center;}#sk-container-id-18 div.sk-container {/* jupyter's `normalize.less` sets `[hidden] { display: none; }` but bootstrap.min.css set `[hidden] { display: none !important; }` so we also need the `!important` here to be able to override the default hidden behavior on the sphinx rendered scikit-learn.org. See: https://github.com/scikit-learn/scikit-learn/issues/21755 */display: inline-block !important;position: relative;}#sk-container-id-18 div.sk-text-repr-fallback {display: none;}</style><div id=\"sk-container-id-18\" class=\"sk-top-container\"><div class=\"sk-text-repr-fallback\"><pre>MLPClassifier(activation=&#x27;tanh&#x27;, hidden_layer_sizes=(50, 30, 20), max_iter=2000,\n",
       "              random_state=0)</pre><b>In a Jupyter environment, please rerun this cell to show the HTML representation or trust the notebook. <br />On GitHub, the HTML representation is unable to render, please try loading this page with nbviewer.org.</b></div><div class=\"sk-container\" hidden><div class=\"sk-item\"><div class=\"sk-estimator sk-toggleable\"><input class=\"sk-toggleable__control sk-hidden--visually\" id=\"sk-estimator-id-18\" type=\"checkbox\" checked><label for=\"sk-estimator-id-18\" class=\"sk-toggleable__label sk-toggleable__label-arrow\">MLPClassifier</label><div class=\"sk-toggleable__content\"><pre>MLPClassifier(activation=&#x27;tanh&#x27;, hidden_layer_sizes=(50, 30, 20), max_iter=2000,\n",
       "              random_state=0)</pre></div></div></div></div></div>"
      ],
      "text/plain": [
       "MLPClassifier(activation='tanh', hidden_layer_sizes=(50, 30, 20), max_iter=2000,\n",
       "              random_state=0)"
      ]
     },
     "execution_count": 178,
     "metadata": {},
     "output_type": "execute_result"
    }
   ],
   "source": [
    "# setup the neural network architecture\n",
    "mlp = MLPClassifier(hidden_layer_sizes=(50,30,20),\n",
    "activation=\"tanh\", random_state=0, max_iter=2000)\n",
    "mlp.fit(X_train, y_train)"
   ]
  },
  {
   "cell_type": "code",
   "execution_count": 179,
   "id": "a381f980",
   "metadata": {},
   "outputs": [],
   "source": [
    "predictions = mlp.predict(X_test)"
   ]
  },
  {
   "cell_type": "code",
   "execution_count": 180,
   "id": "861d85cc",
   "metadata": {},
   "outputs": [
    {
     "name": "stdout",
     "output_type": "stream",
     "text": [
      "[[ 53 125]\n",
      " [ 32 237]]\n",
      "              precision    recall  f1-score   support\n",
      "\n",
      "           0       0.62      0.30      0.40       178\n",
      "           1       0.65      0.88      0.75       269\n",
      "\n",
      "    accuracy                           0.65       447\n",
      "   macro avg       0.64      0.59      0.58       447\n",
      "weighted avg       0.64      0.65      0.61       447\n",
      "\n"
     ]
    }
   ],
   "source": [
    "print(confusion_matrix(y_test, predictions))\n",
    "print(classification_report(y_test, predictions))"
   ]
  },
  {
   "cell_type": "code",
   "execution_count": 181,
   "id": "39407c40",
   "metadata": {},
   "outputs": [
    {
     "name": "stdout",
     "output_type": "stream",
     "text": [
      "Our Accuracy is 0.65\n",
      "Number of mislabeled points out of a total 447 points : 157\n"
     ]
    }
   ],
   "source": [
    "# performance metrics\n",
    "print('Our Accuracy is %.2f' % mlp.score(X_test, y_test))\n",
    "print('Number of mislabeled points out of a total %d points : %d'\n",
    "% (X_test.shape[0], (y_test != mlp.predict(X_test)).sum()))"
   ]
  },
  {
   "cell_type": "code",
   "execution_count": 182,
   "id": "8ac753a9",
   "metadata": {},
   "outputs": [
    {
     "name": "stdout",
     "output_type": "stream",
     "text": [
      "prediction: [1]\n"
     ]
    }
   ],
   "source": [
    "#make prediction of a test point\n",
    "test_point = np.array([[25]])\n",
    "print('prediction:', mlp.predict(test_point))"
   ]
  },
  {
   "cell_type": "code",
   "execution_count": 183,
   "id": "1175836c",
   "metadata": {},
   "outputs": [
    {
     "name": "stdout",
     "output_type": "stream",
     "text": [
      "prediction: [1]\n"
     ]
    }
   ],
   "source": [
    "#make prediction of a test point\n",
    "test_point = np.array([[35]])\n",
    "print('prediction:', mlp.predict(test_point))"
   ]
  },
  {
   "cell_type": "code",
   "execution_count": 187,
   "id": "ba2e39b3",
   "metadata": {},
   "outputs": [
    {
     "data": {
      "image/png": "[encoded data removed]",
      "text/plain": [
       "<Figure size 640x480 with 1 Axes>"
      ]
     },
     "metadata": {},
     "output_type": "display_data"
    }
   ],
   "source": [
    "models =['Logistic Regression', 'Gaussian Naive Bayes', 'Neural Networks']\n",
    "accuracy_scores = [0.74,0.67,0.65]\n",
    "plt.bar(models,accuracy_scores, color=['blue','green','red'])\n",
    "plt.xlabel('Models')\n",
    "plt.ylabel('Accuracy')\n",
    "plt.title('Accuracy of Different Models')\n",
    "plt.savefig('Compare_models.png')\n",
    "plt.ylim(0,1)\n",
    "plt.show()"
   ]
  },
  {
   "cell_type": "code",
   "execution_count": 186,
   "id": "5c4778d5",
   "metadata": {},
   "outputs": [
    {
     "data": {
      "text/plain": [
       "<Figure size 640x480 with 0 Axes>"
      ]
     },
     "metadata": {},
     "output_type": "display_data"
    }
   ],
   "source": []
  },
  {
   "cell_type": "code",
   "execution_count": null,
   "id": "c41cbead",
   "metadata": {},
   "outputs": [],
   "source": []
  }
 ],
 "metadata": {
  "kernelspec": {
   "display_name": "Python 3 (ipykernel)",
   "language": "python",
   "name": "python3"
  },
  "language_info": {
   "codemirror_mode": {
    "name": "ipython",
    "version": 3
   },
   "file_extension": ".py",
   "mimetype": "text/x-python",
   "name": "python",
   "nbconvert_exporter": "python",
   "pygments_lexer": "ipython3",
   "version": "3.11.4"
  }
 },
 "nbformat": 4,
 "nbformat_minor": 5
}
