{
 "cells": [
  {
   "cell_type": "code",
   "execution_count": 1,
   "id": "83f13fdd",
   "metadata": {},
   "outputs": [],
   "source": [
    "import pandas as pd \n",
    "import numpy as np"
   ]
  },
  {
   "cell_type": "code",
   "execution_count": 3,
   "id": "136788a2",
   "metadata": {},
   "outputs": [],
   "source": [
    "#import adult data from desktop directory \n",
    "data = pd.read_csv('C:/Users/Admin/Desktop/Data Minning/adult.csv')"
   ]
  },
  {
   "cell_type": "code",
   "execution_count": 4,
   "id": "c42a638e",
   "metadata": {},
   "outputs": [
    {
     "name": "stdout",
     "output_type": "stream",
     "text": [
      "age                 0\n",
      "workclass         963\n",
      "fnlwgt              0\n",
      "education           0\n",
      "education-num       0\n",
      "marital-status      0\n",
      "occupation        966\n",
      "relationship        0\n",
      "race                0\n",
      "sex                 0\n",
      "capital-gain        0\n",
      "capital-loss        0\n",
      "hours-per-week      0\n",
      "native-country    274\n",
      "income              0\n",
      "dtype: int64\n"
     ]
    }
   ],
   "source": [
    "null_values= data.isnull().sum()\n",
    "print(null_values)"
   ]
  },
  {
   "cell_type": "code",
   "execution_count": 5,
   "id": "d70e496c",
   "metadata": {},
   "outputs": [
    {
     "name": "stdout",
     "output_type": "stream",
     "text": [
      "age                 0\n",
      "workclass         963\n",
      "fnlwgt              0\n",
      "education           0\n",
      "education-num       0\n",
      "marital-status      0\n",
      "occupation        966\n",
      "relationship        0\n",
      "race                0\n",
      "sex                 0\n",
      "capital-gain        0\n",
      "capital-loss        0\n",
      "hours-per-week      0\n",
      "native-country    274\n",
      "income              0\n",
      "dtype: int64\n"
     ]
    }
   ],
   "source": [
    "na_values= data.isna().sum()\n",
    "print(na_values)"
   ]
  },
  {
   "cell_type": "code",
   "execution_count": 6,
   "id": "b879b234",
   "metadata": {},
   "outputs": [
    {
     "name": "stdout",
     "output_type": "stream",
     "text": [
      "    age         workclass  fnlwgt     education  education-num  \\\n",
      "0    39         State-gov   77516     Bachelors             13   \n",
      "1    50  Self-emp-not-inc   83311     Bachelors             13   \n",
      "2    38           Private  215646       HS-grad              9   \n",
      "3    53           Private  234721          11th              7   \n",
      "4    28           Private  338409     Bachelors             13   \n",
      "..  ...               ...     ...           ...            ...   \n",
      "95   29         Local-gov  115585  Some-college             10   \n",
      "96   48  Self-emp-not-inc  191277     Doctorate             16   \n",
      "97   37           Private  202683  Some-college             10   \n",
      "98   48           Private  171095    Assoc-acdm             12   \n",
      "99   32       Federal-gov  249409       HS-grad              9   \n",
      "\n",
      "        marital-status         occupation   relationship   race     sex  \\\n",
      "0        Never-married       Adm-clerical  Not-in-family  White    Male   \n",
      "1   Married-civ-spouse    Exec-managerial        Husband  White    Male   \n",
      "2             Divorced  Handlers-cleaners  Not-in-family  White    Male   \n",
      "3   Married-civ-spouse  Handlers-cleaners        Husband  Black    Male   \n",
      "4   Married-civ-spouse     Prof-specialty           Wife  Black  Female   \n",
      "..                 ...                ...            ...    ...     ...   \n",
      "95       Never-married  Handlers-cleaners  Not-in-family  White    Male   \n",
      "96  Married-civ-spouse     Prof-specialty        Husband  White    Male   \n",
      "97  Married-civ-spouse              Sales        Husband  White    Male   \n",
      "98            Divorced    Exec-managerial      Unmarried  White  Female   \n",
      "99       Never-married      Other-service      Own-child  Black    Male   \n",
      "\n",
      "    capital-gain  capital-loss  hours-per-week native-country income  \n",
      "0           2174             0              40  United-States  <=50K  \n",
      "1              0             0              13  United-States  <=50K  \n",
      "2              0             0              40  United-States  <=50K  \n",
      "3              0             0              40  United-States  <=50K  \n",
      "4              0             0              40           Cuba  <=50K  \n",
      "..           ...           ...             ...            ...    ...  \n",
      "95             0             0              50  United-States  <=50K  \n",
      "96             0          1902              60  United-States   >50K  \n",
      "97             0             0              48  United-States   >50K  \n",
      "98             0             0              40        England  <=50K  \n",
      "99             0             0              40  United-States  <=50K  \n",
      "\n",
      "[100 rows x 15 columns]\n"
     ]
    }
   ],
   "source": [
    "#change display setting to show all columns\n",
    "pd.set_option('display.max_columns', None)\n",
    "print(data.head(100))"
   ]
  },
  {
   "cell_type": "code",
   "execution_count": 7,
   "id": "42e7f727",
   "metadata": {},
   "outputs": [
    {
     "name": "stdout",
     "output_type": "stream",
     "text": [
      "Columns with wrong data: ['workclass', 'education', 'marital-status', 'occupation', 'relationship', 'race', 'sex', 'native-country', 'income']\n"
     ]
    }
   ],
   "source": [
    "# Define a function to find columns with wrong data\n",
    "def find_wrong_data_columns(dataframe):\n",
    "    wrong_data_columns = []\n",
    "    for column in dataframe.columns:\n",
    "        # Check if the column data type is object, which may indicate mixed types\n",
    "        if dataframe[column].dtype == 'object':\n",
    "            try:\n",
    "                # Try to convert the column to a numeric type\n",
    "                pd.to_numeric(dataframe[column])\n",
    "            except ValueError:\n",
    "                # If conversion fails, it means there is wrong data in the column\n",
    "                wrong_data_columns.append(column)\n",
    "    return wrong_data_columns\n",
    "\n",
    "# Call the function and print the columns with wrong data\n",
    "columns_with_wrong_data = find_wrong_data_columns(data)\n",
    "print(f\"Columns with wrong data: {columns_with_wrong_data}\")"
   ]
  },
  {
   "cell_type": "code",
   "execution_count": 8,
   "id": "a4aaf6ef",
   "metadata": {},
   "outputs": [],
   "source": [
    "# Define a function to determine the type of columns with Null values\n",
    "def determine_column_types(dataframe):\n",
    "    column_types = {}\n",
    "    for column in dataframe.columns:\n",
    "        # Check for Null values in the column\n",
    "        if dataframe[column].isnull().any():\n",
    "            # Determine the data type of the column\n",
    "            if pd.api.types.is_numeric_dtype(dataframe[column]):\n",
    "                column_types[column] = 'Numerical'\n",
    "            elif pd.api.types.is_string_dtype(dataframe[column]):\n",
    "                column_types[column] = 'Nominal'\n",
    "            elif pd.api.types.is_categorical_dtype(dataframe[column]):\n",
    "                column_types[column] = 'Ordinal'\n",
    "            else:\n",
    "                column_types[column] = 'Unknown'\n",
    "    return column_types"
   ]
  },
  {
   "cell_type": "code",
   "execution_count": 9,
   "id": "59277cfe",
   "metadata": {},
   "outputs": [],
   "source": [
    "# Call the function and store the column types with Null values\n",
    "column_types_with_nulls = determine_column_types(data)\n"
   ]
  },
  {
   "cell_type": "code",
   "execution_count": 10,
   "id": "b57effef",
   "metadata": {},
   "outputs": [
    {
     "name": "stdout",
     "output_type": "stream",
     "text": [
      "Columns and their data types with Null values:\n",
      "workclass: Nominal\n",
      "occupation: Nominal\n",
      "native-country: Nominal\n"
     ]
    }
   ],
   "source": [
    "# Print the columns with their corresponding data types\n",
    "print(\"Columns and their data types with Null values:\")\n",
    "for column, data_type in column_types_with_nulls.items():\n",
    "    print(f\"{column}: {data_type}\")"
   ]
  },
  {
   "cell_type": "code",
   "execution_count": 11,
   "id": "7f91018c",
   "metadata": {},
   "outputs": [],
   "source": [
    "# Delete all rows with Null values\n",
    "data_cleaned = data.dropna()\n"
   ]
  },
  {
   "cell_type": "code",
   "execution_count": 12,
   "id": "9992b663",
   "metadata": {},
   "outputs": [
    {
     "name": "stdout",
     "output_type": "stream",
     "text": [
      "age               0\n",
      "workclass         0\n",
      "fnlwgt            0\n",
      "education         0\n",
      "education-num     0\n",
      "marital-status    0\n",
      "occupation        0\n",
      "relationship      0\n",
      "race              0\n",
      "sex               0\n",
      "capital-gain      0\n",
      "capital-loss      0\n",
      "hours-per-week    0\n",
      "native-country    0\n",
      "income            0\n",
      "dtype: int64\n"
     ]
    }
   ],
   "source": [
    "# Print the number of Null values in all columns\n",
    "null_values_count = data_cleaned.isna().sum()\n",
    "print(null_values_count)"
   ]
  },
  {
   "cell_type": "code",
   "execution_count": 13,
   "id": "09ad969d",
   "metadata": {},
   "outputs": [],
   "source": [
    "# Define a function to fill Null values with the mode for categorical columns\n",
    "def fill_null_with_mode(dataframe):\n",
    "    for column in dataframe.columns:\n",
    "        # Check if the column is categorical and contains Null values\n",
    "        if dataframe[column].isnull().any() and dataframe[column].dtype == 'object':\n",
    "            # Find the mode of the column\n",
    "            mode_value = dataframe[column].mode()[0]\n",
    "            # Fill Null values with the mode\n",
    "            dataframe[column].fillna(mode_value, inplace=True)\n",
    "    return dataframe"
   ]
  },
  {
   "cell_type": "code",
   "execution_count": 16,
   "id": "7a067223",
   "metadata": {},
   "outputs": [],
   "source": [
    "# Call the function to fill Null values with the mode for categorical columns\n",
    "data_filled = fill_null_with_mode(data)"
   ]
  },
  {
   "cell_type": "code",
   "execution_count": 17,
   "id": "4df02f48",
   "metadata": {},
   "outputs": [
    {
     "name": "stdout",
     "output_type": "stream",
     "text": [
      "age               0\n",
      "workclass         0\n",
      "fnlwgt            0\n",
      "education         0\n",
      "education-num     0\n",
      "marital-status    0\n",
      "occupation        0\n",
      "relationship      0\n",
      "race              0\n",
      "sex               0\n",
      "capital-gain      0\n",
      "capital-loss      0\n",
      "hours-per-week    0\n",
      "native-country    0\n",
      "income            0\n",
      "dtype: int64\n"
     ]
    }
   ],
   "source": [
    "# Print the number of Null values in all columns to verify\n",
    "null_values_count = data_filled.isna().sum()\n",
    "print(null_values_count)"
   ]
  },
  {
   "cell_type": "code",
   "execution_count": 18,
   "id": "5d9e6204",
   "metadata": {},
   "outputs": [],
   "source": [
    "from scipy import stats\n",
    "def fill_null_with_mode(df):\n",
    "    # Iterate over each column in the DataFrame\n",
    "    for column in df.columns:\n",
    "        # Check if the column is categorical and has null values\n",
    "        if df[column].dtype == 'object' and df[column].isnull().sum() > 0:\n",
    "            # Find the mode of the column\n",
    "            mode_value = df[column].mode()[0]\n",
    "            # Fill null values with the mode\n",
    "            df[column].fillna(mode_value, inplace=True)\n",
    "    return df"
   ]
  },
  {
   "cell_type": "code",
   "execution_count": 19,
   "id": "11fdfff7",
   "metadata": {},
   "outputs": [],
   "source": [
    "# Fill null values with mode\n",
    "data = fill_null_with_mode(data)"
   ]
  },
  {
   "cell_type": "code",
   "execution_count": 20,
   "id": "afeb15c5",
   "metadata": {},
   "outputs": [
    {
     "name": "stdout",
     "output_type": "stream",
     "text": [
      "       age         workclass  fnlwgt  education  education-num  \\\n",
      "0       39         State-gov   77516  Bachelors             13   \n",
      "1       50  Self-emp-not-inc   83311  Bachelors             13   \n",
      "2       38           Private  215646    HS-grad              9   \n",
      "3       53           Private  234721       11th              7   \n",
      "4       28           Private  338409  Bachelors             13   \n",
      "...    ...               ...     ...        ...            ...   \n",
      "48837   39           Private  215419  Bachelors             13   \n",
      "48838   64           Private  321403    HS-grad              9   \n",
      "48839   38           Private  374983  Bachelors             13   \n",
      "48840   44           Private   83891  Bachelors             13   \n",
      "48841   35      Self-emp-inc  182148  Bachelors             13   \n",
      "\n",
      "           marital-status         occupation    relationship  \\\n",
      "0           Never-married       Adm-clerical   Not-in-family   \n",
      "1      Married-civ-spouse    Exec-managerial         Husband   \n",
      "2                Divorced  Handlers-cleaners   Not-in-family   \n",
      "3      Married-civ-spouse  Handlers-cleaners         Husband   \n",
      "4      Married-civ-spouse     Prof-specialty            Wife   \n",
      "...                   ...                ...             ...   \n",
      "48837            Divorced     Prof-specialty   Not-in-family   \n",
      "48838             Widowed     Prof-specialty  Other-relative   \n",
      "48839  Married-civ-spouse     Prof-specialty         Husband   \n",
      "48840            Divorced       Adm-clerical       Own-child   \n",
      "48841  Married-civ-spouse    Exec-managerial         Husband   \n",
      "\n",
      "                     race     sex  capital-gain  capital-loss  hours-per-week  \\\n",
      "0                   White    Male          2174             0              40   \n",
      "1                   White    Male             0             0              13   \n",
      "2                   White    Male             0             0              40   \n",
      "3                   Black    Male             0             0              40   \n",
      "4                   Black  Female             0             0              40   \n",
      "...                   ...     ...           ...           ...             ...   \n",
      "48837               White  Female             0             0              36   \n",
      "48838               Black    Male             0             0              40   \n",
      "48839               White    Male             0             0              50   \n",
      "48840  Asian-Pac-Islander    Male          5455             0              40   \n",
      "48841               White    Male             0             0              60   \n",
      "\n",
      "      native-country  income  \n",
      "0      United-States   <=50K  \n",
      "1      United-States   <=50K  \n",
      "2      United-States   <=50K  \n",
      "3      United-States   <=50K  \n",
      "4               Cuba   <=50K  \n",
      "...              ...     ...  \n",
      "48837  United-States  <=50K.  \n",
      "48838  United-States  <=50K.  \n",
      "48839  United-States  <=50K.  \n",
      "48840  United-States  <=50K.  \n",
      "48841  United-States   >50K.  \n",
      "\n",
      "[48842 rows x 15 columns]\n"
     ]
    }
   ],
   "source": [
    "# Print the result\n",
    "print(data)"
   ]
  },
  {
   "cell_type": "code",
   "execution_count": 21,
   "id": "8e4ad46a",
   "metadata": {},
   "outputs": [],
   "source": [
    "# Function to fill null values with mode for categorical columns\n",
    "def fill_null_with_mode(df):\n",
    "    for column in df.select_dtypes(include=['object']).columns:\n",
    "        if df[column].isnull().sum() > 0:\n",
    "            mode_value = df[column].mode()[0]\n",
    "            df[column].fillna(mode_value, inplace=True)\n",
    "    return df"
   ]
  },
  {
   "cell_type": "code",
   "execution_count": 22,
   "id": "675d8e51",
   "metadata": {},
   "outputs": [],
   "source": [
    "# Fill null values with mode\n",
    "data_filled = fill_null_with_mode(data)"
   ]
  },
  {
   "cell_type": "code",
   "execution_count": 23,
   "id": "adeb4a9e",
   "metadata": {},
   "outputs": [
    {
     "name": "stdout",
     "output_type": "stream",
     "text": [
      "       age         workclass  fnlwgt  education  education-num  \\\n",
      "0       39         State-gov   77516  Bachelors             13   \n",
      "1       50  Self-emp-not-inc   83311  Bachelors             13   \n",
      "2       38           Private  215646    HS-grad              9   \n",
      "3       53           Private  234721       11th              7   \n",
      "4       28           Private  338409  Bachelors             13   \n",
      "...    ...               ...     ...        ...            ...   \n",
      "48837   39           Private  215419  Bachelors             13   \n",
      "48838   64           Private  321403    HS-grad              9   \n",
      "48839   38           Private  374983  Bachelors             13   \n",
      "48840   44           Private   83891  Bachelors             13   \n",
      "48841   35      Self-emp-inc  182148  Bachelors             13   \n",
      "\n",
      "           marital-status         occupation    relationship  \\\n",
      "0           Never-married       Adm-clerical   Not-in-family   \n",
      "1      Married-civ-spouse    Exec-managerial         Husband   \n",
      "2                Divorced  Handlers-cleaners   Not-in-family   \n",
      "3      Married-civ-spouse  Handlers-cleaners         Husband   \n",
      "4      Married-civ-spouse     Prof-specialty            Wife   \n",
      "...                   ...                ...             ...   \n",
      "48837            Divorced     Prof-specialty   Not-in-family   \n",
      "48838             Widowed     Prof-specialty  Other-relative   \n",
      "48839  Married-civ-spouse     Prof-specialty         Husband   \n",
      "48840            Divorced       Adm-clerical       Own-child   \n",
      "48841  Married-civ-spouse    Exec-managerial         Husband   \n",
      "\n",
      "                     race     sex  capital-gain  capital-loss  hours-per-week  \\\n",
      "0                   White    Male          2174             0              40   \n",
      "1                   White    Male             0             0              13   \n",
      "2                   White    Male             0             0              40   \n",
      "3                   Black    Male             0             0              40   \n",
      "4                   Black  Female             0             0              40   \n",
      "...                   ...     ...           ...           ...             ...   \n",
      "48837               White  Female             0             0              36   \n",
      "48838               Black    Male             0             0              40   \n",
      "48839               White    Male             0             0              50   \n",
      "48840  Asian-Pac-Islander    Male          5455             0              40   \n",
      "48841               White    Male             0             0              60   \n",
      "\n",
      "      native-country  income  \n",
      "0      United-States   <=50K  \n",
      "1      United-States   <=50K  \n",
      "2      United-States   <=50K  \n",
      "3      United-States   <=50K  \n",
      "4               Cuba   <=50K  \n",
      "...              ...     ...  \n",
      "48837  United-States  <=50K.  \n",
      "48838  United-States  <=50K.  \n",
      "48839  United-States  <=50K.  \n",
      "48840  United-States  <=50K.  \n",
      "48841  United-States   >50K.  \n",
      "\n",
      "[48842 rows x 15 columns]\n"
     ]
    }
   ],
   "source": [
    "# Print the result\n",
    "print(data_filled)"
   ]
  },
  {
   "cell_type": "code",
   "execution_count": 24,
   "id": "d3e74ce8",
   "metadata": {},
   "outputs": [],
   "source": [
    "from sklearn.preprocessing import LabelEncoder"
   ]
  },
  {
   "cell_type": "code",
   "execution_count": 25,
   "id": "db157bd9",
   "metadata": {},
   "outputs": [],
   "source": [
    "# Initialize the LabelEncoder\n",
    "label_encoder = LabelEncoder()"
   ]
  },
  {
   "cell_type": "code",
   "execution_count": 26,
   "id": "99604202",
   "metadata": {},
   "outputs": [],
   "source": [
    "# Encode the 'income' column\n",
    "data['income_encoded'] = label_encoder.fit_transform(data['income'])"
   ]
  },
  {
   "cell_type": "code",
   "execution_count": 27,
   "id": "4d00d328",
   "metadata": {},
   "outputs": [
    {
     "name": "stdout",
     "output_type": "stream",
     "text": [
      "   age         workclass  fnlwgt  education  education-num  \\\n",
      "0   39         State-gov   77516  Bachelors             13   \n",
      "1   50  Self-emp-not-inc   83311  Bachelors             13   \n",
      "2   38           Private  215646    HS-grad              9   \n",
      "3   53           Private  234721       11th              7   \n",
      "4   28           Private  338409  Bachelors             13   \n",
      "\n",
      "       marital-status         occupation   relationship   race     sex  \\\n",
      "0       Never-married       Adm-clerical  Not-in-family  White    Male   \n",
      "1  Married-civ-spouse    Exec-managerial        Husband  White    Male   \n",
      "2            Divorced  Handlers-cleaners  Not-in-family  White    Male   \n",
      "3  Married-civ-spouse  Handlers-cleaners        Husband  Black    Male   \n",
      "4  Married-civ-spouse     Prof-specialty           Wife  Black  Female   \n",
      "\n",
      "   capital-gain  capital-loss  hours-per-week native-country income  \\\n",
      "0          2174             0              40  United-States  <=50K   \n",
      "1             0             0              13  United-States  <=50K   \n",
      "2             0             0              40  United-States  <=50K   \n",
      "3             0             0              40  United-States  <=50K   \n",
      "4             0             0              40           Cuba  <=50K   \n",
      "\n",
      "   income_encoded  \n",
      "0               0  \n",
      "1               0  \n",
      "2               0  \n",
      "3               0  \n",
      "4               0  \n"
     ]
    }
   ],
   "source": [
    "#Print the first few rows of the DataFrame to verify the encoding\n",
    "print(data.head())"
   ]
  },
  {
   "cell_type": "code",
   "execution_count": 28,
   "id": "4f3ac5b7",
   "metadata": {},
   "outputs": [],
   "source": [
    "def determine_column_types(df):\n",
    "    for column in df.columns:\n",
    "        # Check if the column is numerical\n",
    "        if np.issubdtype(df[column].dtype, np.number):\n",
    "            print(f\"Column '{column}' is numerical.\")\n",
    "        # Check if the column is categorical\n",
    "        elif pd.api.types.is_categorical_dtype(df[column]):\n",
    "            print(f\"Column '{column}' is categorical.\")\n",
    "        # Check if the column is datetime\n",
    "        elif pd.api.types.is_datetime64_any_dtype(df[column]):\n",
    "            print(f\"Column '{column}' is a date/time.\")\n",
    "        else:\n",
    "            print(f\"Column '{column}' is of type {df[column].dtype}, further inspection needed.\")\n"
   ]
  },
  {
   "cell_type": "code",
   "execution_count": 29,
   "id": "7cd86b73",
   "metadata": {},
   "outputs": [
    {
     "name": "stdout",
     "output_type": "stream",
     "text": [
      "Column 'age' is numerical.\n",
      "Column 'workclass' is of type object, further inspection needed.\n",
      "Column 'fnlwgt' is numerical.\n",
      "Column 'education' is of type object, further inspection needed.\n",
      "Column 'education-num' is numerical.\n",
      "Column 'marital-status' is of type object, further inspection needed.\n",
      "Column 'occupation' is of type object, further inspection needed.\n",
      "Column 'relationship' is of type object, further inspection needed.\n",
      "Column 'race' is of type object, further inspection needed.\n",
      "Column 'sex' is of type object, further inspection needed.\n",
      "Column 'capital-gain' is numerical.\n",
      "Column 'capital-loss' is numerical.\n",
      "Column 'hours-per-week' is numerical.\n",
      "Column 'native-country' is of type object, further inspection needed.\n",
      "Column 'income' is of type object, further inspection needed.\n",
      "Column 'income_encoded' is numerical.\n"
     ]
    }
   ],
   "source": [
    "determine_column_types(data)"
   ]
  },
  {
   "cell_type": "code",
   "execution_count": 30,
   "id": "073c3d84",
   "metadata": {},
   "outputs": [],
   "source": [
    "# Define the ordinal mapping for a hypothetical column 'education_level'\n",
    "education = {\n",
    "    'Bachelors': 0,\n",
    "    'HS-grad': 1,\n",
    "    '11th': 2,\n",
    "    'some-college': 3,\n",
    "    'Doctorate': 4,\n",
    "    'Assoc-acdm': 5\n",
    "}"
   ]
  },
  {
   "cell_type": "code",
   "execution_count": 31,
   "id": "96f1cd7f",
   "metadata": {},
   "outputs": [],
   "source": [
    "# Assume 'education' is the ordinal column you want to encode\n",
    "# Apply the mapping to the 'education' column\n",
    "data['education_level_encoded'] = data['education'].map(education)"
   ]
  },
  {
   "cell_type": "code",
   "execution_count": 32,
   "id": "41b2818d",
   "metadata": {},
   "outputs": [
    {
     "name": "stdout",
     "output_type": "stream",
     "text": [
      "   age         workclass  fnlwgt  education  education-num  \\\n",
      "0   39         State-gov   77516  Bachelors             13   \n",
      "1   50  Self-emp-not-inc   83311  Bachelors             13   \n",
      "2   38           Private  215646    HS-grad              9   \n",
      "3   53           Private  234721       11th              7   \n",
      "4   28           Private  338409  Bachelors             13   \n",
      "\n",
      "       marital-status         occupation   relationship   race     sex  \\\n",
      "0       Never-married       Adm-clerical  Not-in-family  White    Male   \n",
      "1  Married-civ-spouse    Exec-managerial        Husband  White    Male   \n",
      "2            Divorced  Handlers-cleaners  Not-in-family  White    Male   \n",
      "3  Married-civ-spouse  Handlers-cleaners        Husband  Black    Male   \n",
      "4  Married-civ-spouse     Prof-specialty           Wife  Black  Female   \n",
      "\n",
      "   capital-gain  capital-loss  hours-per-week native-country income  \\\n",
      "0          2174             0              40  United-States  <=50K   \n",
      "1             0             0              13  United-States  <=50K   \n",
      "2             0             0              40  United-States  <=50K   \n",
      "3             0             0              40  United-States  <=50K   \n",
      "4             0             0              40           Cuba  <=50K   \n",
      "\n",
      "   income_encoded  education_level_encoded  \n",
      "0               0                      0.0  \n",
      "1               0                      0.0  \n",
      "2               0                      1.0  \n",
      "3               0                      2.0  \n",
      "4               0                      0.0  \n"
     ]
    }
   ],
   "source": [
    "# Display the first few rows of the DataFrame to verify the encoding\n",
    "print(data.head())\n"
   ]
  },
  {
   "cell_type": "code",
   "execution_count": 33,
   "id": "2a8e4620",
   "metadata": {},
   "outputs": [],
   "source": [
    "# Assume 'occupation' is the nominal column you want to encode\n",
    "# Use get_dummies to perform one-hot encoding\n",
    "\n",
    "encoded_data = pd.get_dummies(data, columns=['occupation'])"
   ]
  },
  {
   "cell_type": "code",
   "execution_count": 34,
   "id": "9523c5c8",
   "metadata": {},
   "outputs": [
    {
     "name": "stdout",
     "output_type": "stream",
     "text": [
      "   age         workclass  fnlwgt  education  education-num  \\\n",
      "0   39         State-gov   77516  Bachelors             13   \n",
      "1   50  Self-emp-not-inc   83311  Bachelors             13   \n",
      "2   38           Private  215646    HS-grad              9   \n",
      "3   53           Private  234721       11th              7   \n",
      "4   28           Private  338409  Bachelors             13   \n",
      "\n",
      "       marital-status   relationship   race     sex  capital-gain  \\\n",
      "0       Never-married  Not-in-family  White    Male          2174   \n",
      "1  Married-civ-spouse        Husband  White    Male             0   \n",
      "2            Divorced  Not-in-family  White    Male             0   \n",
      "3  Married-civ-spouse        Husband  Black    Male             0   \n",
      "4  Married-civ-spouse           Wife  Black  Female             0   \n",
      "\n",
      "   capital-loss  hours-per-week native-country income  income_encoded  \\\n",
      "0             0              40  United-States  <=50K               0   \n",
      "1             0              13  United-States  <=50K               0   \n",
      "2             0              40  United-States  <=50K               0   \n",
      "3             0              40  United-States  <=50K               0   \n",
      "4             0              40           Cuba  <=50K               0   \n",
      "\n",
      "   education_level_encoded  occupation_?  occupation_Adm-clerical  \\\n",
      "0                      0.0             0                        1   \n",
      "1                      0.0             0                        0   \n",
      "2                      1.0             0                        0   \n",
      "3                      2.0             0                        0   \n",
      "4                      0.0             0                        0   \n",
      "\n",
      "   occupation_Armed-Forces  occupation_Craft-repair  \\\n",
      "0                        0                        0   \n",
      "1                        0                        0   \n",
      "2                        0                        0   \n",
      "3                        0                        0   \n",
      "4                        0                        0   \n",
      "\n",
      "   occupation_Exec-managerial  occupation_Farming-fishing  \\\n",
      "0                           0                           0   \n",
      "1                           1                           0   \n",
      "2                           0                           0   \n",
      "3                           0                           0   \n",
      "4                           0                           0   \n",
      "\n",
      "   occupation_Handlers-cleaners  occupation_Machine-op-inspct  \\\n",
      "0                             0                             0   \n",
      "1                             0                             0   \n",
      "2                             1                             0   \n",
      "3                             1                             0   \n",
      "4                             0                             0   \n",
      "\n",
      "   occupation_Other-service  occupation_Priv-house-serv  \\\n",
      "0                         0                           0   \n",
      "1                         0                           0   \n",
      "2                         0                           0   \n",
      "3                         0                           0   \n",
      "4                         0                           0   \n",
      "\n",
      "   occupation_Prof-specialty  occupation_Protective-serv  occupation_Sales  \\\n",
      "0                          0                           0                 0   \n",
      "1                          0                           0                 0   \n",
      "2                          0                           0                 0   \n",
      "3                          0                           0                 0   \n",
      "4                          1                           0                 0   \n",
      "\n",
      "   occupation_Tech-support  occupation_Transport-moving  \n",
      "0                        0                            0  \n",
      "1                        0                            0  \n",
      "2                        0                            0  \n",
      "3                        0                            0  \n",
      "4                        0                            0  \n"
     ]
    }
   ],
   "source": [
    "# Display the first few rows of the DataFrame to verify the encoding\n",
    "print(encoded_data.head())"
   ]
  },
  {
   "cell_type": "code",
   "execution_count": 35,
   "id": "c71d4e2b",
   "metadata": {},
   "outputs": [],
   "source": [
    "from sklearn.preprocessing import MinMaxScaler"
   ]
  },
  {
   "cell_type": "code",
   "execution_count": 36,
   "id": "34a401af",
   "metadata": {},
   "outputs": [],
   "source": [
    "# Initialize the MinMaxScaler\n",
    "scaler = MinMaxScaler()"
   ]
  },
  {
   "cell_type": "code",
   "execution_count": 37,
   "id": "cd5e45d9",
   "metadata": {},
   "outputs": [],
   "source": [
    "# Select the numerical columns in the dataset\n",
    "numerical_columns = data.select_dtypes(include=['int64', 'float64']).columns"
   ]
  },
  {
   "cell_type": "code",
   "execution_count": 38,
   "id": "5da7811c",
   "metadata": {},
   "outputs": [],
   "source": [
    "# Apply the scaler to the numerical columns\n",
    "data[numerical_columns] = scaler.fit_transform(data[numerical_columns])"
   ]
  },
  {
   "cell_type": "code",
   "execution_count": 39,
   "id": "45215d9b",
   "metadata": {},
   "outputs": [
    {
     "name": "stdout",
     "output_type": "stream",
     "text": [
      "        age         workclass    fnlwgt  education  education-num  \\\n",
      "0  0.301370         State-gov  0.044131  Bachelors       0.800000   \n",
      "1  0.452055  Self-emp-not-inc  0.048052  Bachelors       0.800000   \n",
      "2  0.287671           Private  0.137581    HS-grad       0.533333   \n",
      "3  0.493151           Private  0.150486       11th       0.400000   \n",
      "4  0.150685           Private  0.220635  Bachelors       0.800000   \n",
      "\n",
      "       marital-status         occupation   relationship   race     sex  \\\n",
      "0       Never-married       Adm-clerical  Not-in-family  White    Male   \n",
      "1  Married-civ-spouse    Exec-managerial        Husband  White    Male   \n",
      "2            Divorced  Handlers-cleaners  Not-in-family  White    Male   \n",
      "3  Married-civ-spouse  Handlers-cleaners        Husband  Black    Male   \n",
      "4  Married-civ-spouse     Prof-specialty           Wife  Black  Female   \n",
      "\n",
      "   capital-gain  capital-loss  hours-per-week native-country income  \\\n",
      "0       0.02174           0.0        0.397959  United-States  <=50K   \n",
      "1       0.00000           0.0        0.122449  United-States  <=50K   \n",
      "2       0.00000           0.0        0.397959  United-States  <=50K   \n",
      "3       0.00000           0.0        0.397959  United-States  <=50K   \n",
      "4       0.00000           0.0        0.397959           Cuba  <=50K   \n",
      "\n",
      "   income_encoded  education_level_encoded  \n",
      "0               0                      0.0  \n",
      "1               0                      0.0  \n",
      "2               0                      0.2  \n",
      "3               0                      0.4  \n",
      "4               0                      0.0  \n"
     ]
    }
   ],
   "source": [
    "print(data.head())"
   ]
  },
  {
   "cell_type": "code",
   "execution_count": null,
   "id": "8efb2e0b",
   "metadata": {},
   "outputs": [],
   "source": []
  }
 ],
 "metadata": {
  "kernelspec": {
   "display_name": "Python 3 (ipykernel)",
   "language": "python",
   "name": "python3"
  },
  "language_info": {
   "codemirror_mode": {
    "name": "ipython",
    "version": 3
   },
   "file_extension": ".py",
   "mimetype": "text/x-python",
   "name": "python",
   "nbconvert_exporter": "python",
   "pygments_lexer": "ipython3",
   "version": "3.11.4"
  }
 },
 "nbformat": 4,
 "nbformat_minor": 5
}
